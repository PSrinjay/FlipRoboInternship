{
 "cells": [
  {
   "cell_type": "code",
   "execution_count": 1,
   "metadata": {},
   "outputs": [
    {
     "name": "stdout",
     "output_type": "stream",
     "text": [
      "Requirement already satisfied: selenium in c:\\programdata\\anaconda3\\lib\\site-packages (3.141.0)\n",
      "Requirement already satisfied: urllib3 in c:\\programdata\\anaconda3\\lib\\site-packages (from selenium) (1.25.8)\n"
     ]
    }
   ],
   "source": [
    "! pip install selenium"
   ]
  },
  {
   "cell_type": "code",
   "execution_count": 1,
   "metadata": {},
   "outputs": [],
   "source": [
    "import selenium\n",
    "import pandas as pd\n",
    "from selenium import webdriver"
   ]
  },
  {
   "cell_type": "code",
   "execution_count": 3,
   "metadata": {},
   "outputs": [],
   "source": [
    "driver=webdriver.Edge(r\"C:\\Users\\srinj\\OneDrive\\Documents\\EGDownloads\\edgedriver_win64\\msedgedriver.exe\")"
   ]
  },
  {
   "cell_type": "code",
   "execution_count": 4,
   "metadata": {},
   "outputs": [],
   "source": [
    "url=\"https://www.naukri.com/\""
   ]
  },
  {
   "cell_type": "code",
   "execution_count": 5,
   "metadata": {},
   "outputs": [],
   "source": [
    "driver.get(url)"
   ]
  },
  {
   "cell_type": "code",
   "execution_count": 6,
   "metadata": {},
   "outputs": [],
   "source": [
    "job_titles=[]\n",
    "company_names=[]\n",
    "locations_list=[]\n",
    "experience_list=[]"
   ]
  },
  {
   "cell_type": "raw",
   "metadata": {},
   "source": [
    "driver.close()"
   ]
  },
  {
   "cell_type": "code",
   "execution_count": 7,
   "metadata": {},
   "outputs": [],
   "source": [
    "driver.find_element_by_xpath('//input[@class=\"sugInp\"]').send_keys('data analyst')"
   ]
  },
  {
   "cell_type": "code",
   "execution_count": 8,
   "metadata": {},
   "outputs": [],
   "source": [
    "driver.find_element_by_xpath('//input[@class=\"sugInp\" and @name=\"location\"]').send_keys('bangalore')"
   ]
  },
  {
   "cell_type": "code",
   "execution_count": 9,
   "metadata": {},
   "outputs": [],
   "source": [
    "driver.find_element_by_xpath('//div[@class=\"search-btn\"]').click()"
   ]
  },
  {
   "cell_type": "code",
   "execution_count": 10,
   "metadata": {},
   "outputs": [
    {
     "data": {
      "text/plain": [
       "[<selenium.webdriver.remote.webelement.WebElement (session=\"389628b6d5a216c2ff5608056abc35bc\", element=\"58a34533-def3-4df3-a2a7-634742799cc7\")>,\n",
       " <selenium.webdriver.remote.webelement.WebElement (session=\"389628b6d5a216c2ff5608056abc35bc\", element=\"c76c16cb-f356-467b-a13e-72028c194dba\")>,\n",
       " <selenium.webdriver.remote.webelement.WebElement (session=\"389628b6d5a216c2ff5608056abc35bc\", element=\"23ea765a-6622-4803-b616-19ae9228345f\")>,\n",
       " <selenium.webdriver.remote.webelement.WebElement (session=\"389628b6d5a216c2ff5608056abc35bc\", element=\"e15a8cf2-18c0-463f-a788-5e59fbd4c9d0\")>]"
      ]
     },
     "execution_count": 10,
     "metadata": {},
     "output_type": "execute_result"
    }
   ],
   "source": [
    "titles_tags=driver.find_elements_by_xpath(\"//a[@class='title fw500 ellipsis']\")\n",
    "titles_tags[0:4]"
   ]
  },
  {
   "cell_type": "code",
   "execution_count": 11,
   "metadata": {},
   "outputs": [
    {
     "data": {
      "text/plain": [
       "[<selenium.webdriver.remote.webelement.WebElement (session=\"389628b6d5a216c2ff5608056abc35bc\", element=\"58a34533-def3-4df3-a2a7-634742799cc7\")>,\n",
       " <selenium.webdriver.remote.webelement.WebElement (session=\"389628b6d5a216c2ff5608056abc35bc\", element=\"c76c16cb-f356-467b-a13e-72028c194dba\")>,\n",
       " <selenium.webdriver.remote.webelement.WebElement (session=\"389628b6d5a216c2ff5608056abc35bc\", element=\"23ea765a-6622-4803-b616-19ae9228345f\")>,\n",
       " <selenium.webdriver.remote.webelement.WebElement (session=\"389628b6d5a216c2ff5608056abc35bc\", element=\"e15a8cf2-18c0-463f-a788-5e59fbd4c9d0\")>,\n",
       " <selenium.webdriver.remote.webelement.WebElement (session=\"389628b6d5a216c2ff5608056abc35bc\", element=\"7cba6565-bed0-4cbb-af72-bf263b286351\")>,\n",
       " <selenium.webdriver.remote.webelement.WebElement (session=\"389628b6d5a216c2ff5608056abc35bc\", element=\"aa0888ce-a575-4cf9-8adb-e48bed631fe6\")>,\n",
       " <selenium.webdriver.remote.webelement.WebElement (session=\"389628b6d5a216c2ff5608056abc35bc\", element=\"0c0bc402-5ef3-48b8-8fcd-acf4056b5bd5\")>,\n",
       " <selenium.webdriver.remote.webelement.WebElement (session=\"389628b6d5a216c2ff5608056abc35bc\", element=\"ef442140-9646-4110-8011-0fb3729e3793\")>,\n",
       " <selenium.webdriver.remote.webelement.WebElement (session=\"389628b6d5a216c2ff5608056abc35bc\", element=\"0b01e373-6120-4730-a78b-c00ba4078193\")>,\n",
       " <selenium.webdriver.remote.webelement.WebElement (session=\"389628b6d5a216c2ff5608056abc35bc\", element=\"d6285f9b-ab54-4ca9-b8e8-5ef6203e360f\")>,\n",
       " <selenium.webdriver.remote.webelement.WebElement (session=\"389628b6d5a216c2ff5608056abc35bc\", element=\"a530f239-9d46-4498-85ce-e21ee5bf884b\")>,\n",
       " <selenium.webdriver.remote.webelement.WebElement (session=\"389628b6d5a216c2ff5608056abc35bc\", element=\"c1b997d5-7d1f-47c1-97a5-cd0a740943cc\")>,\n",
       " <selenium.webdriver.remote.webelement.WebElement (session=\"389628b6d5a216c2ff5608056abc35bc\", element=\"cb02ba19-a60f-4981-8ad2-98de181956e8\")>,\n",
       " <selenium.webdriver.remote.webelement.WebElement (session=\"389628b6d5a216c2ff5608056abc35bc\", element=\"3def50d4-c48b-4a2c-9228-2e35c9dd2bc0\")>,\n",
       " <selenium.webdriver.remote.webelement.WebElement (session=\"389628b6d5a216c2ff5608056abc35bc\", element=\"6a5474e5-27d4-4785-8c29-4cea88754a8b\")>,\n",
       " <selenium.webdriver.remote.webelement.WebElement (session=\"389628b6d5a216c2ff5608056abc35bc\", element=\"ecab9ce3-1932-487b-b7c2-48222684333a\")>,\n",
       " <selenium.webdriver.remote.webelement.WebElement (session=\"389628b6d5a216c2ff5608056abc35bc\", element=\"29859132-d76b-4cf7-905f-14e19816946d\")>,\n",
       " <selenium.webdriver.remote.webelement.WebElement (session=\"389628b6d5a216c2ff5608056abc35bc\", element=\"985fd203-0921-41ae-8586-9ac6810d9428\")>,\n",
       " <selenium.webdriver.remote.webelement.WebElement (session=\"389628b6d5a216c2ff5608056abc35bc\", element=\"b9e70ca4-a53b-4269-afb0-0d2f23fe0095\")>,\n",
       " <selenium.webdriver.remote.webelement.WebElement (session=\"389628b6d5a216c2ff5608056abc35bc\", element=\"d1afe2dc-95d1-4dbd-be5f-81ced7e3c57d\")>]"
      ]
     },
     "execution_count": 11,
     "metadata": {},
     "output_type": "execute_result"
    }
   ],
   "source": [
    "titles_tags"
   ]
  },
  {
   "cell_type": "code",
   "execution_count": 12,
   "metadata": {},
   "outputs": [
    {
     "data": {
      "text/plain": [
       "['Immediate opening For Data Scientist/Data Analyst',\n",
       " 'Hiring Data Analysts',\n",
       " 'Hiring Data Analysts',\n",
       " 'Data Analyst']"
      ]
     },
     "execution_count": 12,
     "metadata": {},
     "output_type": "execute_result"
    }
   ],
   "source": [
    "for i in titles_tags:\n",
    "    title=i.text\n",
    "    job_titles.append(title)\n",
    "job_titles[0:4]"
   ]
  },
  {
   "cell_type": "code",
   "execution_count": 13,
   "metadata": {},
   "outputs": [
    {
     "data": {
      "text/plain": [
       "[<selenium.webdriver.remote.webelement.WebElement (session=\"389628b6d5a216c2ff5608056abc35bc\", element=\"12237c75-9654-435b-b271-3bffd4761907\")>,\n",
       " <selenium.webdriver.remote.webelement.WebElement (session=\"389628b6d5a216c2ff5608056abc35bc\", element=\"fd7d658b-4c96-4ac1-847c-7a3691426f29\")>,\n",
       " <selenium.webdriver.remote.webelement.WebElement (session=\"389628b6d5a216c2ff5608056abc35bc\", element=\"9bde3430-e0f8-43ad-a395-d5b61648db86\")>,\n",
       " <selenium.webdriver.remote.webelement.WebElement (session=\"389628b6d5a216c2ff5608056abc35bc\", element=\"a21e13c6-5c51-441e-836f-f9c2967d93c5\")>]"
      ]
     },
     "execution_count": 13,
     "metadata": {},
     "output_type": "execute_result"
    }
   ],
   "source": [
    "companies_tags=driver.find_elements_by_xpath(\"//a[@class='subTitle ellipsis fleft']\")\n",
    "companies_tags[0:4]"
   ]
  },
  {
   "cell_type": "code",
   "execution_count": 14,
   "metadata": {},
   "outputs": [
    {
     "data": {
      "text/plain": [
       "['CAIA-Center For Artificial Intelligence & Advanced Analytics',\n",
       " 'Flipkart Internet Private Limited',\n",
       " 'Flipkart Internet Private Limited',\n",
       " 'Cognizant Technology Solutions India Ltd']"
      ]
     },
     "execution_count": 14,
     "metadata": {},
     "output_type": "execute_result"
    }
   ],
   "source": [
    "for i in companies_tags:\n",
    "    company=i.text\n",
    "    company_names.append(company)\n",
    "company_names[0:4]"
   ]
  },
  {
   "cell_type": "code",
   "execution_count": 15,
   "metadata": {},
   "outputs": [
    {
     "data": {
      "text/plain": [
       "[<selenium.webdriver.remote.webelement.WebElement (session=\"389628b6d5a216c2ff5608056abc35bc\", element=\"bb578c81-54b0-4f04-849b-6e04aa79d012\")>,\n",
       " <selenium.webdriver.remote.webelement.WebElement (session=\"389628b6d5a216c2ff5608056abc35bc\", element=\"3115aee4-b33c-41a9-af6f-a47822f6c134\")>,\n",
       " <selenium.webdriver.remote.webelement.WebElement (session=\"389628b6d5a216c2ff5608056abc35bc\", element=\"e58581d2-922c-4e93-9df5-0815e0e47f05\")>,\n",
       " <selenium.webdriver.remote.webelement.WebElement (session=\"389628b6d5a216c2ff5608056abc35bc\", element=\"80541aa9-bdde-4183-beb8-70b6f9d1e97d\")>]"
      ]
     },
     "execution_count": 15,
     "metadata": {},
     "output_type": "execute_result"
    }
   ],
   "source": [
    "location_tags=driver.find_elements_by_xpath(\"//li[@class='fleft grey-text br2 placeHolderLi location']\")\n",
    "location_tags[0:4]"
   ]
  },
  {
   "cell_type": "code",
   "execution_count": 16,
   "metadata": {},
   "outputs": [
    {
     "data": {
      "text/plain": [
       "['Chennai, Pune, Bengaluru, Hyderabad', 'Bengaluru', 'Bengaluru', 'Bengaluru']"
      ]
     },
     "execution_count": 16,
     "metadata": {},
     "output_type": "execute_result"
    }
   ],
   "source": [
    "for i in location_tags:\n",
    "    location=i.text\n",
    "    locations_list.append(location)\n",
    "locations_list[0:4]"
   ]
  },
  {
   "cell_type": "code",
   "execution_count": 17,
   "metadata": {},
   "outputs": [
    {
     "data": {
      "text/plain": [
       "[<selenium.webdriver.remote.webelement.WebElement (session=\"389628b6d5a216c2ff5608056abc35bc\", element=\"5f720f8a-0719-4156-b70e-014c0669cf46\")>,\n",
       " <selenium.webdriver.remote.webelement.WebElement (session=\"389628b6d5a216c2ff5608056abc35bc\", element=\"b03a0f1a-9552-4af5-b322-8252652ef915\")>,\n",
       " <selenium.webdriver.remote.webelement.WebElement (session=\"389628b6d5a216c2ff5608056abc35bc\", element=\"afd5fe77-cd9f-4452-b9ab-337a180eafc9\")>,\n",
       " <selenium.webdriver.remote.webelement.WebElement (session=\"389628b6d5a216c2ff5608056abc35bc\", element=\"cbe03cc7-c76f-4284-8c45-12dc66e57227\")>]"
      ]
     },
     "execution_count": 17,
     "metadata": {},
     "output_type": "execute_result"
    }
   ],
   "source": [
    "experience_tags=driver.find_elements_by_xpath(\"//li[@class='fleft grey-text br2 placeHolderLi experience']\")\n",
    "experience_tags[0:4]"
   ]
  },
  {
   "cell_type": "code",
   "execution_count": 18,
   "metadata": {},
   "outputs": [
    {
     "data": {
      "text/plain": [
       "['0-3 Yrs', '2-5 Yrs', '2-5 Yrs', '2-3 Yrs']"
      ]
     },
     "execution_count": 18,
     "metadata": {},
     "output_type": "execute_result"
    }
   ],
   "source": [
    "for i in experience_tags:\n",
    "    exp=i.text\n",
    "    experience_list.append(exp)\n",
    "experience_list[0:4]"
   ]
  },
  {
   "cell_type": "code",
   "execution_count": 19,
   "metadata": {},
   "outputs": [],
   "source": [
    "job_salary=[]"
   ]
  },
  {
   "cell_type": "code",
   "execution_count": 20,
   "metadata": {},
   "outputs": [
    {
     "data": {
      "text/plain": [
       "[<selenium.webdriver.remote.webelement.WebElement (session=\"389628b6d5a216c2ff5608056abc35bc\", element=\"20076ccb-f543-4dd7-9882-81bbea897ae0\")>,\n",
       " <selenium.webdriver.remote.webelement.WebElement (session=\"389628b6d5a216c2ff5608056abc35bc\", element=\"e540f0c6-35bf-4faa-8d25-4f752f2f8d50\")>,\n",
       " <selenium.webdriver.remote.webelement.WebElement (session=\"389628b6d5a216c2ff5608056abc35bc\", element=\"99a587cb-a309-4f69-b980-e9260bcf52ba\")>,\n",
       " <selenium.webdriver.remote.webelement.WebElement (session=\"389628b6d5a216c2ff5608056abc35bc\", element=\"c8e3010b-0c89-4cc2-b9d3-b4dabb7b20dc\")>]"
      ]
     },
     "execution_count": 20,
     "metadata": {},
     "output_type": "execute_result"
    }
   ],
   "source": [
    "salary_tags=driver.find_elements_by_xpath(\"//li[@class='fleft grey-text br2 placeHolderLi salary']\")\n",
    "salary_tags[0:4]"
   ]
  },
  {
   "cell_type": "code",
   "execution_count": 21,
   "metadata": {},
   "outputs": [
    {
     "data": {
      "text/plain": [
       "['3,50,000 - 4,50,000 PA.',\n",
       " '3,00,000 - 6,00,000 PA.',\n",
       " '2,50,000 - 5,50,000 PA.',\n",
       " 'Not disclosed']"
      ]
     },
     "execution_count": 21,
     "metadata": {},
     "output_type": "execute_result"
    }
   ],
   "source": [
    "for i in salary_tags:\n",
    "    salary=i.text\n",
    "    job_salary.append(salary)\n",
    "job_salary[0:4]"
   ]
  },
  {
   "cell_type": "code",
   "execution_count": 22,
   "metadata": {},
   "outputs": [],
   "source": [
    "import pandas as pd\n",
    "jobs=pd.DataFrame({})\n",
    "jobs['Title']=job_titles[0:10]\n",
    "jobs['Company']=company_names[0:10]\n",
    "jobs['Location']=locations_list[0:10]\n",
    "jobs['Experience']=experience_list[0:10]\n",
    "jobs['Salary']=job_salary[0:10]"
   ]
  },
  {
   "cell_type": "code",
   "execution_count": 23,
   "metadata": {},
   "outputs": [
    {
     "data": {
      "text/html": [
       "<div>\n",
       "<style scoped>\n",
       "    .dataframe tbody tr th:only-of-type {\n",
       "        vertical-align: middle;\n",
       "    }\n",
       "\n",
       "    .dataframe tbody tr th {\n",
       "        vertical-align: top;\n",
       "    }\n",
       "\n",
       "    .dataframe thead th {\n",
       "        text-align: right;\n",
       "    }\n",
       "</style>\n",
       "<table border=\"1\" class=\"dataframe\">\n",
       "  <thead>\n",
       "    <tr style=\"text-align: right;\">\n",
       "      <th></th>\n",
       "      <th>Title</th>\n",
       "      <th>Company</th>\n",
       "      <th>Location</th>\n",
       "      <th>Experience</th>\n",
       "      <th>Salary</th>\n",
       "    </tr>\n",
       "  </thead>\n",
       "  <tbody>\n",
       "    <tr>\n",
       "      <th>0</th>\n",
       "      <td>Immediate opening For Data Scientist/Data Analyst</td>\n",
       "      <td>CAIA-Center For Artificial Intelligence &amp; Adva...</td>\n",
       "      <td>Chennai, Pune, Bengaluru, Hyderabad</td>\n",
       "      <td>0-3 Yrs</td>\n",
       "      <td>3,50,000 - 4,50,000 PA.</td>\n",
       "    </tr>\n",
       "    <tr>\n",
       "      <th>1</th>\n",
       "      <td>Hiring Data Analysts</td>\n",
       "      <td>Flipkart Internet Private Limited</td>\n",
       "      <td>Bengaluru</td>\n",
       "      <td>2-5 Yrs</td>\n",
       "      <td>3,00,000 - 6,00,000 PA.</td>\n",
       "    </tr>\n",
       "    <tr>\n",
       "      <th>2</th>\n",
       "      <td>Hiring Data Analysts</td>\n",
       "      <td>Flipkart Internet Private Limited</td>\n",
       "      <td>Bengaluru</td>\n",
       "      <td>2-5 Yrs</td>\n",
       "      <td>2,50,000 - 5,50,000 PA.</td>\n",
       "    </tr>\n",
       "    <tr>\n",
       "      <th>3</th>\n",
       "      <td>Data Analyst</td>\n",
       "      <td>Cognizant Technology Solutions India Ltd</td>\n",
       "      <td>Bengaluru</td>\n",
       "      <td>2-3 Yrs</td>\n",
       "      <td>Not disclosed</td>\n",
       "    </tr>\n",
       "    <tr>\n",
       "      <th>4</th>\n",
       "      <td>Business Data Analyst</td>\n",
       "      <td>GENPACT India Private Limited</td>\n",
       "      <td>Bengaluru</td>\n",
       "      <td>3-6 Yrs</td>\n",
       "      <td>7,50,000 - 12,00,000 PA.</td>\n",
       "    </tr>\n",
       "    <tr>\n",
       "      <th>5</th>\n",
       "      <td>Data Analyst ( Predictive Modelling)</td>\n",
       "      <td>AVE-Promagne</td>\n",
       "      <td>Bengaluru</td>\n",
       "      <td>2-5 Yrs</td>\n",
       "      <td>Not disclosed</td>\n",
       "    </tr>\n",
       "    <tr>\n",
       "      <th>6</th>\n",
       "      <td>Data Scientist / Data Analyst</td>\n",
       "      <td>Altimetrik India Pvt. Ltd</td>\n",
       "      <td>Bengaluru</td>\n",
       "      <td>3-8 Yrs</td>\n",
       "      <td>Not disclosed</td>\n",
       "    </tr>\n",
       "    <tr>\n",
       "      <th>7</th>\n",
       "      <td>Data Analyst</td>\n",
       "      <td>Thinkbumblebee Analytics Pvt Ltd</td>\n",
       "      <td>Pune, Delhi, Mumbai, Bengaluru, Hyderabad</td>\n",
       "      <td>3-6 Yrs</td>\n",
       "      <td>Not disclosed</td>\n",
       "    </tr>\n",
       "    <tr>\n",
       "      <th>8</th>\n",
       "      <td>NiFi Data Analyst</td>\n",
       "      <td>Capgemini Technology Services India Limited</td>\n",
       "      <td>Bengaluru</td>\n",
       "      <td>6-9 Yrs</td>\n",
       "      <td>Not disclosed</td>\n",
       "    </tr>\n",
       "    <tr>\n",
       "      <th>9</th>\n",
       "      <td>Product Manager - Data Scientist / Data Analyst</td>\n",
       "      <td>Fortune HR Consultant</td>\n",
       "      <td>Bengaluru</td>\n",
       "      <td>2-7 Yrs</td>\n",
       "      <td>Not disclosed</td>\n",
       "    </tr>\n",
       "  </tbody>\n",
       "</table>\n",
       "</div>"
      ],
      "text/plain": [
       "                                               Title  \\\n",
       "0  Immediate opening For Data Scientist/Data Analyst   \n",
       "1                               Hiring Data Analysts   \n",
       "2                               Hiring Data Analysts   \n",
       "3                                       Data Analyst   \n",
       "4                              Business Data Analyst   \n",
       "5               Data Analyst ( Predictive Modelling)   \n",
       "6                      Data Scientist / Data Analyst   \n",
       "7                                       Data Analyst   \n",
       "8                                  NiFi Data Analyst   \n",
       "9    Product Manager - Data Scientist / Data Analyst   \n",
       "\n",
       "                                             Company  \\\n",
       "0  CAIA-Center For Artificial Intelligence & Adva...   \n",
       "1                  Flipkart Internet Private Limited   \n",
       "2                  Flipkart Internet Private Limited   \n",
       "3           Cognizant Technology Solutions India Ltd   \n",
       "4                      GENPACT India Private Limited   \n",
       "5                                       AVE-Promagne   \n",
       "6                          Altimetrik India Pvt. Ltd   \n",
       "7                   Thinkbumblebee Analytics Pvt Ltd   \n",
       "8        Capgemini Technology Services India Limited   \n",
       "9                              Fortune HR Consultant   \n",
       "\n",
       "                                    Location Experience  \\\n",
       "0        Chennai, Pune, Bengaluru, Hyderabad    0-3 Yrs   \n",
       "1                                  Bengaluru    2-5 Yrs   \n",
       "2                                  Bengaluru    2-5 Yrs   \n",
       "3                                  Bengaluru    2-3 Yrs   \n",
       "4                                  Bengaluru    3-6 Yrs   \n",
       "5                                  Bengaluru    2-5 Yrs   \n",
       "6                                  Bengaluru    3-8 Yrs   \n",
       "7  Pune, Delhi, Mumbai, Bengaluru, Hyderabad    3-6 Yrs   \n",
       "8                                  Bengaluru    6-9 Yrs   \n",
       "9                                  Bengaluru    2-7 Yrs   \n",
       "\n",
       "                     Salary  \n",
       "0   3,50,000 - 4,50,000 PA.  \n",
       "1   3,00,000 - 6,00,000 PA.  \n",
       "2   2,50,000 - 5,50,000 PA.  \n",
       "3             Not disclosed  \n",
       "4  7,50,000 - 12,00,000 PA.  \n",
       "5             Not disclosed  \n",
       "6             Not disclosed  \n",
       "7             Not disclosed  \n",
       "8             Not disclosed  \n",
       "9             Not disclosed  "
      ]
     },
     "execution_count": 23,
     "metadata": {},
     "output_type": "execute_result"
    }
   ],
   "source": [
    "jobs"
   ]
  },
  {
   "cell_type": "code",
   "execution_count": 24,
   "metadata": {},
   "outputs": [],
   "source": [
    "driver.close()"
   ]
  },
  {
   "cell_type": "markdown",
   "metadata": {},
   "source": [
    "# 2"
   ]
  },
  {
   "cell_type": "code",
   "execution_count": 25,
   "metadata": {},
   "outputs": [],
   "source": [
    "driver=webdriver.Edge(r\"C:\\Users\\srinj\\OneDrive\\Documents\\EGDownloads\\edgedriver_win64\\msedgedriver.exe\")"
   ]
  },
  {
   "cell_type": "code",
   "execution_count": 26,
   "metadata": {},
   "outputs": [],
   "source": [
    "url=\"https://www.naukri.com/\""
   ]
  },
  {
   "cell_type": "code",
   "execution_count": 27,
   "metadata": {},
   "outputs": [],
   "source": [
    "driver.get(url)"
   ]
  },
  {
   "cell_type": "code",
   "execution_count": 28,
   "metadata": {},
   "outputs": [],
   "source": [
    "driver.find_element_by_xpath('//input[@class=\"sugInp\"]').send_keys('data analyst')"
   ]
  },
  {
   "cell_type": "code",
   "execution_count": 29,
   "metadata": {},
   "outputs": [],
   "source": [
    "driver.find_element_by_xpath('//input[@class=\"sugInp\" and @name=\"location\"]').send_keys('bangalore')"
   ]
  },
  {
   "cell_type": "code",
   "execution_count": 30,
   "metadata": {},
   "outputs": [],
   "source": [
    "driver.find_element_by_xpath('//div[@class=\"search-btn\"]').click()"
   ]
  },
  {
   "cell_type": "code",
   "execution_count": 32,
   "metadata": {},
   "outputs": [],
   "source": [
    "driver.find_element_by_xpath('//a[@class=\"title fw500 ellipsis\"]').click()"
   ]
  },
  {
   "cell_type": "code",
   "execution_count": 33,
   "metadata": {},
   "outputs": [],
   "source": [
    "driver.close()"
   ]
  },
  {
   "cell_type": "code",
   "execution_count": 34,
   "metadata": {},
   "outputs": [],
   "source": [
    "driver=webdriver.Edge(r\"C:\\Users\\srinj\\OneDrive\\Documents\\EGDownloads\\edgedriver_win64\\msedgedriver.exe\")"
   ]
  },
  {
   "cell_type": "code",
   "execution_count": 35,
   "metadata": {},
   "outputs": [],
   "source": [
    "url='https://www.naukri.com/job-listings-immediate-opening-for-data-scientist-data-analyst-caia-center-for-artificial-intelligence-advanced-analytics-chennai-pune-bengaluru-bangalore-hyderabad-secunderabad-0-to-3-years-210920000599?src=jobsearchDesk&sid=16071845687252900&xp=1&px=1'"
   ]
  },
  {
   "cell_type": "code",
   "execution_count": 36,
   "metadata": {},
   "outputs": [],
   "source": [
    "driver.get(url)"
   ]
  },
  {
   "cell_type": "code",
   "execution_count": 37,
   "metadata": {},
   "outputs": [
    {
     "data": {
      "text/plain": [
       "[<selenium.webdriver.remote.webelement.WebElement (session=\"56f589f8ef57f90a98f98bc80103ec38\", element=\"1aca257b-0c0f-4ac6-a20c-71b08195e221\")>]"
      ]
     },
     "execution_count": 37,
     "metadata": {},
     "output_type": "execute_result"
    }
   ],
   "source": [
    "job_desc=driver.find_elements_by_xpath(\"//section[@class='job-desc']\")\n",
    "job_desc"
   ]
  },
  {
   "cell_type": "code",
   "execution_count": 38,
   "metadata": {},
   "outputs": [],
   "source": [
    "job_description=[]"
   ]
  },
  {
   "cell_type": "code",
   "execution_count": 39,
   "metadata": {},
   "outputs": [
    {
     "data": {
      "text/plain": [
       "['Job description\\nDear Candidate\\n\\nSchedule a Telephonic Interview ( Please call for confirmation) : Mon- Sat from 11:00am to 5:00pm\\n\\nOR Walk-In to the Corporate office between Monday to Friday from 11:00am to 5:00pm (Date : 19th October onwards)\\nContact person :\\n\\nManigandan -+91 7299917200\\nShantha +91 9790993237\\n\\n\\nSystech Solutions\\nTemple Steps\\nTower 3, 6th Floor\\n184-187 Anna Salai\\nSaidapet, Chennai 600015\\nIndia (Near Little Mount Metro Station)\\nRoles and Responsibilities\\n\\nGreetings from CAIA !\\nA great opportunity to enter the world of future technologies - Data Science, Analytics, AI, Data Visualization\\nApplications invited from all Freshers and experienced candidates aspiring to make a career in Artificial Intelligence and Advanced Analytics and Data Science.\\nIn case you are trying to shift your career to Analytics and/or AI domain please do connect with us to know more.\\nWhat is needed from you?\\n- An Educational background in any one of the following- BE/B.Tech, ME/M Tech, MSc, BSc/MSc Maths and Statistics, B Com, BCA, BSc CS, BSC IT, MSC IT, MCA\\n- Skills relating to Mathematics/Statistics.\\n- Natural passion towards numbers, business, coding, Analytics and Artificial Intelligence, Machine Learning, visualization\\n- Good verbal and written communication skills\\n- Ability to understand domains in businesses across various sectors\\n- Freshers who wish to start their career in Analytics and AI and professionals who wish to up skill or change their domain to analytics and emerging technologies are free to apply.\\nSelection procedure includes\\n- Online Aptitude Test\\n- Logical Ability Test / Written Test\\nOn being shortlisted, you will be have to undergo a one-one discussion with our counsellor for further evaluation and processing of your Resume.\\nWhat you can expect from us?\\nYou will get trained on the following modules for a period of 12-14 weeks:\\n-SQL & PLSQL\\n-Data Wrangling using Python\\n-Statistics for Machine Learning,\\n-Artificial Intelligence, Data Interpretation\\n-Supervised & Unsupervised Learning,\\n-NLP & Deep Learning\\n-Cloud Data Lake\\n-Business intelligence & Data Visualization\\n-Simulation Projects\\nWhat is the expected Outcome?\\nAt the end of the Training you are expected to be well versed with the following:\\n- Analysis of large and complex data sets from multiple sources\\n- Development and evaluation of data analytics models, algorithms and solutions\\n- Understanding/implementation of ML algorithms, performance tuning and reporting\\n- Implementation of algorithms to mine targeted data and the ability to convert data into a business story\\n- Translation of business requirements into technical requirements; Data extraction, preparation and transformation\\n- Identification, development and implementation of statistical techniques and algorithms that address business challenges and adds value to the organisation\\n- Requirement Analysis and communication of findings in the form of a meaningful story with the stakeholders\\nCenter for Artificial Intelligence & Advanced Analytics (CAIA) focuses on the following:\\n1. Global Research on emerging trends, technologies and applications in AI and Advanced Analytics\\n2. Advanced Training programs for readying the future ready workforce\\n3. Solutions to herald the futuristic lifestyle and workspaces in the field of AI and Data Science.\\nhttp://www.centerforaia.com/\\nCenter for Artificial Intelligence and Advanced Analytics (Center for AIA) is the brainchild of experienced and visionary alumni of IIT Madras and Bombay. Digital leaders 5F World and Systech Solutions have joined hands to create a venture for architecting the future of society, workforce, governments and businesses. 5F World specializes in designing solutions around digital platforms and Systech Solutions has an expertise in architecting Artificial Intelligence and Advanced Analytics solutions for Fortune 500 companies through specialized programmed.\\n5F World\\n5F World is a leader in digital transformational journeys and has brought together the best minds in industry, academia and technology domains to develop a unique framework to transform stakeholder journeys through innovation and digitalization of businesses and education institutions.\\nSystech Solutions\\nSystech Solutions is a leading organisation in Data Strategy, Management & Analytics services provider with deep technology expertise and over 20 years of industry experience. Systech Solutions helps empower clients with innovative, data-driven solutions to reimagine their enterprise and has forged partnerships with industry-leading technology providers to develop a full spectrum of data services.\\n\\nWebsite\\nhttp://www.centerforaia.com/\\n\\nhttps://inflexion-analytix-private-limited.business.site/?m=true\\n\\n\\n\\nContact Person\\nShantha/Manigandan\\nPhone Number\\n9790993237 / 7299917200\\nEmail\\nmanigandan@centerforaia.com\\n\\nDesired Candidate Profile\\n\\nPerks and Benefits\\n\\nRoleBusiness Analyst\\nIndustry TypeBPO, Call Centre, ITeS\\nFunctional AreaIT Software - DBA, Datawarehousing\\nEmployment TypeFull Time, Permanent\\nRole CategorySystem Design/Implementation/ERP/CRM\\nEducation\\nUG :B.Com in Any Specialization, B.Tech/B.E. in Any Specialization, Any Graduate in Any Specialization, Other Graduate, B.Sc in Any Specialization, Diploma in Any Specialization\\nPG :MS/M.Sc(Science) in Any Specialization, Other, M.Com in Any Specialization, PG Diploma in Any Specialization, MCA in Any Specialization, MBA/PGDM in Any Specialization, Post Graduation Not Required, M.Tech in Any Specialization\\nKey Skills\\nBusiness IntelligenceArtificial IntelligenceNatural Language ProcessingNeural NetworksData MiningMachine LearningDeep LearningSQLData ScienceRNLPCloud ComputingData AnalysisPLSQLData WarehousingETLPredictive AnalyticsPython']"
      ]
     },
     "execution_count": 39,
     "metadata": {},
     "output_type": "execute_result"
    }
   ],
   "source": [
    "for i in job_desc:\n",
    "    desc=i.text\n",
    "    job_description.append(desc)\n",
    "job_description[0:4]"
   ]
  },
  {
   "cell_type": "code",
   "execution_count": 40,
   "metadata": {},
   "outputs": [],
   "source": [
    "driver.close()"
   ]
  },
  {
   "cell_type": "code",
   "execution_count": 41,
   "metadata": {},
   "outputs": [],
   "source": [
    "driver=webdriver.Edge(r\"C:\\Users\\srinj\\OneDrive\\Documents\\EGDownloads\\edgedriver_win64\\msedgedriver.exe\")"
   ]
  },
  {
   "cell_type": "code",
   "execution_count": 42,
   "metadata": {},
   "outputs": [],
   "source": [
    "url='https://www.naukri.com/job-listings-hiring-data-analysts-flipkart-internet-private-limited-bengaluru-bangalore-2-to-5-years-241120000082?src=jobsearchDesk&sid=1607223984271417&xp=2&px=1'"
   ]
  },
  {
   "cell_type": "code",
   "execution_count": 44,
   "metadata": {},
   "outputs": [],
   "source": [
    "driver.get(url)"
   ]
  },
  {
   "cell_type": "code",
   "execution_count": 49,
   "metadata": {},
   "outputs": [
    {
     "data": {
      "text/plain": [
       "[<selenium.webdriver.remote.webelement.WebElement (session=\"f7a799e324e3d7a60cf99ff4a4e2f89c\", element=\"36a91a38-19d1-420d-a8a3-a39d9c4b05b2\")>]"
      ]
     },
     "execution_count": 49,
     "metadata": {},
     "output_type": "execute_result"
    }
   ],
   "source": [
    "job_desc1=driver.find_elements_by_xpath(\"//section[@class='job-desc']\")\n",
    "job_desc1"
   ]
  },
  {
   "cell_type": "code",
   "execution_count": 50,
   "metadata": {},
   "outputs": [
    {
     "data": {
      "text/plain": [
       "['Job description\\nDear Candidate\\n\\nSchedule a Telephonic Interview ( Please call for confirmation) : Mon- Sat from 11:00am to 5:00pm\\n\\nOR Walk-In to the Corporate office between Monday to Friday from 11:00am to 5:00pm (Date : 19th October onwards)\\nContact person :\\n\\nManigandan -+91 7299917200\\nShantha +91 9790993237\\n\\n\\nSystech Solutions\\nTemple Steps\\nTower 3, 6th Floor\\n184-187 Anna Salai\\nSaidapet, Chennai 600015\\nIndia (Near Little Mount Metro Station)\\nRoles and Responsibilities\\n\\nGreetings from CAIA !\\nA great opportunity to enter the world of future technologies - Data Science, Analytics, AI, Data Visualization\\nApplications invited from all Freshers and experienced candidates aspiring to make a career in Artificial Intelligence and Advanced Analytics and Data Science.\\nIn case you are trying to shift your career to Analytics and/or AI domain please do connect with us to know more.\\nWhat is needed from you?\\n- An Educational background in any one of the following- BE/B.Tech, ME/M Tech, MSc, BSc/MSc Maths and Statistics, B Com, BCA, BSc CS, BSC IT, MSC IT, MCA\\n- Skills relating to Mathematics/Statistics.\\n- Natural passion towards numbers, business, coding, Analytics and Artificial Intelligence, Machine Learning, visualization\\n- Good verbal and written communication skills\\n- Ability to understand domains in businesses across various sectors\\n- Freshers who wish to start their career in Analytics and AI and professionals who wish to up skill or change their domain to analytics and emerging technologies are free to apply.\\nSelection procedure includes\\n- Online Aptitude Test\\n- Logical Ability Test / Written Test\\nOn being shortlisted, you will be have to undergo a one-one discussion with our counsellor for further evaluation and processing of your Resume.\\nWhat you can expect from us?\\nYou will get trained on the following modules for a period of 12-14 weeks:\\n-SQL & PLSQL\\n-Data Wrangling using Python\\n-Statistics for Machine Learning,\\n-Artificial Intelligence, Data Interpretation\\n-Supervised & Unsupervised Learning,\\n-NLP & Deep Learning\\n-Cloud Data Lake\\n-Business intelligence & Data Visualization\\n-Simulation Projects\\nWhat is the expected Outcome?\\nAt the end of the Training you are expected to be well versed with the following:\\n- Analysis of large and complex data sets from multiple sources\\n- Development and evaluation of data analytics models, algorithms and solutions\\n- Understanding/implementation of ML algorithms, performance tuning and reporting\\n- Implementation of algorithms to mine targeted data and the ability to convert data into a business story\\n- Translation of business requirements into technical requirements; Data extraction, preparation and transformation\\n- Identification, development and implementation of statistical techniques and algorithms that address business challenges and adds value to the organisation\\n- Requirement Analysis and communication of findings in the form of a meaningful story with the stakeholders\\nCenter for Artificial Intelligence & Advanced Analytics (CAIA) focuses on the following:\\n1. Global Research on emerging trends, technologies and applications in AI and Advanced Analytics\\n2. Advanced Training programs for readying the future ready workforce\\n3. Solutions to herald the futuristic lifestyle and workspaces in the field of AI and Data Science.\\nhttp://www.centerforaia.com/\\nCenter for Artificial Intelligence and Advanced Analytics (Center for AIA) is the brainchild of experienced and visionary alumni of IIT Madras and Bombay. Digital leaders 5F World and Systech Solutions have joined hands to create a venture for architecting the future of society, workforce, governments and businesses. 5F World specializes in designing solutions around digital platforms and Systech Solutions has an expertise in architecting Artificial Intelligence and Advanced Analytics solutions for Fortune 500 companies through specialized programmed.\\n5F World\\n5F World is a leader in digital transformational journeys and has brought together the best minds in industry, academia and technology domains to develop a unique framework to transform stakeholder journeys through innovation and digitalization of businesses and education institutions.\\nSystech Solutions\\nSystech Solutions is a leading organisation in Data Strategy, Management & Analytics services provider with deep technology expertise and over 20 years of industry experience. Systech Solutions helps empower clients with innovative, data-driven solutions to reimagine their enterprise and has forged partnerships with industry-leading technology providers to develop a full spectrum of data services.\\n\\nWebsite\\nhttp://www.centerforaia.com/\\n\\nhttps://inflexion-analytix-private-limited.business.site/?m=true\\n\\n\\n\\nContact Person\\nShantha/Manigandan\\nPhone Number\\n9790993237 / 7299917200\\nEmail\\nmanigandan@centerforaia.com\\n\\nDesired Candidate Profile\\n\\nPerks and Benefits\\n\\nRoleBusiness Analyst\\nIndustry TypeBPO, Call Centre, ITeS\\nFunctional AreaIT Software - DBA, Datawarehousing\\nEmployment TypeFull Time, Permanent\\nRole CategorySystem Design/Implementation/ERP/CRM\\nEducation\\nUG :B.Com in Any Specialization, B.Tech/B.E. in Any Specialization, Any Graduate in Any Specialization, Other Graduate, B.Sc in Any Specialization, Diploma in Any Specialization\\nPG :MS/M.Sc(Science) in Any Specialization, Other, M.Com in Any Specialization, PG Diploma in Any Specialization, MCA in Any Specialization, MBA/PGDM in Any Specialization, Post Graduation Not Required, M.Tech in Any Specialization\\nKey Skills\\nBusiness IntelligenceArtificial IntelligenceNatural Language ProcessingNeural NetworksData MiningMachine LearningDeep LearningSQLData ScienceRNLPCloud ComputingData AnalysisPLSQLData WarehousingETLPredictive AnalyticsPython',\n",
       " \"Job description\\nHiring Data Analyst profile on the third-party payroll(contractual role 1yr and can be extendable based on performance)\\nResponsibilities And Duties\\nWork closely with the team to understand their requirement to ensure information/reports on a priority basis.\\nCreate processes and methods to gather supply chain data.\\nPreparing Daily, weekly and monthly reports.\\nSync up & collaborate with Multiple Stakeholders to complete daily critical tasks.\\nImprove existing and design new MIS reports for making informed decision making.\\nPreparing Presentations, writing reports for the business teams.\\nAnalysis and collecting reports for multiple functions\\nReport anomalies and findings. \\nTrack KPI's and report on the performance\\nRequired Experience, Skills, And Qualifications\\nMust have an excellent understanding of SQL, R/ Python(Added Advantage) & MS Excel\\nShould have hands-on experience in processing huge datasets\\nUnderstanding and good hold over KPI's.\\n1-5 years of relevant work ex\\nGood command of English, Hindi\\nProactiveness, listening skills, service orientation, Integrity\\nShould have good analytical skills\\nExposure to the eCommerce industry will be Preferred\\nPerks and Benefits\\n\\nRole: Data Analyst\\nExperience: 1yrs to 6 yrs\\nQualification: Any Graduate\\nJob Locations: Bangalore\\nSector - E-commerce, supply chain or logistics\\nCTC - up to 6.5LPA\\nInterested candidates can share their updated profile to smitashree.p@flipkart.com\\nRoleData Analyst\\nIndustry TypeInternet, Ecommerce\\nFunctional AreaAnalytics & Business Intelligence\\nEmployment TypeFull Time, Temporary/Contractual\\nRole CategoryAnalytics & BI\\nEducation\\nUG :Any Graduate in Any Specialization\\nKey Skills\\nBusiness IntelligenceAutomationExcelBusiness AnalyticsData AnalysisData VisualizationData MiningData AnalyticsAnalyticsSQLBusiness AnalysisPython\",\n",
       " \"Job description\\nHiring Data Analyst profile on the third-party payroll(contractual role 1yr and can be extendable based on performance)\\nResponsibilities And Duties\\nWork closely with the team to understand their requirement to ensure information/reports on a priority basis.\\nCreate processes and methods to gather supply chain data.\\nPreparing Daily, weekly and monthly reports.\\nSync up & collaborate with Multiple Stakeholders to complete daily critical tasks.\\nImprove existing and design new MIS reports for making informed decision making.\\nPreparing Presentations, writing reports for the business teams.\\nAnalysis and collecting reports for multiple functions\\nReport anomalies and findings. \\nTrack KPI's and report on the performance\\nRequired Experience, Skills, And Qualifications\\nMust have an excellent understanding of SQL, R/ Python(Added Advantage) & MS Excel\\nShould have hands-on experience in processing huge datasets\\nUnderstanding and good hold over KPI's.\\n1-5 years of relevant work ex\\nGood command of English, Hindi\\nProactiveness, listening skills, service orientation, Integrity\\nShould have good analytical skills\\nExposure to the eCommerce industry will be Preferred\\nPerks and Benefits\\n\\nRole: Data Analyst\\nExperience: 1yrs to 6 yrs\\nQualification: Any Graduate\\nJob Locations: Bangalore\\nSector - E-commerce, supply chain or logistics\\nCTC - up to 6.5LPA\\nInterested candidates can share their updated profile to smitashree.p@flipkart.com\\nRoleData Analyst\\nIndustry TypeInternet, Ecommerce\\nFunctional AreaAnalytics & Business Intelligence\\nEmployment TypeFull Time, Temporary/Contractual\\nRole CategoryAnalytics & BI\\nEducation\\nUG :Any Graduate in Any Specialization\\nKey Skills\\nBusiness IntelligenceAutomationExcelBusiness AnalyticsData AnalysisData VisualizationData MiningData AnalyticsAnalyticsSQLBusiness AnalysisPython\"]"
      ]
     },
     "execution_count": 50,
     "metadata": {},
     "output_type": "execute_result"
    }
   ],
   "source": [
    "for i in job_desc1:\n",
    "    desc=i.text\n",
    "    job_description.append(desc)\n",
    "job_description"
   ]
  },
  {
   "cell_type": "code",
   "execution_count": 51,
   "metadata": {},
   "outputs": [],
   "source": [
    "driver.close()"
   ]
  },
  {
   "cell_type": "code",
   "execution_count": 54,
   "metadata": {},
   "outputs": [],
   "source": [
    "driver=webdriver.Edge(r\"C:\\Users\\srinj\\OneDrive\\Documents\\EGDownloads\\edgedriver_win64\\msedgedriver.exe\")"
   ]
  },
  {
   "cell_type": "code",
   "execution_count": 55,
   "metadata": {},
   "outputs": [],
   "source": [
    "url=\"https://www.naukri.com/job-listings-hiring-data-analysts-flipkart-internet-private-limited-bengaluru-bangalore-2-to-5-years-041220003590?src=jobsearchDesk&sid=1607223984271417&xp=3&px=1\""
   ]
  },
  {
   "cell_type": "code",
   "execution_count": 56,
   "metadata": {},
   "outputs": [],
   "source": [
    "driver.get(url)"
   ]
  },
  {
   "cell_type": "code",
   "execution_count": 57,
   "metadata": {},
   "outputs": [
    {
     "data": {
      "text/plain": [
       "[<selenium.webdriver.remote.webelement.WebElement (session=\"a51a9f151d034ce3e78f73b090fbe064\", element=\"d6b3abd6-ca20-4487-852e-582f6ce05e45\")>]"
      ]
     },
     "execution_count": 57,
     "metadata": {},
     "output_type": "execute_result"
    }
   ],
   "source": [
    "job_desc2=driver.find_elements_by_xpath(\"//section[@class='job-desc']\")\n",
    "job_desc2"
   ]
  },
  {
   "cell_type": "code",
   "execution_count": 58,
   "metadata": {},
   "outputs": [
    {
     "data": {
      "text/plain": [
       "['Job description\\nDear Candidate\\n\\nSchedule a Telephonic Interview ( Please call for confirmation) : Mon- Sat from 11:00am to 5:00pm\\n\\nOR Walk-In to the Corporate office between Monday to Friday from 11:00am to 5:00pm (Date : 19th October onwards)\\nContact person :\\n\\nManigandan -+91 7299917200\\nShantha +91 9790993237\\n\\n\\nSystech Solutions\\nTemple Steps\\nTower 3, 6th Floor\\n184-187 Anna Salai\\nSaidapet, Chennai 600015\\nIndia (Near Little Mount Metro Station)\\nRoles and Responsibilities\\n\\nGreetings from CAIA !\\nA great opportunity to enter the world of future technologies - Data Science, Analytics, AI, Data Visualization\\nApplications invited from all Freshers and experienced candidates aspiring to make a career in Artificial Intelligence and Advanced Analytics and Data Science.\\nIn case you are trying to shift your career to Analytics and/or AI domain please do connect with us to know more.\\nWhat is needed from you?\\n- An Educational background in any one of the following- BE/B.Tech, ME/M Tech, MSc, BSc/MSc Maths and Statistics, B Com, BCA, BSc CS, BSC IT, MSC IT, MCA\\n- Skills relating to Mathematics/Statistics.\\n- Natural passion towards numbers, business, coding, Analytics and Artificial Intelligence, Machine Learning, visualization\\n- Good verbal and written communication skills\\n- Ability to understand domains in businesses across various sectors\\n- Freshers who wish to start their career in Analytics and AI and professionals who wish to up skill or change their domain to analytics and emerging technologies are free to apply.\\nSelection procedure includes\\n- Online Aptitude Test\\n- Logical Ability Test / Written Test\\nOn being shortlisted, you will be have to undergo a one-one discussion with our counsellor for further evaluation and processing of your Resume.\\nWhat you can expect from us?\\nYou will get trained on the following modules for a period of 12-14 weeks:\\n-SQL & PLSQL\\n-Data Wrangling using Python\\n-Statistics for Machine Learning,\\n-Artificial Intelligence, Data Interpretation\\n-Supervised & Unsupervised Learning,\\n-NLP & Deep Learning\\n-Cloud Data Lake\\n-Business intelligence & Data Visualization\\n-Simulation Projects\\nWhat is the expected Outcome?\\nAt the end of the Training you are expected to be well versed with the following:\\n- Analysis of large and complex data sets from multiple sources\\n- Development and evaluation of data analytics models, algorithms and solutions\\n- Understanding/implementation of ML algorithms, performance tuning and reporting\\n- Implementation of algorithms to mine targeted data and the ability to convert data into a business story\\n- Translation of business requirements into technical requirements; Data extraction, preparation and transformation\\n- Identification, development and implementation of statistical techniques and algorithms that address business challenges and adds value to the organisation\\n- Requirement Analysis and communication of findings in the form of a meaningful story with the stakeholders\\nCenter for Artificial Intelligence & Advanced Analytics (CAIA) focuses on the following:\\n1. Global Research on emerging trends, technologies and applications in AI and Advanced Analytics\\n2. Advanced Training programs for readying the future ready workforce\\n3. Solutions to herald the futuristic lifestyle and workspaces in the field of AI and Data Science.\\nhttp://www.centerforaia.com/\\nCenter for Artificial Intelligence and Advanced Analytics (Center for AIA) is the brainchild of experienced and visionary alumni of IIT Madras and Bombay. Digital leaders 5F World and Systech Solutions have joined hands to create a venture for architecting the future of society, workforce, governments and businesses. 5F World specializes in designing solutions around digital platforms and Systech Solutions has an expertise in architecting Artificial Intelligence and Advanced Analytics solutions for Fortune 500 companies through specialized programmed.\\n5F World\\n5F World is a leader in digital transformational journeys and has brought together the best minds in industry, academia and technology domains to develop a unique framework to transform stakeholder journeys through innovation and digitalization of businesses and education institutions.\\nSystech Solutions\\nSystech Solutions is a leading organisation in Data Strategy, Management & Analytics services provider with deep technology expertise and over 20 years of industry experience. Systech Solutions helps empower clients with innovative, data-driven solutions to reimagine their enterprise and has forged partnerships with industry-leading technology providers to develop a full spectrum of data services.\\n\\nWebsite\\nhttp://www.centerforaia.com/\\n\\nhttps://inflexion-analytix-private-limited.business.site/?m=true\\n\\n\\n\\nContact Person\\nShantha/Manigandan\\nPhone Number\\n9790993237 / 7299917200\\nEmail\\nmanigandan@centerforaia.com\\n\\nDesired Candidate Profile\\n\\nPerks and Benefits\\n\\nRoleBusiness Analyst\\nIndustry TypeBPO, Call Centre, ITeS\\nFunctional AreaIT Software - DBA, Datawarehousing\\nEmployment TypeFull Time, Permanent\\nRole CategorySystem Design/Implementation/ERP/CRM\\nEducation\\nUG :B.Com in Any Specialization, B.Tech/B.E. in Any Specialization, Any Graduate in Any Specialization, Other Graduate, B.Sc in Any Specialization, Diploma in Any Specialization\\nPG :MS/M.Sc(Science) in Any Specialization, Other, M.Com in Any Specialization, PG Diploma in Any Specialization, MCA in Any Specialization, MBA/PGDM in Any Specialization, Post Graduation Not Required, M.Tech in Any Specialization\\nKey Skills\\nBusiness IntelligenceArtificial IntelligenceNatural Language ProcessingNeural NetworksData MiningMachine LearningDeep LearningSQLData ScienceRNLPCloud ComputingData AnalysisPLSQLData WarehousingETLPredictive AnalyticsPython',\n",
       " \"Job description\\nHiring Data Analyst profile on the third-party payroll(contractual role 1yr and can be extendable based on performance)\\nResponsibilities And Duties\\nWork closely with the team to understand their requirement to ensure information/reports on a priority basis.\\nCreate processes and methods to gather supply chain data.\\nPreparing Daily, weekly and monthly reports.\\nSync up & collaborate with Multiple Stakeholders to complete daily critical tasks.\\nImprove existing and design new MIS reports for making informed decision making.\\nPreparing Presentations, writing reports for the business teams.\\nAnalysis and collecting reports for multiple functions\\nReport anomalies and findings. \\nTrack KPI's and report on the performance\\nRequired Experience, Skills, And Qualifications\\nMust have an excellent understanding of SQL, R/ Python(Added Advantage) & MS Excel\\nShould have hands-on experience in processing huge datasets\\nUnderstanding and good hold over KPI's.\\n1-5 years of relevant work ex\\nGood command of English, Hindi\\nProactiveness, listening skills, service orientation, Integrity\\nShould have good analytical skills\\nExposure to the eCommerce industry will be Preferred\\nPerks and Benefits\\n\\nRole: Data Analyst\\nExperience: 1yrs to 6 yrs\\nQualification: Any Graduate\\nJob Locations: Bangalore\\nSector - E-commerce, supply chain or logistics\\nCTC - up to 6.5LPA\\nInterested candidates can share their updated profile to smitashree.p@flipkart.com\\nRoleData Analyst\\nIndustry TypeInternet, Ecommerce\\nFunctional AreaAnalytics & Business Intelligence\\nEmployment TypeFull Time, Temporary/Contractual\\nRole CategoryAnalytics & BI\\nEducation\\nUG :Any Graduate in Any Specialization\\nKey Skills\\nBusiness IntelligenceAutomationExcelBusiness AnalyticsData AnalysisData VisualizationData MiningData AnalyticsAnalyticsSQLBusiness AnalysisPython\",\n",
       " \"Job description\\nHiring Data Analyst profile on the third-party payroll(contractual role 1yr and can be extendable based on performance)\\nResponsibilities And Duties\\nWork closely with the team to understand their requirement to ensure information/reports on a priority basis.\\nCreate processes and methods to gather supply chain data.\\nPreparing Daily, weekly and monthly reports.\\nSync up & collaborate with Multiple Stakeholders to complete daily critical tasks.\\nImprove existing and design new MIS reports for making informed decision making.\\nPreparing Presentations, writing reports for the business teams.\\nAnalysis and collecting reports for multiple functions\\nReport anomalies and findings. \\nTrack KPI's and report on the performance\\nRequired Experience, Skills, And Qualifications\\nMust have an excellent understanding of SQL, R/ Python(Added Advantage) & MS Excel\\nShould have hands-on experience in processing huge datasets\\nUnderstanding and good hold over KPI's.\\n1-5 years of relevant work ex\\nGood command of English, Hindi\\nProactiveness, listening skills, service orientation, Integrity\\nShould have good analytical skills\\nExposure to the eCommerce industry will be Preferred\\nPerks and Benefits\\n\\nRole: Data Analyst\\nExperience: 1yrs to 6 yrs\\nQualification: Any Graduate\\nJob Locations: Bangalore\\nSector - E-commerce, supply chain or logistics\\nCTC - up to 6.5LPA\\nInterested candidates can share their updated profile to smitashree.p@flipkart.com\\nRoleData Analyst\\nIndustry TypeInternet, Ecommerce\\nFunctional AreaAnalytics & Business Intelligence\\nEmployment TypeFull Time, Temporary/Contractual\\nRole CategoryAnalytics & BI\\nEducation\\nUG :Any Graduate in Any Specialization\\nKey Skills\\nBusiness IntelligenceAutomationExcelBusiness AnalyticsData AnalysisData VisualizationData MiningData AnalyticsAnalyticsSQLBusiness AnalysisPython\",\n",
       " 'Job description\\nFlipkart is looking for Data Analyst [On Contract for One Year, Extendable based on performance, Third Party PayRoll: Teamlease]\\nMust have skills: SQL, Power BI, Visual basic tools, Google Data Studio, Creating Dashboards, Power Tools, Automation  Excel.\\nExperience: Min 1-2 years\\nLocation: Bangalore\\nResponsibilities And Duties\\nWork closely with the team to understand their requirement to ensure information/reports on a priority basis.\\nPreparing Daily, weekly and Monthly reports.\\nSync up & collaborate with Multiple Stakeholders to complete daily critical tasks.\\nImprove existing and design new MIS reports for making informed decision making.\\nPreparing Presentations, writing reports for the business teams.\\nAnalysis and collecting reports for multiple functions\\nReport anomalies and findings. \\nRequired Experience, Skills And Qualifications\\nMust have excellent understanding/ hands-on experience on SQL, Power BI, Data Visualisation, Creating Dashboards, Python, Automation Tools, R(Added Advantage) & MS Excel, VBA, Macros/ Tableau\\nShould have hands-on experience in processing huge datasets\\nGood command over English, Hindi\\nProactiveness, listening skills, service orientation, Integrity\\nShould have good analytical skills\\nExposure to the eCommerce industry will be Preferred\\n\\nRole: Data Analyst\\nExperience: 1yrs to5 yrs\\nQualification: Any Graduate\\nJob Locations: Bangalore\\nCTC - up to 5.5LPA\\nInterested candidates can share their updated profile to rohan.v@flipkart.com\\nRoleData Analyst\\nIndustry TypeInternet, Ecommerce\\nFunctional AreaAnalytics & Business Intelligence\\nEmployment TypeFull Time, Temporary/Contractual\\nRole CategoryAnalytics & BI\\nEducation\\nUG :Any Graduate in Any Specialization\\nKey Skills\\nBusiness IntelligenceAutomationPower BiData MiningPower ToolsAnalyticsSQLExcelGDSData AnalysisData VisualizationDashboardsData AnalyticsPython']"
      ]
     },
     "execution_count": 58,
     "metadata": {},
     "output_type": "execute_result"
    }
   ],
   "source": [
    "for i in job_desc2:\n",
    "    desc=i.text\n",
    "    job_description.append(desc)\n",
    "job_description"
   ]
  },
  {
   "cell_type": "code",
   "execution_count": 59,
   "metadata": {},
   "outputs": [],
   "source": [
    "driver.close()"
   ]
  },
  {
   "cell_type": "code",
   "execution_count": 60,
   "metadata": {},
   "outputs": [],
   "source": [
    "driver=webdriver.Edge(r\"C:\\Users\\srinj\\OneDrive\\Documents\\EGDownloads\\edgedriver_win64\\msedgedriver.exe\")"
   ]
  },
  {
   "cell_type": "code",
   "execution_count": 61,
   "metadata": {},
   "outputs": [],
   "source": [
    "url=\"https://www.naukri.com/job-listings-data-analyst-cognizant-technology-solutions-india-ltd-bengaluru-bangalore-2-to-3-years-021220902990?src=jobsearchDesk&sid=1607223984271417&xp=4&px=1\""
   ]
  },
  {
   "cell_type": "code",
   "execution_count": 62,
   "metadata": {},
   "outputs": [],
   "source": [
    "driver.get(url)"
   ]
  },
  {
   "cell_type": "code",
   "execution_count": 64,
   "metadata": {},
   "outputs": [
    {
     "data": {
      "text/plain": [
       "[<selenium.webdriver.remote.webelement.WebElement (session=\"b4720afbb7a80a4274ad8a961bcf5531\", element=\"966dfb02-9859-491a-9381-af0ca72058f0\")>,\n",
       " <selenium.webdriver.remote.webelement.WebElement (session=\"b4720afbb7a80a4274ad8a961bcf5531\", element=\"8938cee0-ca7a-4d16-a8c2-a50ad339ee18\")>,\n",
       " <selenium.webdriver.remote.webelement.WebElement (session=\"b4720afbb7a80a4274ad8a961bcf5531\", element=\"ed6d8d28-b0d8-4958-9fd2-e3cc8e644799\")>]"
      ]
     },
     "execution_count": 64,
     "metadata": {},
     "output_type": "execute_result"
    }
   ],
   "source": [
    "job_desc3=driver.find_elements_by_xpath(\"//section[@class='JD av_textblock_section']\")\n",
    "job_desc3"
   ]
  },
  {
   "cell_type": "code",
   "execution_count": 65,
   "metadata": {},
   "outputs": [
    {
     "data": {
      "text/plain": [
       "['Job description\\nDear Candidate\\n\\nSchedule a Telephonic Interview ( Please call for confirmation) : Mon- Sat from 11:00am to 5:00pm\\n\\nOR Walk-In to the Corporate office between Monday to Friday from 11:00am to 5:00pm (Date : 19th October onwards)\\nContact person :\\n\\nManigandan -+91 7299917200\\nShantha +91 9790993237\\n\\n\\nSystech Solutions\\nTemple Steps\\nTower 3, 6th Floor\\n184-187 Anna Salai\\nSaidapet, Chennai 600015\\nIndia (Near Little Mount Metro Station)\\nRoles and Responsibilities\\n\\nGreetings from CAIA !\\nA great opportunity to enter the world of future technologies - Data Science, Analytics, AI, Data Visualization\\nApplications invited from all Freshers and experienced candidates aspiring to make a career in Artificial Intelligence and Advanced Analytics and Data Science.\\nIn case you are trying to shift your career to Analytics and/or AI domain please do connect with us to know more.\\nWhat is needed from you?\\n- An Educational background in any one of the following- BE/B.Tech, ME/M Tech, MSc, BSc/MSc Maths and Statistics, B Com, BCA, BSc CS, BSC IT, MSC IT, MCA\\n- Skills relating to Mathematics/Statistics.\\n- Natural passion towards numbers, business, coding, Analytics and Artificial Intelligence, Machine Learning, visualization\\n- Good verbal and written communication skills\\n- Ability to understand domains in businesses across various sectors\\n- Freshers who wish to start their career in Analytics and AI and professionals who wish to up skill or change their domain to analytics and emerging technologies are free to apply.\\nSelection procedure includes\\n- Online Aptitude Test\\n- Logical Ability Test / Written Test\\nOn being shortlisted, you will be have to undergo a one-one discussion with our counsellor for further evaluation and processing of your Resume.\\nWhat you can expect from us?\\nYou will get trained on the following modules for a period of 12-14 weeks:\\n-SQL & PLSQL\\n-Data Wrangling using Python\\n-Statistics for Machine Learning,\\n-Artificial Intelligence, Data Interpretation\\n-Supervised & Unsupervised Learning,\\n-NLP & Deep Learning\\n-Cloud Data Lake\\n-Business intelligence & Data Visualization\\n-Simulation Projects\\nWhat is the expected Outcome?\\nAt the end of the Training you are expected to be well versed with the following:\\n- Analysis of large and complex data sets from multiple sources\\n- Development and evaluation of data analytics models, algorithms and solutions\\n- Understanding/implementation of ML algorithms, performance tuning and reporting\\n- Implementation of algorithms to mine targeted data and the ability to convert data into a business story\\n- Translation of business requirements into technical requirements; Data extraction, preparation and transformation\\n- Identification, development and implementation of statistical techniques and algorithms that address business challenges and adds value to the organisation\\n- Requirement Analysis and communication of findings in the form of a meaningful story with the stakeholders\\nCenter for Artificial Intelligence & Advanced Analytics (CAIA) focuses on the following:\\n1. Global Research on emerging trends, technologies and applications in AI and Advanced Analytics\\n2. Advanced Training programs for readying the future ready workforce\\n3. Solutions to herald the futuristic lifestyle and workspaces in the field of AI and Data Science.\\nhttp://www.centerforaia.com/\\nCenter for Artificial Intelligence and Advanced Analytics (Center for AIA) is the brainchild of experienced and visionary alumni of IIT Madras and Bombay. Digital leaders 5F World and Systech Solutions have joined hands to create a venture for architecting the future of society, workforce, governments and businesses. 5F World specializes in designing solutions around digital platforms and Systech Solutions has an expertise in architecting Artificial Intelligence and Advanced Analytics solutions for Fortune 500 companies through specialized programmed.\\n5F World\\n5F World is a leader in digital transformational journeys and has brought together the best minds in industry, academia and technology domains to develop a unique framework to transform stakeholder journeys through innovation and digitalization of businesses and education institutions.\\nSystech Solutions\\nSystech Solutions is a leading organisation in Data Strategy, Management & Analytics services provider with deep technology expertise and over 20 years of industry experience. Systech Solutions helps empower clients with innovative, data-driven solutions to reimagine their enterprise and has forged partnerships with industry-leading technology providers to develop a full spectrum of data services.\\n\\nWebsite\\nhttp://www.centerforaia.com/\\n\\nhttps://inflexion-analytix-private-limited.business.site/?m=true\\n\\n\\n\\nContact Person\\nShantha/Manigandan\\nPhone Number\\n9790993237 / 7299917200\\nEmail\\nmanigandan@centerforaia.com\\n\\nDesired Candidate Profile\\n\\nPerks and Benefits\\n\\nRoleBusiness Analyst\\nIndustry TypeBPO, Call Centre, ITeS\\nFunctional AreaIT Software - DBA, Datawarehousing\\nEmployment TypeFull Time, Permanent\\nRole CategorySystem Design/Implementation/ERP/CRM\\nEducation\\nUG :B.Com in Any Specialization, B.Tech/B.E. in Any Specialization, Any Graduate in Any Specialization, Other Graduate, B.Sc in Any Specialization, Diploma in Any Specialization\\nPG :MS/M.Sc(Science) in Any Specialization, Other, M.Com in Any Specialization, PG Diploma in Any Specialization, MCA in Any Specialization, MBA/PGDM in Any Specialization, Post Graduation Not Required, M.Tech in Any Specialization\\nKey Skills\\nBusiness IntelligenceArtificial IntelligenceNatural Language ProcessingNeural NetworksData MiningMachine LearningDeep LearningSQLData ScienceRNLPCloud ComputingData AnalysisPLSQLData WarehousingETLPredictive AnalyticsPython',\n",
       " \"Job description\\nHiring Data Analyst profile on the third-party payroll(contractual role 1yr and can be extendable based on performance)\\nResponsibilities And Duties\\nWork closely with the team to understand their requirement to ensure information/reports on a priority basis.\\nCreate processes and methods to gather supply chain data.\\nPreparing Daily, weekly and monthly reports.\\nSync up & collaborate with Multiple Stakeholders to complete daily critical tasks.\\nImprove existing and design new MIS reports for making informed decision making.\\nPreparing Presentations, writing reports for the business teams.\\nAnalysis and collecting reports for multiple functions\\nReport anomalies and findings. \\nTrack KPI's and report on the performance\\nRequired Experience, Skills, And Qualifications\\nMust have an excellent understanding of SQL, R/ Python(Added Advantage) & MS Excel\\nShould have hands-on experience in processing huge datasets\\nUnderstanding and good hold over KPI's.\\n1-5 years of relevant work ex\\nGood command of English, Hindi\\nProactiveness, listening skills, service orientation, Integrity\\nShould have good analytical skills\\nExposure to the eCommerce industry will be Preferred\\nPerks and Benefits\\n\\nRole: Data Analyst\\nExperience: 1yrs to 6 yrs\\nQualification: Any Graduate\\nJob Locations: Bangalore\\nSector - E-commerce, supply chain or logistics\\nCTC - up to 6.5LPA\\nInterested candidates can share their updated profile to smitashree.p@flipkart.com\\nRoleData Analyst\\nIndustry TypeInternet, Ecommerce\\nFunctional AreaAnalytics & Business Intelligence\\nEmployment TypeFull Time, Temporary/Contractual\\nRole CategoryAnalytics & BI\\nEducation\\nUG :Any Graduate in Any Specialization\\nKey Skills\\nBusiness IntelligenceAutomationExcelBusiness AnalyticsData AnalysisData VisualizationData MiningData AnalyticsAnalyticsSQLBusiness AnalysisPython\",\n",
       " \"Job description\\nHiring Data Analyst profile on the third-party payroll(contractual role 1yr and can be extendable based on performance)\\nResponsibilities And Duties\\nWork closely with the team to understand their requirement to ensure information/reports on a priority basis.\\nCreate processes and methods to gather supply chain data.\\nPreparing Daily, weekly and monthly reports.\\nSync up & collaborate with Multiple Stakeholders to complete daily critical tasks.\\nImprove existing and design new MIS reports for making informed decision making.\\nPreparing Presentations, writing reports for the business teams.\\nAnalysis and collecting reports for multiple functions\\nReport anomalies and findings. \\nTrack KPI's and report on the performance\\nRequired Experience, Skills, And Qualifications\\nMust have an excellent understanding of SQL, R/ Python(Added Advantage) & MS Excel\\nShould have hands-on experience in processing huge datasets\\nUnderstanding and good hold over KPI's.\\n1-5 years of relevant work ex\\nGood command of English, Hindi\\nProactiveness, listening skills, service orientation, Integrity\\nShould have good analytical skills\\nExposure to the eCommerce industry will be Preferred\\nPerks and Benefits\\n\\nRole: Data Analyst\\nExperience: 1yrs to 6 yrs\\nQualification: Any Graduate\\nJob Locations: Bangalore\\nSector - E-commerce, supply chain or logistics\\nCTC - up to 6.5LPA\\nInterested candidates can share their updated profile to smitashree.p@flipkart.com\\nRoleData Analyst\\nIndustry TypeInternet, Ecommerce\\nFunctional AreaAnalytics & Business Intelligence\\nEmployment TypeFull Time, Temporary/Contractual\\nRole CategoryAnalytics & BI\\nEducation\\nUG :Any Graduate in Any Specialization\\nKey Skills\\nBusiness IntelligenceAutomationExcelBusiness AnalyticsData AnalysisData VisualizationData MiningData AnalyticsAnalyticsSQLBusiness AnalysisPython\",\n",
       " 'Job description\\nFlipkart is looking for Data Analyst [On Contract for One Year, Extendable based on performance, Third Party PayRoll: Teamlease]\\nMust have skills: SQL, Power BI, Visual basic tools, Google Data Studio, Creating Dashboards, Power Tools, Automation  Excel.\\nExperience: Min 1-2 years\\nLocation: Bangalore\\nResponsibilities And Duties\\nWork closely with the team to understand their requirement to ensure information/reports on a priority basis.\\nPreparing Daily, weekly and Monthly reports.\\nSync up & collaborate with Multiple Stakeholders to complete daily critical tasks.\\nImprove existing and design new MIS reports for making informed decision making.\\nPreparing Presentations, writing reports for the business teams.\\nAnalysis and collecting reports for multiple functions\\nReport anomalies and findings. \\nRequired Experience, Skills And Qualifications\\nMust have excellent understanding/ hands-on experience on SQL, Power BI, Data Visualisation, Creating Dashboards, Python, Automation Tools, R(Added Advantage) & MS Excel, VBA, Macros/ Tableau\\nShould have hands-on experience in processing huge datasets\\nGood command over English, Hindi\\nProactiveness, listening skills, service orientation, Integrity\\nShould have good analytical skills\\nExposure to the eCommerce industry will be Preferred\\n\\nRole: Data Analyst\\nExperience: 1yrs to5 yrs\\nQualification: Any Graduate\\nJob Locations: Bangalore\\nCTC - up to 5.5LPA\\nInterested candidates can share their updated profile to rohan.v@flipkart.com\\nRoleData Analyst\\nIndustry TypeInternet, Ecommerce\\nFunctional AreaAnalytics & Business Intelligence\\nEmployment TypeFull Time, Temporary/Contractual\\nRole CategoryAnalytics & BI\\nEducation\\nUG :Any Graduate in Any Specialization\\nKey Skills\\nBusiness IntelligenceAutomationPower BiData MiningPower ToolsAnalyticsSQLExcelGDSData AnalysisData VisualizationDashboardsData AnalyticsPython',\n",
       " 'Job Description\\nRoles and Responsibilities\\nTeam Lead - CDM/PV\\nQualification:\\nGraduate/Post Graduate/ Doctorate degree in life sciences/Pharmacy/Medical sciences/Registered Nurse\\nResponsibility:\\nBusiness/ Customer:\\nMinimal Customer interaction under guidance.\\nUnderstands Domain Process/sub process, functions, terminologies (such as SOP, QC checklists).\\nFor PV/Complaints Management :\\nIndividuals in this role perform data entry of data received from Source documents into the respective Clinical/Safety database While peroforming this activity the associate is responsible for meeting turnaround times and accuracy.\\nThese associates are usually used to handle more critical/senitive transactions.\\nThese associates also act as Subject Matter Expert.\\nCODING:\\nPerform coding activities on the assigned project with timelines and efficiency\\n• Import uncoded terms in database and export coded medical terms from coding platform.\\n• Query Management.\\n• Create “New Term Request” and prioritize.\\n• Perform Dictionary upversioning activity.\\n• Send Coding (Consistency) Reports.\\n• Participate in study related meetings as needed.\\n• Provide feedback on quality related issues to other medical coders in timely manner.\\n• Serve as an SME to Medical Reviewers regarding coding activities & guidelines.\\n• Perform UAT for coding related applications.\\n• Perform Operational QC.\\n• Mentor Team Member.\\n• Coordinate with CDM working on the same study.\\n• Coordinate to resolve Rave specific issues.\\nCDM:\\n1 Execute Data Management Activities ie Data Cleaning, Executing Manual and System checks, Update relevant trackers, Discrepancy and query management, Issue resolution, Database lock activities.\\n2 Participate in innovation and process improvement initiatives.\\n3 Identify and develop action plan in coordination with the TL for activities not meeting the client SLAs.\\n4 Archive all necessary information for audit purposes according to quality and security requirements, to ensure reliable and timely retrieval of documentation and information.\\n5 Support multiple clinical trials, across diverse therapeutic areas, to successful conclusion and provide technical oversight when required.\\nProject / Process:\\nAttempts Complex problems (procedures/processes) and refers to Supervisor/Line Manager in rare cases.\\nHandle first level processing of transactions.\\nAdhere to quality requirements, achieve targets/volumes in given TAT(Turn around time).\\nProactively identify issues.\\nContribute to process improvement initiatives.\\nIdentify and report process changes.\\nAdhere to the mandatory industry regulation and compliance requirements for the given process.\\nKnowledge Management:\\nUpdate Process documentation as appropriate for the process under guidance.\\nParticipate in knowledge transfer.\\nPeople/Team Management:\\nAdhere to org hygiene and compliance needs in terms of.\\na Personal Utilization & Time sheet submission.\\nb Personal and new hire Assimilation.\\nc Attendance.\\nd Team Initiatives.\\nCollate team performance metrics.\\nManage break schedule/transport logistics for the team in the absence of his/her supervisor.\\nGood To Have Skills\\nPharmacovigilance&Safety Ops\\nPV Case Processing\\nEmployee Status : Full Time Employee\\nShift : Day Job',\n",
       " 'Key Skills\\nQuery Management\\nData Management\\nCase Processing\\nData Cleaning\\nData Entry\\nCdm\\nClinical Trials\\nCDM',\n",
       " 'Please refer to the Job description above']"
      ]
     },
     "execution_count": 65,
     "metadata": {},
     "output_type": "execute_result"
    }
   ],
   "source": [
    "for i in job_desc3:\n",
    "    desc=i.text\n",
    "    job_description.append(desc)\n",
    "job_description"
   ]
  },
  {
   "cell_type": "code",
   "execution_count": 66,
   "metadata": {},
   "outputs": [],
   "source": [
    "driver.close()"
   ]
  },
  {
   "cell_type": "code",
   "execution_count": 67,
   "metadata": {},
   "outputs": [],
   "source": [
    "driver=webdriver.Edge(r\"C:\\Users\\srinj\\OneDrive\\Documents\\EGDownloads\\edgedriver_win64\\msedgedriver.exe\")"
   ]
  },
  {
   "cell_type": "code",
   "execution_count": 68,
   "metadata": {},
   "outputs": [],
   "source": [
    "url='https://www.naukri.com/job-listings-business-data-analyst-genpact-india-private-limited-bengaluru-bangalore-3-to-6-years-041220001772?src=jobsearchDesk&sid=1607223984271417&xp=5&px=1'"
   ]
  },
  {
   "cell_type": "code",
   "execution_count": 70,
   "metadata": {},
   "outputs": [],
   "source": [
    "driver.get(url)"
   ]
  },
  {
   "cell_type": "code",
   "execution_count": 71,
   "metadata": {},
   "outputs": [
    {
     "data": {
      "text/plain": [
       "[<selenium.webdriver.remote.webelement.WebElement (session=\"2638bb107879c1fbba206db19859d5d4\", element=\"9417f73a-3994-4247-b812-c51825daa0b9\")>]"
      ]
     },
     "execution_count": 71,
     "metadata": {},
     "output_type": "execute_result"
    }
   ],
   "source": [
    "job_desc4=driver.find_elements_by_xpath(\"//section[@class='job-desc']\")\n",
    "job_desc4"
   ]
  },
  {
   "cell_type": "code",
   "execution_count": 72,
   "metadata": {},
   "outputs": [
    {
     "data": {
      "text/plain": [
       "['Job description\\nDear Candidate\\n\\nSchedule a Telephonic Interview ( Please call for confirmation) : Mon- Sat from 11:00am to 5:00pm\\n\\nOR Walk-In to the Corporate office between Monday to Friday from 11:00am to 5:00pm (Date : 19th October onwards)\\nContact person :\\n\\nManigandan -+91 7299917200\\nShantha +91 9790993237\\n\\n\\nSystech Solutions\\nTemple Steps\\nTower 3, 6th Floor\\n184-187 Anna Salai\\nSaidapet, Chennai 600015\\nIndia (Near Little Mount Metro Station)\\nRoles and Responsibilities\\n\\nGreetings from CAIA !\\nA great opportunity to enter the world of future technologies - Data Science, Analytics, AI, Data Visualization\\nApplications invited from all Freshers and experienced candidates aspiring to make a career in Artificial Intelligence and Advanced Analytics and Data Science.\\nIn case you are trying to shift your career to Analytics and/or AI domain please do connect with us to know more.\\nWhat is needed from you?\\n- An Educational background in any one of the following- BE/B.Tech, ME/M Tech, MSc, BSc/MSc Maths and Statistics, B Com, BCA, BSc CS, BSC IT, MSC IT, MCA\\n- Skills relating to Mathematics/Statistics.\\n- Natural passion towards numbers, business, coding, Analytics and Artificial Intelligence, Machine Learning, visualization\\n- Good verbal and written communication skills\\n- Ability to understand domains in businesses across various sectors\\n- Freshers who wish to start their career in Analytics and AI and professionals who wish to up skill or change their domain to analytics and emerging technologies are free to apply.\\nSelection procedure includes\\n- Online Aptitude Test\\n- Logical Ability Test / Written Test\\nOn being shortlisted, you will be have to undergo a one-one discussion with our counsellor for further evaluation and processing of your Resume.\\nWhat you can expect from us?\\nYou will get trained on the following modules for a period of 12-14 weeks:\\n-SQL & PLSQL\\n-Data Wrangling using Python\\n-Statistics for Machine Learning,\\n-Artificial Intelligence, Data Interpretation\\n-Supervised & Unsupervised Learning,\\n-NLP & Deep Learning\\n-Cloud Data Lake\\n-Business intelligence & Data Visualization\\n-Simulation Projects\\nWhat is the expected Outcome?\\nAt the end of the Training you are expected to be well versed with the following:\\n- Analysis of large and complex data sets from multiple sources\\n- Development and evaluation of data analytics models, algorithms and solutions\\n- Understanding/implementation of ML algorithms, performance tuning and reporting\\n- Implementation of algorithms to mine targeted data and the ability to convert data into a business story\\n- Translation of business requirements into technical requirements; Data extraction, preparation and transformation\\n- Identification, development and implementation of statistical techniques and algorithms that address business challenges and adds value to the organisation\\n- Requirement Analysis and communication of findings in the form of a meaningful story with the stakeholders\\nCenter for Artificial Intelligence & Advanced Analytics (CAIA) focuses on the following:\\n1. Global Research on emerging trends, technologies and applications in AI and Advanced Analytics\\n2. Advanced Training programs for readying the future ready workforce\\n3. Solutions to herald the futuristic lifestyle and workspaces in the field of AI and Data Science.\\nhttp://www.centerforaia.com/\\nCenter for Artificial Intelligence and Advanced Analytics (Center for AIA) is the brainchild of experienced and visionary alumni of IIT Madras and Bombay. Digital leaders 5F World and Systech Solutions have joined hands to create a venture for architecting the future of society, workforce, governments and businesses. 5F World specializes in designing solutions around digital platforms and Systech Solutions has an expertise in architecting Artificial Intelligence and Advanced Analytics solutions for Fortune 500 companies through specialized programmed.\\n5F World\\n5F World is a leader in digital transformational journeys and has brought together the best minds in industry, academia and technology domains to develop a unique framework to transform stakeholder journeys through innovation and digitalization of businesses and education institutions.\\nSystech Solutions\\nSystech Solutions is a leading organisation in Data Strategy, Management & Analytics services provider with deep technology expertise and over 20 years of industry experience. Systech Solutions helps empower clients with innovative, data-driven solutions to reimagine their enterprise and has forged partnerships with industry-leading technology providers to develop a full spectrum of data services.\\n\\nWebsite\\nhttp://www.centerforaia.com/\\n\\nhttps://inflexion-analytix-private-limited.business.site/?m=true\\n\\n\\n\\nContact Person\\nShantha/Manigandan\\nPhone Number\\n9790993237 / 7299917200\\nEmail\\nmanigandan@centerforaia.com\\n\\nDesired Candidate Profile\\n\\nPerks and Benefits\\n\\nRoleBusiness Analyst\\nIndustry TypeBPO, Call Centre, ITeS\\nFunctional AreaIT Software - DBA, Datawarehousing\\nEmployment TypeFull Time, Permanent\\nRole CategorySystem Design/Implementation/ERP/CRM\\nEducation\\nUG :B.Com in Any Specialization, B.Tech/B.E. in Any Specialization, Any Graduate in Any Specialization, Other Graduate, B.Sc in Any Specialization, Diploma in Any Specialization\\nPG :MS/M.Sc(Science) in Any Specialization, Other, M.Com in Any Specialization, PG Diploma in Any Specialization, MCA in Any Specialization, MBA/PGDM in Any Specialization, Post Graduation Not Required, M.Tech in Any Specialization\\nKey Skills\\nBusiness IntelligenceArtificial IntelligenceNatural Language ProcessingNeural NetworksData MiningMachine LearningDeep LearningSQLData ScienceRNLPCloud ComputingData AnalysisPLSQLData WarehousingETLPredictive AnalyticsPython',\n",
       " \"Job description\\nHiring Data Analyst profile on the third-party payroll(contractual role 1yr and can be extendable based on performance)\\nResponsibilities And Duties\\nWork closely with the team to understand their requirement to ensure information/reports on a priority basis.\\nCreate processes and methods to gather supply chain data.\\nPreparing Daily, weekly and monthly reports.\\nSync up & collaborate with Multiple Stakeholders to complete daily critical tasks.\\nImprove existing and design new MIS reports for making informed decision making.\\nPreparing Presentations, writing reports for the business teams.\\nAnalysis and collecting reports for multiple functions\\nReport anomalies and findings. \\nTrack KPI's and report on the performance\\nRequired Experience, Skills, And Qualifications\\nMust have an excellent understanding of SQL, R/ Python(Added Advantage) & MS Excel\\nShould have hands-on experience in processing huge datasets\\nUnderstanding and good hold over KPI's.\\n1-5 years of relevant work ex\\nGood command of English, Hindi\\nProactiveness, listening skills, service orientation, Integrity\\nShould have good analytical skills\\nExposure to the eCommerce industry will be Preferred\\nPerks and Benefits\\n\\nRole: Data Analyst\\nExperience: 1yrs to 6 yrs\\nQualification: Any Graduate\\nJob Locations: Bangalore\\nSector - E-commerce, supply chain or logistics\\nCTC - up to 6.5LPA\\nInterested candidates can share their updated profile to smitashree.p@flipkart.com\\nRoleData Analyst\\nIndustry TypeInternet, Ecommerce\\nFunctional AreaAnalytics & Business Intelligence\\nEmployment TypeFull Time, Temporary/Contractual\\nRole CategoryAnalytics & BI\\nEducation\\nUG :Any Graduate in Any Specialization\\nKey Skills\\nBusiness IntelligenceAutomationExcelBusiness AnalyticsData AnalysisData VisualizationData MiningData AnalyticsAnalyticsSQLBusiness AnalysisPython\",\n",
       " \"Job description\\nHiring Data Analyst profile on the third-party payroll(contractual role 1yr and can be extendable based on performance)\\nResponsibilities And Duties\\nWork closely with the team to understand their requirement to ensure information/reports on a priority basis.\\nCreate processes and methods to gather supply chain data.\\nPreparing Daily, weekly and monthly reports.\\nSync up & collaborate with Multiple Stakeholders to complete daily critical tasks.\\nImprove existing and design new MIS reports for making informed decision making.\\nPreparing Presentations, writing reports for the business teams.\\nAnalysis and collecting reports for multiple functions\\nReport anomalies and findings. \\nTrack KPI's and report on the performance\\nRequired Experience, Skills, And Qualifications\\nMust have an excellent understanding of SQL, R/ Python(Added Advantage) & MS Excel\\nShould have hands-on experience in processing huge datasets\\nUnderstanding and good hold over KPI's.\\n1-5 years of relevant work ex\\nGood command of English, Hindi\\nProactiveness, listening skills, service orientation, Integrity\\nShould have good analytical skills\\nExposure to the eCommerce industry will be Preferred\\nPerks and Benefits\\n\\nRole: Data Analyst\\nExperience: 1yrs to 6 yrs\\nQualification: Any Graduate\\nJob Locations: Bangalore\\nSector - E-commerce, supply chain or logistics\\nCTC - up to 6.5LPA\\nInterested candidates can share their updated profile to smitashree.p@flipkart.com\\nRoleData Analyst\\nIndustry TypeInternet, Ecommerce\\nFunctional AreaAnalytics & Business Intelligence\\nEmployment TypeFull Time, Temporary/Contractual\\nRole CategoryAnalytics & BI\\nEducation\\nUG :Any Graduate in Any Specialization\\nKey Skills\\nBusiness IntelligenceAutomationExcelBusiness AnalyticsData AnalysisData VisualizationData MiningData AnalyticsAnalyticsSQLBusiness AnalysisPython\",\n",
       " 'Job description\\nFlipkart is looking for Data Analyst [On Contract for One Year, Extendable based on performance, Third Party PayRoll: Teamlease]\\nMust have skills: SQL, Power BI, Visual basic tools, Google Data Studio, Creating Dashboards, Power Tools, Automation  Excel.\\nExperience: Min 1-2 years\\nLocation: Bangalore\\nResponsibilities And Duties\\nWork closely with the team to understand their requirement to ensure information/reports on a priority basis.\\nPreparing Daily, weekly and Monthly reports.\\nSync up & collaborate with Multiple Stakeholders to complete daily critical tasks.\\nImprove existing and design new MIS reports for making informed decision making.\\nPreparing Presentations, writing reports for the business teams.\\nAnalysis and collecting reports for multiple functions\\nReport anomalies and findings. \\nRequired Experience, Skills And Qualifications\\nMust have excellent understanding/ hands-on experience on SQL, Power BI, Data Visualisation, Creating Dashboards, Python, Automation Tools, R(Added Advantage) & MS Excel, VBA, Macros/ Tableau\\nShould have hands-on experience in processing huge datasets\\nGood command over English, Hindi\\nProactiveness, listening skills, service orientation, Integrity\\nShould have good analytical skills\\nExposure to the eCommerce industry will be Preferred\\n\\nRole: Data Analyst\\nExperience: 1yrs to5 yrs\\nQualification: Any Graduate\\nJob Locations: Bangalore\\nCTC - up to 5.5LPA\\nInterested candidates can share their updated profile to rohan.v@flipkart.com\\nRoleData Analyst\\nIndustry TypeInternet, Ecommerce\\nFunctional AreaAnalytics & Business Intelligence\\nEmployment TypeFull Time, Temporary/Contractual\\nRole CategoryAnalytics & BI\\nEducation\\nUG :Any Graduate in Any Specialization\\nKey Skills\\nBusiness IntelligenceAutomationPower BiData MiningPower ToolsAnalyticsSQLExcelGDSData AnalysisData VisualizationDashboardsData AnalyticsPython',\n",
       " 'Job Description\\nRoles and Responsibilities\\nTeam Lead - CDM/PV\\nQualification:\\nGraduate/Post Graduate/ Doctorate degree in life sciences/Pharmacy/Medical sciences/Registered Nurse\\nResponsibility:\\nBusiness/ Customer:\\nMinimal Customer interaction under guidance.\\nUnderstands Domain Process/sub process, functions, terminologies (such as SOP, QC checklists).\\nFor PV/Complaints Management :\\nIndividuals in this role perform data entry of data received from Source documents into the respective Clinical/Safety database While peroforming this activity the associate is responsible for meeting turnaround times and accuracy.\\nThese associates are usually used to handle more critical/senitive transactions.\\nThese associates also act as Subject Matter Expert.\\nCODING:\\nPerform coding activities on the assigned project with timelines and efficiency\\n• Import uncoded terms in database and export coded medical terms from coding platform.\\n• Query Management.\\n• Create “New Term Request” and prioritize.\\n• Perform Dictionary upversioning activity.\\n• Send Coding (Consistency) Reports.\\n• Participate in study related meetings as needed.\\n• Provide feedback on quality related issues to other medical coders in timely manner.\\n• Serve as an SME to Medical Reviewers regarding coding activities & guidelines.\\n• Perform UAT for coding related applications.\\n• Perform Operational QC.\\n• Mentor Team Member.\\n• Coordinate with CDM working on the same study.\\n• Coordinate to resolve Rave specific issues.\\nCDM:\\n1 Execute Data Management Activities ie Data Cleaning, Executing Manual and System checks, Update relevant trackers, Discrepancy and query management, Issue resolution, Database lock activities.\\n2 Participate in innovation and process improvement initiatives.\\n3 Identify and develop action plan in coordination with the TL for activities not meeting the client SLAs.\\n4 Archive all necessary information for audit purposes according to quality and security requirements, to ensure reliable and timely retrieval of documentation and information.\\n5 Support multiple clinical trials, across diverse therapeutic areas, to successful conclusion and provide technical oversight when required.\\nProject / Process:\\nAttempts Complex problems (procedures/processes) and refers to Supervisor/Line Manager in rare cases.\\nHandle first level processing of transactions.\\nAdhere to quality requirements, achieve targets/volumes in given TAT(Turn around time).\\nProactively identify issues.\\nContribute to process improvement initiatives.\\nIdentify and report process changes.\\nAdhere to the mandatory industry regulation and compliance requirements for the given process.\\nKnowledge Management:\\nUpdate Process documentation as appropriate for the process under guidance.\\nParticipate in knowledge transfer.\\nPeople/Team Management:\\nAdhere to org hygiene and compliance needs in terms of.\\na Personal Utilization & Time sheet submission.\\nb Personal and new hire Assimilation.\\nc Attendance.\\nd Team Initiatives.\\nCollate team performance metrics.\\nManage break schedule/transport logistics for the team in the absence of his/her supervisor.\\nGood To Have Skills\\nPharmacovigilance&Safety Ops\\nPV Case Processing\\nEmployee Status : Full Time Employee\\nShift : Day Job',\n",
       " 'Key Skills\\nQuery Management\\nData Management\\nCase Processing\\nData Cleaning\\nData Entry\\nCdm\\nClinical Trials\\nCDM',\n",
       " 'Please refer to the Job description above',\n",
       " \"Job description\\nWe're looking for a Data Analyst who would be responsible for building various offerings as requested by the clients on a regular basis. The individual must be an active contributor towards the overall objective of the project.\\n\\nRoles and Responsibilities\\nIn this role, you will be responsible for all the following activities;\\nExecute deliverables by Business Intelligence and Analysis, Designing, Testing, Migration, Production support and Implement automations.\\nInterpret data, analyze results using statistical techniques and provide ongoing reports\\nDevelop and implement databases, data collection systems, data analytics and other strategies that optimize statistical efficiency and quality\\nAcquire data from primary or secondary data sources and maintain databases/data system.\\nIdentify, analyze, and interpret trends or patterns in complex data sets\\nFilter and clean data by reviewing computer reports, printouts, and performance indicators to locate and correct code problems\\nWork with management to prioritize business and information needs\\nLocate and define new process improvement opportunities\\nProven working experience as a Data Analyst or Business Data Analyst\\nTechnical expertise regarding data models, database design development, data mining and segmentation techniques\\nStrong knowledge of and experience with reporting packages (Business Objects etc.), databases (SQL etc.), programming (XML, Java script, or ETL frameworks)\\nKnowledge of statistics and experience using statistical packages for analyzing datasets (Excel, SPSS, SAS etc.)\\nStrong analytical skills with the ability to collect, organize, analyze, and disseminate significant amounts of information with attention to detail and accuracy\\nAdept at queries, report writing and presenting findings\\nDesired Candidate Profile\\n\\nQualifications we seek in you\\nMinimum qualifications\\n• BS in Mathematics, Economics, Computer Science, Information Management or Statistics\\nPreferred qualifications\\nGood Interpersonal Skills.\\nMust possess problem solving skills and be proactive in researching solutions.\\nAdvanced Excel skills (i.e. complex formulas)\\nAbility to programmatically manipulate worksheet and cell properties using VBA.\\nGood analytical and problem-solving skills\\nExcellent MS Office skills including MS Excel\\n\\nPerks and Benefits\\n\\nRoleBusiness Analyst\\nIndustry TypeKPO, Research, Analytics\\nFunctional AreaIT Software - Application Programming, Maintenance\\nEmployment TypeFull Time, Permanent\\nRole CategorySystem Design/Implementation/ERP/CRM\\nEducation\\nUG :B.Sc in Any Specialization, Any Graduate in Any Specialization\\nPG :M.A in Any Specialization\\nKey Skills\\nBusiness IntelligenceData AnalysisStatistical Modeling\\nSQL\\nSkills highlighted with ‘‘ are preferred keyskills\"]"
      ]
     },
     "execution_count": 72,
     "metadata": {},
     "output_type": "execute_result"
    }
   ],
   "source": [
    "for i in job_desc4:\n",
    "    desc=i.text\n",
    "    job_description.append(desc)\n",
    "job_description"
   ]
  },
  {
   "cell_type": "code",
   "execution_count": 73,
   "metadata": {},
   "outputs": [],
   "source": [
    "driver.close()"
   ]
  },
  {
   "cell_type": "code",
   "execution_count": 74,
   "metadata": {},
   "outputs": [],
   "source": [
    "driver=webdriver.Edge(r\"C:\\Users\\srinj\\OneDrive\\Documents\\EGDownloads\\edgedriver_win64\\msedgedriver.exe\")"
   ]
  },
  {
   "cell_type": "code",
   "execution_count": 75,
   "metadata": {},
   "outputs": [],
   "source": [
    "url='https://www.naukri.com/job-listings-data-analyst-predictive-modelling-ave-promagne-bengaluru-bangalore-2-to-5-years-271120902154?src=jobsearchDesk&sid=1607223984271417&xp=6&px=1'"
   ]
  },
  {
   "cell_type": "code",
   "execution_count": 76,
   "metadata": {},
   "outputs": [],
   "source": [
    "driver.get(url)"
   ]
  },
  {
   "cell_type": "code",
   "execution_count": 77,
   "metadata": {},
   "outputs": [
    {
     "data": {
      "text/plain": [
       "[<selenium.webdriver.remote.webelement.WebElement (session=\"4012126ff703319e940eb2bb0e04493d\", element=\"736d0574-3899-4295-a877-0d5f6250c991\")>]"
      ]
     },
     "execution_count": 77,
     "metadata": {},
     "output_type": "execute_result"
    }
   ],
   "source": [
    "job_desc5=driver.find_elements_by_xpath(\"//section[@class='job-desc']\")\n",
    "job_desc5"
   ]
  },
  {
   "cell_type": "code",
   "execution_count": 78,
   "metadata": {},
   "outputs": [
    {
     "data": {
      "text/plain": [
       "['Job description\\nDear Candidate\\n\\nSchedule a Telephonic Interview ( Please call for confirmation) : Mon- Sat from 11:00am to 5:00pm\\n\\nOR Walk-In to the Corporate office between Monday to Friday from 11:00am to 5:00pm (Date : 19th October onwards)\\nContact person :\\n\\nManigandan -+91 7299917200\\nShantha +91 9790993237\\n\\n\\nSystech Solutions\\nTemple Steps\\nTower 3, 6th Floor\\n184-187 Anna Salai\\nSaidapet, Chennai 600015\\nIndia (Near Little Mount Metro Station)\\nRoles and Responsibilities\\n\\nGreetings from CAIA !\\nA great opportunity to enter the world of future technologies - Data Science, Analytics, AI, Data Visualization\\nApplications invited from all Freshers and experienced candidates aspiring to make a career in Artificial Intelligence and Advanced Analytics and Data Science.\\nIn case you are trying to shift your career to Analytics and/or AI domain please do connect with us to know more.\\nWhat is needed from you?\\n- An Educational background in any one of the following- BE/B.Tech, ME/M Tech, MSc, BSc/MSc Maths and Statistics, B Com, BCA, BSc CS, BSC IT, MSC IT, MCA\\n- Skills relating to Mathematics/Statistics.\\n- Natural passion towards numbers, business, coding, Analytics and Artificial Intelligence, Machine Learning, visualization\\n- Good verbal and written communication skills\\n- Ability to understand domains in businesses across various sectors\\n- Freshers who wish to start their career in Analytics and AI and professionals who wish to up skill or change their domain to analytics and emerging technologies are free to apply.\\nSelection procedure includes\\n- Online Aptitude Test\\n- Logical Ability Test / Written Test\\nOn being shortlisted, you will be have to undergo a one-one discussion with our counsellor for further evaluation and processing of your Resume.\\nWhat you can expect from us?\\nYou will get trained on the following modules for a period of 12-14 weeks:\\n-SQL & PLSQL\\n-Data Wrangling using Python\\n-Statistics for Machine Learning,\\n-Artificial Intelligence, Data Interpretation\\n-Supervised & Unsupervised Learning,\\n-NLP & Deep Learning\\n-Cloud Data Lake\\n-Business intelligence & Data Visualization\\n-Simulation Projects\\nWhat is the expected Outcome?\\nAt the end of the Training you are expected to be well versed with the following:\\n- Analysis of large and complex data sets from multiple sources\\n- Development and evaluation of data analytics models, algorithms and solutions\\n- Understanding/implementation of ML algorithms, performance tuning and reporting\\n- Implementation of algorithms to mine targeted data and the ability to convert data into a business story\\n- Translation of business requirements into technical requirements; Data extraction, preparation and transformation\\n- Identification, development and implementation of statistical techniques and algorithms that address business challenges and adds value to the organisation\\n- Requirement Analysis and communication of findings in the form of a meaningful story with the stakeholders\\nCenter for Artificial Intelligence & Advanced Analytics (CAIA) focuses on the following:\\n1. Global Research on emerging trends, technologies and applications in AI and Advanced Analytics\\n2. Advanced Training programs for readying the future ready workforce\\n3. Solutions to herald the futuristic lifestyle and workspaces in the field of AI and Data Science.\\nhttp://www.centerforaia.com/\\nCenter for Artificial Intelligence and Advanced Analytics (Center for AIA) is the brainchild of experienced and visionary alumni of IIT Madras and Bombay. Digital leaders 5F World and Systech Solutions have joined hands to create a venture for architecting the future of society, workforce, governments and businesses. 5F World specializes in designing solutions around digital platforms and Systech Solutions has an expertise in architecting Artificial Intelligence and Advanced Analytics solutions for Fortune 500 companies through specialized programmed.\\n5F World\\n5F World is a leader in digital transformational journeys and has brought together the best minds in industry, academia and technology domains to develop a unique framework to transform stakeholder journeys through innovation and digitalization of businesses and education institutions.\\nSystech Solutions\\nSystech Solutions is a leading organisation in Data Strategy, Management & Analytics services provider with deep technology expertise and over 20 years of industry experience. Systech Solutions helps empower clients with innovative, data-driven solutions to reimagine their enterprise and has forged partnerships with industry-leading technology providers to develop a full spectrum of data services.\\n\\nWebsite\\nhttp://www.centerforaia.com/\\n\\nhttps://inflexion-analytix-private-limited.business.site/?m=true\\n\\n\\n\\nContact Person\\nShantha/Manigandan\\nPhone Number\\n9790993237 / 7299917200\\nEmail\\nmanigandan@centerforaia.com\\n\\nDesired Candidate Profile\\n\\nPerks and Benefits\\n\\nRoleBusiness Analyst\\nIndustry TypeBPO, Call Centre, ITeS\\nFunctional AreaIT Software - DBA, Datawarehousing\\nEmployment TypeFull Time, Permanent\\nRole CategorySystem Design/Implementation/ERP/CRM\\nEducation\\nUG :B.Com in Any Specialization, B.Tech/B.E. in Any Specialization, Any Graduate in Any Specialization, Other Graduate, B.Sc in Any Specialization, Diploma in Any Specialization\\nPG :MS/M.Sc(Science) in Any Specialization, Other, M.Com in Any Specialization, PG Diploma in Any Specialization, MCA in Any Specialization, MBA/PGDM in Any Specialization, Post Graduation Not Required, M.Tech in Any Specialization\\nKey Skills\\nBusiness IntelligenceArtificial IntelligenceNatural Language ProcessingNeural NetworksData MiningMachine LearningDeep LearningSQLData ScienceRNLPCloud ComputingData AnalysisPLSQLData WarehousingETLPredictive AnalyticsPython',\n",
       " \"Job description\\nHiring Data Analyst profile on the third-party payroll(contractual role 1yr and can be extendable based on performance)\\nResponsibilities And Duties\\nWork closely with the team to understand their requirement to ensure information/reports on a priority basis.\\nCreate processes and methods to gather supply chain data.\\nPreparing Daily, weekly and monthly reports.\\nSync up & collaborate with Multiple Stakeholders to complete daily critical tasks.\\nImprove existing and design new MIS reports for making informed decision making.\\nPreparing Presentations, writing reports for the business teams.\\nAnalysis and collecting reports for multiple functions\\nReport anomalies and findings. \\nTrack KPI's and report on the performance\\nRequired Experience, Skills, And Qualifications\\nMust have an excellent understanding of SQL, R/ Python(Added Advantage) & MS Excel\\nShould have hands-on experience in processing huge datasets\\nUnderstanding and good hold over KPI's.\\n1-5 years of relevant work ex\\nGood command of English, Hindi\\nProactiveness, listening skills, service orientation, Integrity\\nShould have good analytical skills\\nExposure to the eCommerce industry will be Preferred\\nPerks and Benefits\\n\\nRole: Data Analyst\\nExperience: 1yrs to 6 yrs\\nQualification: Any Graduate\\nJob Locations: Bangalore\\nSector - E-commerce, supply chain or logistics\\nCTC - up to 6.5LPA\\nInterested candidates can share their updated profile to smitashree.p@flipkart.com\\nRoleData Analyst\\nIndustry TypeInternet, Ecommerce\\nFunctional AreaAnalytics & Business Intelligence\\nEmployment TypeFull Time, Temporary/Contractual\\nRole CategoryAnalytics & BI\\nEducation\\nUG :Any Graduate in Any Specialization\\nKey Skills\\nBusiness IntelligenceAutomationExcelBusiness AnalyticsData AnalysisData VisualizationData MiningData AnalyticsAnalyticsSQLBusiness AnalysisPython\",\n",
       " \"Job description\\nHiring Data Analyst profile on the third-party payroll(contractual role 1yr and can be extendable based on performance)\\nResponsibilities And Duties\\nWork closely with the team to understand their requirement to ensure information/reports on a priority basis.\\nCreate processes and methods to gather supply chain data.\\nPreparing Daily, weekly and monthly reports.\\nSync up & collaborate with Multiple Stakeholders to complete daily critical tasks.\\nImprove existing and design new MIS reports for making informed decision making.\\nPreparing Presentations, writing reports for the business teams.\\nAnalysis and collecting reports for multiple functions\\nReport anomalies and findings. \\nTrack KPI's and report on the performance\\nRequired Experience, Skills, And Qualifications\\nMust have an excellent understanding of SQL, R/ Python(Added Advantage) & MS Excel\\nShould have hands-on experience in processing huge datasets\\nUnderstanding and good hold over KPI's.\\n1-5 years of relevant work ex\\nGood command of English, Hindi\\nProactiveness, listening skills, service orientation, Integrity\\nShould have good analytical skills\\nExposure to the eCommerce industry will be Preferred\\nPerks and Benefits\\n\\nRole: Data Analyst\\nExperience: 1yrs to 6 yrs\\nQualification: Any Graduate\\nJob Locations: Bangalore\\nSector - E-commerce, supply chain or logistics\\nCTC - up to 6.5LPA\\nInterested candidates can share their updated profile to smitashree.p@flipkart.com\\nRoleData Analyst\\nIndustry TypeInternet, Ecommerce\\nFunctional AreaAnalytics & Business Intelligence\\nEmployment TypeFull Time, Temporary/Contractual\\nRole CategoryAnalytics & BI\\nEducation\\nUG :Any Graduate in Any Specialization\\nKey Skills\\nBusiness IntelligenceAutomationExcelBusiness AnalyticsData AnalysisData VisualizationData MiningData AnalyticsAnalyticsSQLBusiness AnalysisPython\",\n",
       " 'Job description\\nFlipkart is looking for Data Analyst [On Contract for One Year, Extendable based on performance, Third Party PayRoll: Teamlease]\\nMust have skills: SQL, Power BI, Visual basic tools, Google Data Studio, Creating Dashboards, Power Tools, Automation  Excel.\\nExperience: Min 1-2 years\\nLocation: Bangalore\\nResponsibilities And Duties\\nWork closely with the team to understand their requirement to ensure information/reports on a priority basis.\\nPreparing Daily, weekly and Monthly reports.\\nSync up & collaborate with Multiple Stakeholders to complete daily critical tasks.\\nImprove existing and design new MIS reports for making informed decision making.\\nPreparing Presentations, writing reports for the business teams.\\nAnalysis and collecting reports for multiple functions\\nReport anomalies and findings. \\nRequired Experience, Skills And Qualifications\\nMust have excellent understanding/ hands-on experience on SQL, Power BI, Data Visualisation, Creating Dashboards, Python, Automation Tools, R(Added Advantage) & MS Excel, VBA, Macros/ Tableau\\nShould have hands-on experience in processing huge datasets\\nGood command over English, Hindi\\nProactiveness, listening skills, service orientation, Integrity\\nShould have good analytical skills\\nExposure to the eCommerce industry will be Preferred\\n\\nRole: Data Analyst\\nExperience: 1yrs to5 yrs\\nQualification: Any Graduate\\nJob Locations: Bangalore\\nCTC - up to 5.5LPA\\nInterested candidates can share their updated profile to rohan.v@flipkart.com\\nRoleData Analyst\\nIndustry TypeInternet, Ecommerce\\nFunctional AreaAnalytics & Business Intelligence\\nEmployment TypeFull Time, Temporary/Contractual\\nRole CategoryAnalytics & BI\\nEducation\\nUG :Any Graduate in Any Specialization\\nKey Skills\\nBusiness IntelligenceAutomationPower BiData MiningPower ToolsAnalyticsSQLExcelGDSData AnalysisData VisualizationDashboardsData AnalyticsPython',\n",
       " 'Job Description\\nRoles and Responsibilities\\nTeam Lead - CDM/PV\\nQualification:\\nGraduate/Post Graduate/ Doctorate degree in life sciences/Pharmacy/Medical sciences/Registered Nurse\\nResponsibility:\\nBusiness/ Customer:\\nMinimal Customer interaction under guidance.\\nUnderstands Domain Process/sub process, functions, terminologies (such as SOP, QC checklists).\\nFor PV/Complaints Management :\\nIndividuals in this role perform data entry of data received from Source documents into the respective Clinical/Safety database While peroforming this activity the associate is responsible for meeting turnaround times and accuracy.\\nThese associates are usually used to handle more critical/senitive transactions.\\nThese associates also act as Subject Matter Expert.\\nCODING:\\nPerform coding activities on the assigned project with timelines and efficiency\\n• Import uncoded terms in database and export coded medical terms from coding platform.\\n• Query Management.\\n• Create “New Term Request” and prioritize.\\n• Perform Dictionary upversioning activity.\\n• Send Coding (Consistency) Reports.\\n• Participate in study related meetings as needed.\\n• Provide feedback on quality related issues to other medical coders in timely manner.\\n• Serve as an SME to Medical Reviewers regarding coding activities & guidelines.\\n• Perform UAT for coding related applications.\\n• Perform Operational QC.\\n• Mentor Team Member.\\n• Coordinate with CDM working on the same study.\\n• Coordinate to resolve Rave specific issues.\\nCDM:\\n1 Execute Data Management Activities ie Data Cleaning, Executing Manual and System checks, Update relevant trackers, Discrepancy and query management, Issue resolution, Database lock activities.\\n2 Participate in innovation and process improvement initiatives.\\n3 Identify and develop action plan in coordination with the TL for activities not meeting the client SLAs.\\n4 Archive all necessary information for audit purposes according to quality and security requirements, to ensure reliable and timely retrieval of documentation and information.\\n5 Support multiple clinical trials, across diverse therapeutic areas, to successful conclusion and provide technical oversight when required.\\nProject / Process:\\nAttempts Complex problems (procedures/processes) and refers to Supervisor/Line Manager in rare cases.\\nHandle first level processing of transactions.\\nAdhere to quality requirements, achieve targets/volumes in given TAT(Turn around time).\\nProactively identify issues.\\nContribute to process improvement initiatives.\\nIdentify and report process changes.\\nAdhere to the mandatory industry regulation and compliance requirements for the given process.\\nKnowledge Management:\\nUpdate Process documentation as appropriate for the process under guidance.\\nParticipate in knowledge transfer.\\nPeople/Team Management:\\nAdhere to org hygiene and compliance needs in terms of.\\na Personal Utilization & Time sheet submission.\\nb Personal and new hire Assimilation.\\nc Attendance.\\nd Team Initiatives.\\nCollate team performance metrics.\\nManage break schedule/transport logistics for the team in the absence of his/her supervisor.\\nGood To Have Skills\\nPharmacovigilance&Safety Ops\\nPV Case Processing\\nEmployee Status : Full Time Employee\\nShift : Day Job',\n",
       " 'Key Skills\\nQuery Management\\nData Management\\nCase Processing\\nData Cleaning\\nData Entry\\nCdm\\nClinical Trials\\nCDM',\n",
       " 'Please refer to the Job description above',\n",
       " \"Job description\\nWe're looking for a Data Analyst who would be responsible for building various offerings as requested by the clients on a regular basis. The individual must be an active contributor towards the overall objective of the project.\\n\\nRoles and Responsibilities\\nIn this role, you will be responsible for all the following activities;\\nExecute deliverables by Business Intelligence and Analysis, Designing, Testing, Migration, Production support and Implement automations.\\nInterpret data, analyze results using statistical techniques and provide ongoing reports\\nDevelop and implement databases, data collection systems, data analytics and other strategies that optimize statistical efficiency and quality\\nAcquire data from primary or secondary data sources and maintain databases/data system.\\nIdentify, analyze, and interpret trends or patterns in complex data sets\\nFilter and clean data by reviewing computer reports, printouts, and performance indicators to locate and correct code problems\\nWork with management to prioritize business and information needs\\nLocate and define new process improvement opportunities\\nProven working experience as a Data Analyst or Business Data Analyst\\nTechnical expertise regarding data models, database design development, data mining and segmentation techniques\\nStrong knowledge of and experience with reporting packages (Business Objects etc.), databases (SQL etc.), programming (XML, Java script, or ETL frameworks)\\nKnowledge of statistics and experience using statistical packages for analyzing datasets (Excel, SPSS, SAS etc.)\\nStrong analytical skills with the ability to collect, organize, analyze, and disseminate significant amounts of information with attention to detail and accuracy\\nAdept at queries, report writing and presenting findings\\nDesired Candidate Profile\\n\\nQualifications we seek in you\\nMinimum qualifications\\n• BS in Mathematics, Economics, Computer Science, Information Management or Statistics\\nPreferred qualifications\\nGood Interpersonal Skills.\\nMust possess problem solving skills and be proactive in researching solutions.\\nAdvanced Excel skills (i.e. complex formulas)\\nAbility to programmatically manipulate worksheet and cell properties using VBA.\\nGood analytical and problem-solving skills\\nExcellent MS Office skills including MS Excel\\n\\nPerks and Benefits\\n\\nRoleBusiness Analyst\\nIndustry TypeKPO, Research, Analytics\\nFunctional AreaIT Software - Application Programming, Maintenance\\nEmployment TypeFull Time, Permanent\\nRole CategorySystem Design/Implementation/ERP/CRM\\nEducation\\nUG :B.Sc in Any Specialization, Any Graduate in Any Specialization\\nPG :M.A in Any Specialization\\nKey Skills\\nBusiness IntelligenceData AnalysisStatistical Modeling\\nSQL\\nSkills highlighted with ‘‘ are preferred keyskills\",\n",
       " 'Job description\\nKey Areas of Responsibility\\nCollection, validation, analysis of mutual fund information.\\nUpdating the mutual fund information into our databases in a timely manner.\\nPerform quality checks.\\nCommunicate with UK and Offshore asset management companies via email/telephone.\\nProvide clarifications to clients queries based on priority and urgency levels.\\nExtract and provide various project-related reports as required by the manager.\\nKey Skills\\nKey Technical Skills\\nPossess basic knowledge of Mutual funds and/or of the financial sector.\\nProficient in MS Office (including MS Outlook)\\nKey Behavioural Skills\\nVery good written and spoken English communication skills.\\nGood Analytical and Problem solving skills.\\nAbility to work independently and come up with ideas to enhance the process.\\nAbility to achieve the defined SLA standards with regard to Turn Around Time, Work accuracy etc. and maintain them throughout ones tenure in the department.\\nAbility to quickly learn new concepts relating to Mutual funds and be able to apply them in the work.\\n\\nRoleData Analyst\\nIndustry TypeIT-Software, Software Services\\nFunctional AreaAnalytics & Business Intelligence\\nEmployment TypeFull Time, Permanent\\nRole CategoryAnalytics & BI\\nEducation\\nUG :Any Graduate in Any Specialization\\nPG :Any Postgraduate in Any Specialization\\nDoctorate :Doctorate Not Required\\nKey Skills\\ndata analyticsdata modellingPredictive Modellingstatistical modellingData Analyststatistics']"
      ]
     },
     "execution_count": 78,
     "metadata": {},
     "output_type": "execute_result"
    }
   ],
   "source": [
    "for i in job_desc5:\n",
    "    desc=i.text\n",
    "    job_description.append(desc)\n",
    "job_description"
   ]
  },
  {
   "cell_type": "code",
   "execution_count": 79,
   "metadata": {},
   "outputs": [],
   "source": [
    "driver.close()"
   ]
  },
  {
   "cell_type": "code",
   "execution_count": 80,
   "metadata": {},
   "outputs": [],
   "source": [
    "driver=webdriver.Edge(r\"C:\\Users\\srinj\\OneDrive\\Documents\\EGDownloads\\edgedriver_win64\\msedgedriver.exe\")"
   ]
  },
  {
   "cell_type": "code",
   "execution_count": 81,
   "metadata": {},
   "outputs": [],
   "source": [
    "url='https://www.naukri.com/job-listings-data-scientist-data-analyst-altimetrik-india-pvt-ltd-bengaluru-bangalore-3-to-8-years-261120500590?src=jobsearchDesk&sid=1607223984271417&xp=7&px=1'"
   ]
  },
  {
   "cell_type": "code",
   "execution_count": 83,
   "metadata": {},
   "outputs": [],
   "source": [
    "driver.get(url)"
   ]
  },
  {
   "cell_type": "code",
   "execution_count": 84,
   "metadata": {},
   "outputs": [
    {
     "data": {
      "text/plain": [
       "[<selenium.webdriver.remote.webelement.WebElement (session=\"af468c78925b67d6ef539c3c32cb4e3c\", element=\"021b6ceb-85dd-481c-8fa9-e77a6892beec\")>]"
      ]
     },
     "execution_count": 84,
     "metadata": {},
     "output_type": "execute_result"
    }
   ],
   "source": [
    "job_desc6=driver.find_elements_by_xpath(\"//section[@class='job-desc']\")\n",
    "job_desc6"
   ]
  },
  {
   "cell_type": "code",
   "execution_count": 85,
   "metadata": {},
   "outputs": [
    {
     "data": {
      "text/plain": [
       "['Job description\\nDear Candidate\\n\\nSchedule a Telephonic Interview ( Please call for confirmation) : Mon- Sat from 11:00am to 5:00pm\\n\\nOR Walk-In to the Corporate office between Monday to Friday from 11:00am to 5:00pm (Date : 19th October onwards)\\nContact person :\\n\\nManigandan -+91 7299917200\\nShantha +91 9790993237\\n\\n\\nSystech Solutions\\nTemple Steps\\nTower 3, 6th Floor\\n184-187 Anna Salai\\nSaidapet, Chennai 600015\\nIndia (Near Little Mount Metro Station)\\nRoles and Responsibilities\\n\\nGreetings from CAIA !\\nA great opportunity to enter the world of future technologies - Data Science, Analytics, AI, Data Visualization\\nApplications invited from all Freshers and experienced candidates aspiring to make a career in Artificial Intelligence and Advanced Analytics and Data Science.\\nIn case you are trying to shift your career to Analytics and/or AI domain please do connect with us to know more.\\nWhat is needed from you?\\n- An Educational background in any one of the following- BE/B.Tech, ME/M Tech, MSc, BSc/MSc Maths and Statistics, B Com, BCA, BSc CS, BSC IT, MSC IT, MCA\\n- Skills relating to Mathematics/Statistics.\\n- Natural passion towards numbers, business, coding, Analytics and Artificial Intelligence, Machine Learning, visualization\\n- Good verbal and written communication skills\\n- Ability to understand domains in businesses across various sectors\\n- Freshers who wish to start their career in Analytics and AI and professionals who wish to up skill or change their domain to analytics and emerging technologies are free to apply.\\nSelection procedure includes\\n- Online Aptitude Test\\n- Logical Ability Test / Written Test\\nOn being shortlisted, you will be have to undergo a one-one discussion with our counsellor for further evaluation and processing of your Resume.\\nWhat you can expect from us?\\nYou will get trained on the following modules for a period of 12-14 weeks:\\n-SQL & PLSQL\\n-Data Wrangling using Python\\n-Statistics for Machine Learning,\\n-Artificial Intelligence, Data Interpretation\\n-Supervised & Unsupervised Learning,\\n-NLP & Deep Learning\\n-Cloud Data Lake\\n-Business intelligence & Data Visualization\\n-Simulation Projects\\nWhat is the expected Outcome?\\nAt the end of the Training you are expected to be well versed with the following:\\n- Analysis of large and complex data sets from multiple sources\\n- Development and evaluation of data analytics models, algorithms and solutions\\n- Understanding/implementation of ML algorithms, performance tuning and reporting\\n- Implementation of algorithms to mine targeted data and the ability to convert data into a business story\\n- Translation of business requirements into technical requirements; Data extraction, preparation and transformation\\n- Identification, development and implementation of statistical techniques and algorithms that address business challenges and adds value to the organisation\\n- Requirement Analysis and communication of findings in the form of a meaningful story with the stakeholders\\nCenter for Artificial Intelligence & Advanced Analytics (CAIA) focuses on the following:\\n1. Global Research on emerging trends, technologies and applications in AI and Advanced Analytics\\n2. Advanced Training programs for readying the future ready workforce\\n3. Solutions to herald the futuristic lifestyle and workspaces in the field of AI and Data Science.\\nhttp://www.centerforaia.com/\\nCenter for Artificial Intelligence and Advanced Analytics (Center for AIA) is the brainchild of experienced and visionary alumni of IIT Madras and Bombay. Digital leaders 5F World and Systech Solutions have joined hands to create a venture for architecting the future of society, workforce, governments and businesses. 5F World specializes in designing solutions around digital platforms and Systech Solutions has an expertise in architecting Artificial Intelligence and Advanced Analytics solutions for Fortune 500 companies through specialized programmed.\\n5F World\\n5F World is a leader in digital transformational journeys and has brought together the best minds in industry, academia and technology domains to develop a unique framework to transform stakeholder journeys through innovation and digitalization of businesses and education institutions.\\nSystech Solutions\\nSystech Solutions is a leading organisation in Data Strategy, Management & Analytics services provider with deep technology expertise and over 20 years of industry experience. Systech Solutions helps empower clients with innovative, data-driven solutions to reimagine their enterprise and has forged partnerships with industry-leading technology providers to develop a full spectrum of data services.\\n\\nWebsite\\nhttp://www.centerforaia.com/\\n\\nhttps://inflexion-analytix-private-limited.business.site/?m=true\\n\\n\\n\\nContact Person\\nShantha/Manigandan\\nPhone Number\\n9790993237 / 7299917200\\nEmail\\nmanigandan@centerforaia.com\\n\\nDesired Candidate Profile\\n\\nPerks and Benefits\\n\\nRoleBusiness Analyst\\nIndustry TypeBPO, Call Centre, ITeS\\nFunctional AreaIT Software - DBA, Datawarehousing\\nEmployment TypeFull Time, Permanent\\nRole CategorySystem Design/Implementation/ERP/CRM\\nEducation\\nUG :B.Com in Any Specialization, B.Tech/B.E. in Any Specialization, Any Graduate in Any Specialization, Other Graduate, B.Sc in Any Specialization, Diploma in Any Specialization\\nPG :MS/M.Sc(Science) in Any Specialization, Other, M.Com in Any Specialization, PG Diploma in Any Specialization, MCA in Any Specialization, MBA/PGDM in Any Specialization, Post Graduation Not Required, M.Tech in Any Specialization\\nKey Skills\\nBusiness IntelligenceArtificial IntelligenceNatural Language ProcessingNeural NetworksData MiningMachine LearningDeep LearningSQLData ScienceRNLPCloud ComputingData AnalysisPLSQLData WarehousingETLPredictive AnalyticsPython',\n",
       " \"Job description\\nHiring Data Analyst profile on the third-party payroll(contractual role 1yr and can be extendable based on performance)\\nResponsibilities And Duties\\nWork closely with the team to understand their requirement to ensure information/reports on a priority basis.\\nCreate processes and methods to gather supply chain data.\\nPreparing Daily, weekly and monthly reports.\\nSync up & collaborate with Multiple Stakeholders to complete daily critical tasks.\\nImprove existing and design new MIS reports for making informed decision making.\\nPreparing Presentations, writing reports for the business teams.\\nAnalysis and collecting reports for multiple functions\\nReport anomalies and findings. \\nTrack KPI's and report on the performance\\nRequired Experience, Skills, And Qualifications\\nMust have an excellent understanding of SQL, R/ Python(Added Advantage) & MS Excel\\nShould have hands-on experience in processing huge datasets\\nUnderstanding and good hold over KPI's.\\n1-5 years of relevant work ex\\nGood command of English, Hindi\\nProactiveness, listening skills, service orientation, Integrity\\nShould have good analytical skills\\nExposure to the eCommerce industry will be Preferred\\nPerks and Benefits\\n\\nRole: Data Analyst\\nExperience: 1yrs to 6 yrs\\nQualification: Any Graduate\\nJob Locations: Bangalore\\nSector - E-commerce, supply chain or logistics\\nCTC - up to 6.5LPA\\nInterested candidates can share their updated profile to smitashree.p@flipkart.com\\nRoleData Analyst\\nIndustry TypeInternet, Ecommerce\\nFunctional AreaAnalytics & Business Intelligence\\nEmployment TypeFull Time, Temporary/Contractual\\nRole CategoryAnalytics & BI\\nEducation\\nUG :Any Graduate in Any Specialization\\nKey Skills\\nBusiness IntelligenceAutomationExcelBusiness AnalyticsData AnalysisData VisualizationData MiningData AnalyticsAnalyticsSQLBusiness AnalysisPython\",\n",
       " \"Job description\\nHiring Data Analyst profile on the third-party payroll(contractual role 1yr and can be extendable based on performance)\\nResponsibilities And Duties\\nWork closely with the team to understand their requirement to ensure information/reports on a priority basis.\\nCreate processes and methods to gather supply chain data.\\nPreparing Daily, weekly and monthly reports.\\nSync up & collaborate with Multiple Stakeholders to complete daily critical tasks.\\nImprove existing and design new MIS reports for making informed decision making.\\nPreparing Presentations, writing reports for the business teams.\\nAnalysis and collecting reports for multiple functions\\nReport anomalies and findings. \\nTrack KPI's and report on the performance\\nRequired Experience, Skills, And Qualifications\\nMust have an excellent understanding of SQL, R/ Python(Added Advantage) & MS Excel\\nShould have hands-on experience in processing huge datasets\\nUnderstanding and good hold over KPI's.\\n1-5 years of relevant work ex\\nGood command of English, Hindi\\nProactiveness, listening skills, service orientation, Integrity\\nShould have good analytical skills\\nExposure to the eCommerce industry will be Preferred\\nPerks and Benefits\\n\\nRole: Data Analyst\\nExperience: 1yrs to 6 yrs\\nQualification: Any Graduate\\nJob Locations: Bangalore\\nSector - E-commerce, supply chain or logistics\\nCTC - up to 6.5LPA\\nInterested candidates can share their updated profile to smitashree.p@flipkart.com\\nRoleData Analyst\\nIndustry TypeInternet, Ecommerce\\nFunctional AreaAnalytics & Business Intelligence\\nEmployment TypeFull Time, Temporary/Contractual\\nRole CategoryAnalytics & BI\\nEducation\\nUG :Any Graduate in Any Specialization\\nKey Skills\\nBusiness IntelligenceAutomationExcelBusiness AnalyticsData AnalysisData VisualizationData MiningData AnalyticsAnalyticsSQLBusiness AnalysisPython\",\n",
       " 'Job description\\nFlipkart is looking for Data Analyst [On Contract for One Year, Extendable based on performance, Third Party PayRoll: Teamlease]\\nMust have skills: SQL, Power BI, Visual basic tools, Google Data Studio, Creating Dashboards, Power Tools, Automation  Excel.\\nExperience: Min 1-2 years\\nLocation: Bangalore\\nResponsibilities And Duties\\nWork closely with the team to understand their requirement to ensure information/reports on a priority basis.\\nPreparing Daily, weekly and Monthly reports.\\nSync up & collaborate with Multiple Stakeholders to complete daily critical tasks.\\nImprove existing and design new MIS reports for making informed decision making.\\nPreparing Presentations, writing reports for the business teams.\\nAnalysis and collecting reports for multiple functions\\nReport anomalies and findings. \\nRequired Experience, Skills And Qualifications\\nMust have excellent understanding/ hands-on experience on SQL, Power BI, Data Visualisation, Creating Dashboards, Python, Automation Tools, R(Added Advantage) & MS Excel, VBA, Macros/ Tableau\\nShould have hands-on experience in processing huge datasets\\nGood command over English, Hindi\\nProactiveness, listening skills, service orientation, Integrity\\nShould have good analytical skills\\nExposure to the eCommerce industry will be Preferred\\n\\nRole: Data Analyst\\nExperience: 1yrs to5 yrs\\nQualification: Any Graduate\\nJob Locations: Bangalore\\nCTC - up to 5.5LPA\\nInterested candidates can share their updated profile to rohan.v@flipkart.com\\nRoleData Analyst\\nIndustry TypeInternet, Ecommerce\\nFunctional AreaAnalytics & Business Intelligence\\nEmployment TypeFull Time, Temporary/Contractual\\nRole CategoryAnalytics & BI\\nEducation\\nUG :Any Graduate in Any Specialization\\nKey Skills\\nBusiness IntelligenceAutomationPower BiData MiningPower ToolsAnalyticsSQLExcelGDSData AnalysisData VisualizationDashboardsData AnalyticsPython',\n",
       " 'Job Description\\nRoles and Responsibilities\\nTeam Lead - CDM/PV\\nQualification:\\nGraduate/Post Graduate/ Doctorate degree in life sciences/Pharmacy/Medical sciences/Registered Nurse\\nResponsibility:\\nBusiness/ Customer:\\nMinimal Customer interaction under guidance.\\nUnderstands Domain Process/sub process, functions, terminologies (such as SOP, QC checklists).\\nFor PV/Complaints Management :\\nIndividuals in this role perform data entry of data received from Source documents into the respective Clinical/Safety database While peroforming this activity the associate is responsible for meeting turnaround times and accuracy.\\nThese associates are usually used to handle more critical/senitive transactions.\\nThese associates also act as Subject Matter Expert.\\nCODING:\\nPerform coding activities on the assigned project with timelines and efficiency\\n• Import uncoded terms in database and export coded medical terms from coding platform.\\n• Query Management.\\n• Create “New Term Request” and prioritize.\\n• Perform Dictionary upversioning activity.\\n• Send Coding (Consistency) Reports.\\n• Participate in study related meetings as needed.\\n• Provide feedback on quality related issues to other medical coders in timely manner.\\n• Serve as an SME to Medical Reviewers regarding coding activities & guidelines.\\n• Perform UAT for coding related applications.\\n• Perform Operational QC.\\n• Mentor Team Member.\\n• Coordinate with CDM working on the same study.\\n• Coordinate to resolve Rave specific issues.\\nCDM:\\n1 Execute Data Management Activities ie Data Cleaning, Executing Manual and System checks, Update relevant trackers, Discrepancy and query management, Issue resolution, Database lock activities.\\n2 Participate in innovation and process improvement initiatives.\\n3 Identify and develop action plan in coordination with the TL for activities not meeting the client SLAs.\\n4 Archive all necessary information for audit purposes according to quality and security requirements, to ensure reliable and timely retrieval of documentation and information.\\n5 Support multiple clinical trials, across diverse therapeutic areas, to successful conclusion and provide technical oversight when required.\\nProject / Process:\\nAttempts Complex problems (procedures/processes) and refers to Supervisor/Line Manager in rare cases.\\nHandle first level processing of transactions.\\nAdhere to quality requirements, achieve targets/volumes in given TAT(Turn around time).\\nProactively identify issues.\\nContribute to process improvement initiatives.\\nIdentify and report process changes.\\nAdhere to the mandatory industry regulation and compliance requirements for the given process.\\nKnowledge Management:\\nUpdate Process documentation as appropriate for the process under guidance.\\nParticipate in knowledge transfer.\\nPeople/Team Management:\\nAdhere to org hygiene and compliance needs in terms of.\\na Personal Utilization & Time sheet submission.\\nb Personal and new hire Assimilation.\\nc Attendance.\\nd Team Initiatives.\\nCollate team performance metrics.\\nManage break schedule/transport logistics for the team in the absence of his/her supervisor.\\nGood To Have Skills\\nPharmacovigilance&Safety Ops\\nPV Case Processing\\nEmployee Status : Full Time Employee\\nShift : Day Job',\n",
       " 'Key Skills\\nQuery Management\\nData Management\\nCase Processing\\nData Cleaning\\nData Entry\\nCdm\\nClinical Trials\\nCDM',\n",
       " 'Please refer to the Job description above',\n",
       " \"Job description\\nWe're looking for a Data Analyst who would be responsible for building various offerings as requested by the clients on a regular basis. The individual must be an active contributor towards the overall objective of the project.\\n\\nRoles and Responsibilities\\nIn this role, you will be responsible for all the following activities;\\nExecute deliverables by Business Intelligence and Analysis, Designing, Testing, Migration, Production support and Implement automations.\\nInterpret data, analyze results using statistical techniques and provide ongoing reports\\nDevelop and implement databases, data collection systems, data analytics and other strategies that optimize statistical efficiency and quality\\nAcquire data from primary or secondary data sources and maintain databases/data system.\\nIdentify, analyze, and interpret trends or patterns in complex data sets\\nFilter and clean data by reviewing computer reports, printouts, and performance indicators to locate and correct code problems\\nWork with management to prioritize business and information needs\\nLocate and define new process improvement opportunities\\nProven working experience as a Data Analyst or Business Data Analyst\\nTechnical expertise regarding data models, database design development, data mining and segmentation techniques\\nStrong knowledge of and experience with reporting packages (Business Objects etc.), databases (SQL etc.), programming (XML, Java script, or ETL frameworks)\\nKnowledge of statistics and experience using statistical packages for analyzing datasets (Excel, SPSS, SAS etc.)\\nStrong analytical skills with the ability to collect, organize, analyze, and disseminate significant amounts of information with attention to detail and accuracy\\nAdept at queries, report writing and presenting findings\\nDesired Candidate Profile\\n\\nQualifications we seek in you\\nMinimum qualifications\\n• BS in Mathematics, Economics, Computer Science, Information Management or Statistics\\nPreferred qualifications\\nGood Interpersonal Skills.\\nMust possess problem solving skills and be proactive in researching solutions.\\nAdvanced Excel skills (i.e. complex formulas)\\nAbility to programmatically manipulate worksheet and cell properties using VBA.\\nGood analytical and problem-solving skills\\nExcellent MS Office skills including MS Excel\\n\\nPerks and Benefits\\n\\nRoleBusiness Analyst\\nIndustry TypeKPO, Research, Analytics\\nFunctional AreaIT Software - Application Programming, Maintenance\\nEmployment TypeFull Time, Permanent\\nRole CategorySystem Design/Implementation/ERP/CRM\\nEducation\\nUG :B.Sc in Any Specialization, Any Graduate in Any Specialization\\nPG :M.A in Any Specialization\\nKey Skills\\nBusiness IntelligenceData AnalysisStatistical Modeling\\nSQL\\nSkills highlighted with ‘‘ are preferred keyskills\",\n",
       " 'Job description\\nKey Areas of Responsibility\\nCollection, validation, analysis of mutual fund information.\\nUpdating the mutual fund information into our databases in a timely manner.\\nPerform quality checks.\\nCommunicate with UK and Offshore asset management companies via email/telephone.\\nProvide clarifications to clients queries based on priority and urgency levels.\\nExtract and provide various project-related reports as required by the manager.\\nKey Skills\\nKey Technical Skills\\nPossess basic knowledge of Mutual funds and/or of the financial sector.\\nProficient in MS Office (including MS Outlook)\\nKey Behavioural Skills\\nVery good written and spoken English communication skills.\\nGood Analytical and Problem solving skills.\\nAbility to work independently and come up with ideas to enhance the process.\\nAbility to achieve the defined SLA standards with regard to Turn Around Time, Work accuracy etc. and maintain them throughout ones tenure in the department.\\nAbility to quickly learn new concepts relating to Mutual funds and be able to apply them in the work.\\n\\nRoleData Analyst\\nIndustry TypeIT-Software, Software Services\\nFunctional AreaAnalytics & Business Intelligence\\nEmployment TypeFull Time, Permanent\\nRole CategoryAnalytics & BI\\nEducation\\nUG :Any Graduate in Any Specialization\\nPG :Any Postgraduate in Any Specialization\\nDoctorate :Doctorate Not Required\\nKey Skills\\ndata analyticsdata modellingPredictive Modellingstatistical modellingData Analyststatistics',\n",
       " 'Job description\\n3+ years of data science,\\ndata analytics, or business intelligence experience\\nStrong understanding of SQL\\nExperience with conducting data analysis in Python and / or R\\nExperience building clear and easy to understand dashboards and presentations\\nAbility to communicate clearly and effectively to cross functional partners of varying technical levels\\nAbility to define relevant metrics that can guide and influence stakeholders to appropriate and accurate insights\\n\\n\\nPluses\\nFamiliarity with Superset\\nFamiliarity with running weblab experiments, efficacy studies, or product validation tests\\nFamiliarity with machine learning basics\\nFamiliarity with Airbnb infrastructure, including Airflow, Presto SQL, and Hive SQL\\nExperience creating and maintaining data pipelines\\nExperience supporting engineering product work\\nRoleHead/VP/GM-Quality\\nIndustry TypeIT-Software, Software Services\\nFunctional AreaIT Software - System Programming\\nEmployment TypeFull Time, Permanent\\nRole CategorySenior Management\\nEducation\\nUG :Any Graduate in Any Specialization\\nPG :Post Graduation Not Required\\nKey Skills\\nhiveData analysisdata scienceInfrastructureData AnalystData analyticsproduct validationBusiness intelligenceSQLPython']"
      ]
     },
     "execution_count": 85,
     "metadata": {},
     "output_type": "execute_result"
    }
   ],
   "source": [
    "for i in job_desc6:\n",
    "    desc=i.text\n",
    "    job_description.append(desc)\n",
    "job_description"
   ]
  },
  {
   "cell_type": "code",
   "execution_count": 86,
   "metadata": {},
   "outputs": [],
   "source": [
    "driver.close()"
   ]
  },
  {
   "cell_type": "code",
   "execution_count": 87,
   "metadata": {},
   "outputs": [],
   "source": [
    "driver=webdriver.Edge(r\"C:\\Users\\srinj\\OneDrive\\Documents\\EGDownloads\\edgedriver_win64\\msedgedriver.exe\")"
   ]
  },
  {
   "cell_type": "code",
   "execution_count": 88,
   "metadata": {},
   "outputs": [],
   "source": [
    "url='https://www.naukri.com/job-listings-data-analyst-thinkbumblebee-analytics-pvt-ltd-pune-delhi-mumbai-bengaluru-bangalore-hyderabad-secunderabad-3-to-6-years-041220902672?src=jobsearchDesk&sid=1607223984271417&xp=8&px=1'"
   ]
  },
  {
   "cell_type": "code",
   "execution_count": 90,
   "metadata": {},
   "outputs": [],
   "source": [
    "driver.get(url)"
   ]
  },
  {
   "cell_type": "code",
   "execution_count": 91,
   "metadata": {},
   "outputs": [
    {
     "data": {
      "text/plain": [
       "[<selenium.webdriver.remote.webelement.WebElement (session=\"911346c94cbc39e396e2b5cb6372413f\", element=\"0096f36e-18b4-47b1-832f-dfe51d15d920\")>]"
      ]
     },
     "execution_count": 91,
     "metadata": {},
     "output_type": "execute_result"
    }
   ],
   "source": [
    "job_desc7=driver.find_elements_by_xpath(\"//section[@class='job-desc']\")\n",
    "job_desc7"
   ]
  },
  {
   "cell_type": "code",
   "execution_count": 93,
   "metadata": {},
   "outputs": [
    {
     "data": {
      "text/plain": [
       "['Job description\\nDear Candidate\\n\\nSchedule a Telephonic Interview ( Please call for confirmation) : Mon- Sat from 11:00am to 5:00pm\\n\\nOR Walk-In to the Corporate office between Monday to Friday from 11:00am to 5:00pm (Date : 19th October onwards)\\nContact person :\\n\\nManigandan -+91 7299917200\\nShantha +91 9790993237\\n\\n\\nSystech Solutions\\nTemple Steps\\nTower 3, 6th Floor\\n184-187 Anna Salai\\nSaidapet, Chennai 600015\\nIndia (Near Little Mount Metro Station)\\nRoles and Responsibilities\\n\\nGreetings from CAIA !\\nA great opportunity to enter the world of future technologies - Data Science, Analytics, AI, Data Visualization\\nApplications invited from all Freshers and experienced candidates aspiring to make a career in Artificial Intelligence and Advanced Analytics and Data Science.\\nIn case you are trying to shift your career to Analytics and/or AI domain please do connect with us to know more.\\nWhat is needed from you?\\n- An Educational background in any one of the following- BE/B.Tech, ME/M Tech, MSc, BSc/MSc Maths and Statistics, B Com, BCA, BSc CS, BSC IT, MSC IT, MCA\\n- Skills relating to Mathematics/Statistics.\\n- Natural passion towards numbers, business, coding, Analytics and Artificial Intelligence, Machine Learning, visualization\\n- Good verbal and written communication skills\\n- Ability to understand domains in businesses across various sectors\\n- Freshers who wish to start their career in Analytics and AI and professionals who wish to up skill or change their domain to analytics and emerging technologies are free to apply.\\nSelection procedure includes\\n- Online Aptitude Test\\n- Logical Ability Test / Written Test\\nOn being shortlisted, you will be have to undergo a one-one discussion with our counsellor for further evaluation and processing of your Resume.\\nWhat you can expect from us?\\nYou will get trained on the following modules for a period of 12-14 weeks:\\n-SQL & PLSQL\\n-Data Wrangling using Python\\n-Statistics for Machine Learning,\\n-Artificial Intelligence, Data Interpretation\\n-Supervised & Unsupervised Learning,\\n-NLP & Deep Learning\\n-Cloud Data Lake\\n-Business intelligence & Data Visualization\\n-Simulation Projects\\nWhat is the expected Outcome?\\nAt the end of the Training you are expected to be well versed with the following:\\n- Analysis of large and complex data sets from multiple sources\\n- Development and evaluation of data analytics models, algorithms and solutions\\n- Understanding/implementation of ML algorithms, performance tuning and reporting\\n- Implementation of algorithms to mine targeted data and the ability to convert data into a business story\\n- Translation of business requirements into technical requirements; Data extraction, preparation and transformation\\n- Identification, development and implementation of statistical techniques and algorithms that address business challenges and adds value to the organisation\\n- Requirement Analysis and communication of findings in the form of a meaningful story with the stakeholders\\nCenter for Artificial Intelligence & Advanced Analytics (CAIA) focuses on the following:\\n1. Global Research on emerging trends, technologies and applications in AI and Advanced Analytics\\n2. Advanced Training programs for readying the future ready workforce\\n3. Solutions to herald the futuristic lifestyle and workspaces in the field of AI and Data Science.\\nhttp://www.centerforaia.com/\\nCenter for Artificial Intelligence and Advanced Analytics (Center for AIA) is the brainchild of experienced and visionary alumni of IIT Madras and Bombay. Digital leaders 5F World and Systech Solutions have joined hands to create a venture for architecting the future of society, workforce, governments and businesses. 5F World specializes in designing solutions around digital platforms and Systech Solutions has an expertise in architecting Artificial Intelligence and Advanced Analytics solutions for Fortune 500 companies through specialized programmed.\\n5F World\\n5F World is a leader in digital transformational journeys and has brought together the best minds in industry, academia and technology domains to develop a unique framework to transform stakeholder journeys through innovation and digitalization of businesses and education institutions.\\nSystech Solutions\\nSystech Solutions is a leading organisation in Data Strategy, Management & Analytics services provider with deep technology expertise and over 20 years of industry experience. Systech Solutions helps empower clients with innovative, data-driven solutions to reimagine their enterprise and has forged partnerships with industry-leading technology providers to develop a full spectrum of data services.\\n\\nWebsite\\nhttp://www.centerforaia.com/\\n\\nhttps://inflexion-analytix-private-limited.business.site/?m=true\\n\\n\\n\\nContact Person\\nShantha/Manigandan\\nPhone Number\\n9790993237 / 7299917200\\nEmail\\nmanigandan@centerforaia.com\\n\\nDesired Candidate Profile\\n\\nPerks and Benefits\\n\\nRoleBusiness Analyst\\nIndustry TypeBPO, Call Centre, ITeS\\nFunctional AreaIT Software - DBA, Datawarehousing\\nEmployment TypeFull Time, Permanent\\nRole CategorySystem Design/Implementation/ERP/CRM\\nEducation\\nUG :B.Com in Any Specialization, B.Tech/B.E. in Any Specialization, Any Graduate in Any Specialization, Other Graduate, B.Sc in Any Specialization, Diploma in Any Specialization\\nPG :MS/M.Sc(Science) in Any Specialization, Other, M.Com in Any Specialization, PG Diploma in Any Specialization, MCA in Any Specialization, MBA/PGDM in Any Specialization, Post Graduation Not Required, M.Tech in Any Specialization\\nKey Skills\\nBusiness IntelligenceArtificial IntelligenceNatural Language ProcessingNeural NetworksData MiningMachine LearningDeep LearningSQLData ScienceRNLPCloud ComputingData AnalysisPLSQLData WarehousingETLPredictive AnalyticsPython',\n",
       " \"Job description\\nHiring Data Analyst profile on the third-party payroll(contractual role 1yr and can be extendable based on performance)\\nResponsibilities And Duties\\nWork closely with the team to understand their requirement to ensure information/reports on a priority basis.\\nCreate processes and methods to gather supply chain data.\\nPreparing Daily, weekly and monthly reports.\\nSync up & collaborate with Multiple Stakeholders to complete daily critical tasks.\\nImprove existing and design new MIS reports for making informed decision making.\\nPreparing Presentations, writing reports for the business teams.\\nAnalysis and collecting reports for multiple functions\\nReport anomalies and findings. \\nTrack KPI's and report on the performance\\nRequired Experience, Skills, And Qualifications\\nMust have an excellent understanding of SQL, R/ Python(Added Advantage) & MS Excel\\nShould have hands-on experience in processing huge datasets\\nUnderstanding and good hold over KPI's.\\n1-5 years of relevant work ex\\nGood command of English, Hindi\\nProactiveness, listening skills, service orientation, Integrity\\nShould have good analytical skills\\nExposure to the eCommerce industry will be Preferred\\nPerks and Benefits\\n\\nRole: Data Analyst\\nExperience: 1yrs to 6 yrs\\nQualification: Any Graduate\\nJob Locations: Bangalore\\nSector - E-commerce, supply chain or logistics\\nCTC - up to 6.5LPA\\nInterested candidates can share their updated profile to smitashree.p@flipkart.com\\nRoleData Analyst\\nIndustry TypeInternet, Ecommerce\\nFunctional AreaAnalytics & Business Intelligence\\nEmployment TypeFull Time, Temporary/Contractual\\nRole CategoryAnalytics & BI\\nEducation\\nUG :Any Graduate in Any Specialization\\nKey Skills\\nBusiness IntelligenceAutomationExcelBusiness AnalyticsData AnalysisData VisualizationData MiningData AnalyticsAnalyticsSQLBusiness AnalysisPython\",\n",
       " \"Job description\\nHiring Data Analyst profile on the third-party payroll(contractual role 1yr and can be extendable based on performance)\\nResponsibilities And Duties\\nWork closely with the team to understand their requirement to ensure information/reports on a priority basis.\\nCreate processes and methods to gather supply chain data.\\nPreparing Daily, weekly and monthly reports.\\nSync up & collaborate with Multiple Stakeholders to complete daily critical tasks.\\nImprove existing and design new MIS reports for making informed decision making.\\nPreparing Presentations, writing reports for the business teams.\\nAnalysis and collecting reports for multiple functions\\nReport anomalies and findings. \\nTrack KPI's and report on the performance\\nRequired Experience, Skills, And Qualifications\\nMust have an excellent understanding of SQL, R/ Python(Added Advantage) & MS Excel\\nShould have hands-on experience in processing huge datasets\\nUnderstanding and good hold over KPI's.\\n1-5 years of relevant work ex\\nGood command of English, Hindi\\nProactiveness, listening skills, service orientation, Integrity\\nShould have good analytical skills\\nExposure to the eCommerce industry will be Preferred\\nPerks and Benefits\\n\\nRole: Data Analyst\\nExperience: 1yrs to 6 yrs\\nQualification: Any Graduate\\nJob Locations: Bangalore\\nSector - E-commerce, supply chain or logistics\\nCTC - up to 6.5LPA\\nInterested candidates can share their updated profile to smitashree.p@flipkart.com\\nRoleData Analyst\\nIndustry TypeInternet, Ecommerce\\nFunctional AreaAnalytics & Business Intelligence\\nEmployment TypeFull Time, Temporary/Contractual\\nRole CategoryAnalytics & BI\\nEducation\\nUG :Any Graduate in Any Specialization\\nKey Skills\\nBusiness IntelligenceAutomationExcelBusiness AnalyticsData AnalysisData VisualizationData MiningData AnalyticsAnalyticsSQLBusiness AnalysisPython\",\n",
       " 'Job description\\nFlipkart is looking for Data Analyst [On Contract for One Year, Extendable based on performance, Third Party PayRoll: Teamlease]\\nMust have skills: SQL, Power BI, Visual basic tools, Google Data Studio, Creating Dashboards, Power Tools, Automation  Excel.\\nExperience: Min 1-2 years\\nLocation: Bangalore\\nResponsibilities And Duties\\nWork closely with the team to understand their requirement to ensure information/reports on a priority basis.\\nPreparing Daily, weekly and Monthly reports.\\nSync up & collaborate with Multiple Stakeholders to complete daily critical tasks.\\nImprove existing and design new MIS reports for making informed decision making.\\nPreparing Presentations, writing reports for the business teams.\\nAnalysis and collecting reports for multiple functions\\nReport anomalies and findings. \\nRequired Experience, Skills And Qualifications\\nMust have excellent understanding/ hands-on experience on SQL, Power BI, Data Visualisation, Creating Dashboards, Python, Automation Tools, R(Added Advantage) & MS Excel, VBA, Macros/ Tableau\\nShould have hands-on experience in processing huge datasets\\nGood command over English, Hindi\\nProactiveness, listening skills, service orientation, Integrity\\nShould have good analytical skills\\nExposure to the eCommerce industry will be Preferred\\n\\nRole: Data Analyst\\nExperience: 1yrs to5 yrs\\nQualification: Any Graduate\\nJob Locations: Bangalore\\nCTC - up to 5.5LPA\\nInterested candidates can share their updated profile to rohan.v@flipkart.com\\nRoleData Analyst\\nIndustry TypeInternet, Ecommerce\\nFunctional AreaAnalytics & Business Intelligence\\nEmployment TypeFull Time, Temporary/Contractual\\nRole CategoryAnalytics & BI\\nEducation\\nUG :Any Graduate in Any Specialization\\nKey Skills\\nBusiness IntelligenceAutomationPower BiData MiningPower ToolsAnalyticsSQLExcelGDSData AnalysisData VisualizationDashboardsData AnalyticsPython',\n",
       " 'Job Description\\nRoles and Responsibilities\\nTeam Lead - CDM/PV\\nQualification:\\nGraduate/Post Graduate/ Doctorate degree in life sciences/Pharmacy/Medical sciences/Registered Nurse\\nResponsibility:\\nBusiness/ Customer:\\nMinimal Customer interaction under guidance.\\nUnderstands Domain Process/sub process, functions, terminologies (such as SOP, QC checklists).\\nFor PV/Complaints Management :\\nIndividuals in this role perform data entry of data received from Source documents into the respective Clinical/Safety database While peroforming this activity the associate is responsible for meeting turnaround times and accuracy.\\nThese associates are usually used to handle more critical/senitive transactions.\\nThese associates also act as Subject Matter Expert.\\nCODING:\\nPerform coding activities on the assigned project with timelines and efficiency\\n• Import uncoded terms in database and export coded medical terms from coding platform.\\n• Query Management.\\n• Create “New Term Request” and prioritize.\\n• Perform Dictionary upversioning activity.\\n• Send Coding (Consistency) Reports.\\n• Participate in study related meetings as needed.\\n• Provide feedback on quality related issues to other medical coders in timely manner.\\n• Serve as an SME to Medical Reviewers regarding coding activities & guidelines.\\n• Perform UAT for coding related applications.\\n• Perform Operational QC.\\n• Mentor Team Member.\\n• Coordinate with CDM working on the same study.\\n• Coordinate to resolve Rave specific issues.\\nCDM:\\n1 Execute Data Management Activities ie Data Cleaning, Executing Manual and System checks, Update relevant trackers, Discrepancy and query management, Issue resolution, Database lock activities.\\n2 Participate in innovation and process improvement initiatives.\\n3 Identify and develop action plan in coordination with the TL for activities not meeting the client SLAs.\\n4 Archive all necessary information for audit purposes according to quality and security requirements, to ensure reliable and timely retrieval of documentation and information.\\n5 Support multiple clinical trials, across diverse therapeutic areas, to successful conclusion and provide technical oversight when required.\\nProject / Process:\\nAttempts Complex problems (procedures/processes) and refers to Supervisor/Line Manager in rare cases.\\nHandle first level processing of transactions.\\nAdhere to quality requirements, achieve targets/volumes in given TAT(Turn around time).\\nProactively identify issues.\\nContribute to process improvement initiatives.\\nIdentify and report process changes.\\nAdhere to the mandatory industry regulation and compliance requirements for the given process.\\nKnowledge Management:\\nUpdate Process documentation as appropriate for the process under guidance.\\nParticipate in knowledge transfer.\\nPeople/Team Management:\\nAdhere to org hygiene and compliance needs in terms of.\\na Personal Utilization & Time sheet submission.\\nb Personal and new hire Assimilation.\\nc Attendance.\\nd Team Initiatives.\\nCollate team performance metrics.\\nManage break schedule/transport logistics for the team in the absence of his/her supervisor.\\nGood To Have Skills\\nPharmacovigilance&Safety Ops\\nPV Case Processing\\nEmployee Status : Full Time Employee\\nShift : Day Job',\n",
       " 'Key Skills\\nQuery Management\\nData Management\\nCase Processing\\nData Cleaning\\nData Entry\\nCdm\\nClinical Trials\\nCDM',\n",
       " 'Please refer to the Job description above',\n",
       " \"Job description\\nWe're looking for a Data Analyst who would be responsible for building various offerings as requested by the clients on a regular basis. The individual must be an active contributor towards the overall objective of the project.\\n\\nRoles and Responsibilities\\nIn this role, you will be responsible for all the following activities;\\nExecute deliverables by Business Intelligence and Analysis, Designing, Testing, Migration, Production support and Implement automations.\\nInterpret data, analyze results using statistical techniques and provide ongoing reports\\nDevelop and implement databases, data collection systems, data analytics and other strategies that optimize statistical efficiency and quality\\nAcquire data from primary or secondary data sources and maintain databases/data system.\\nIdentify, analyze, and interpret trends or patterns in complex data sets\\nFilter and clean data by reviewing computer reports, printouts, and performance indicators to locate and correct code problems\\nWork with management to prioritize business and information needs\\nLocate and define new process improvement opportunities\\nProven working experience as a Data Analyst or Business Data Analyst\\nTechnical expertise regarding data models, database design development, data mining and segmentation techniques\\nStrong knowledge of and experience with reporting packages (Business Objects etc.), databases (SQL etc.), programming (XML, Java script, or ETL frameworks)\\nKnowledge of statistics and experience using statistical packages for analyzing datasets (Excel, SPSS, SAS etc.)\\nStrong analytical skills with the ability to collect, organize, analyze, and disseminate significant amounts of information with attention to detail and accuracy\\nAdept at queries, report writing and presenting findings\\nDesired Candidate Profile\\n\\nQualifications we seek in you\\nMinimum qualifications\\n• BS in Mathematics, Economics, Computer Science, Information Management or Statistics\\nPreferred qualifications\\nGood Interpersonal Skills.\\nMust possess problem solving skills and be proactive in researching solutions.\\nAdvanced Excel skills (i.e. complex formulas)\\nAbility to programmatically manipulate worksheet and cell properties using VBA.\\nGood analytical and problem-solving skills\\nExcellent MS Office skills including MS Excel\\n\\nPerks and Benefits\\n\\nRoleBusiness Analyst\\nIndustry TypeKPO, Research, Analytics\\nFunctional AreaIT Software - Application Programming, Maintenance\\nEmployment TypeFull Time, Permanent\\nRole CategorySystem Design/Implementation/ERP/CRM\\nEducation\\nUG :B.Sc in Any Specialization, Any Graduate in Any Specialization\\nPG :M.A in Any Specialization\\nKey Skills\\nBusiness IntelligenceData AnalysisStatistical Modeling\\nSQL\\nSkills highlighted with ‘‘ are preferred keyskills\",\n",
       " 'Job description\\nKey Areas of Responsibility\\nCollection, validation, analysis of mutual fund information.\\nUpdating the mutual fund information into our databases in a timely manner.\\nPerform quality checks.\\nCommunicate with UK and Offshore asset management companies via email/telephone.\\nProvide clarifications to clients queries based on priority and urgency levels.\\nExtract and provide various project-related reports as required by the manager.\\nKey Skills\\nKey Technical Skills\\nPossess basic knowledge of Mutual funds and/or of the financial sector.\\nProficient in MS Office (including MS Outlook)\\nKey Behavioural Skills\\nVery good written and spoken English communication skills.\\nGood Analytical and Problem solving skills.\\nAbility to work independently and come up with ideas to enhance the process.\\nAbility to achieve the defined SLA standards with regard to Turn Around Time, Work accuracy etc. and maintain them throughout ones tenure in the department.\\nAbility to quickly learn new concepts relating to Mutual funds and be able to apply them in the work.\\n\\nRoleData Analyst\\nIndustry TypeIT-Software, Software Services\\nFunctional AreaAnalytics & Business Intelligence\\nEmployment TypeFull Time, Permanent\\nRole CategoryAnalytics & BI\\nEducation\\nUG :Any Graduate in Any Specialization\\nPG :Any Postgraduate in Any Specialization\\nDoctorate :Doctorate Not Required\\nKey Skills\\ndata analyticsdata modellingPredictive Modellingstatistical modellingData Analyststatistics',\n",
       " 'Job description\\n3+ years of data science,\\ndata analytics, or business intelligence experience\\nStrong understanding of SQL\\nExperience with conducting data analysis in Python and / or R\\nExperience building clear and easy to understand dashboards and presentations\\nAbility to communicate clearly and effectively to cross functional partners of varying technical levels\\nAbility to define relevant metrics that can guide and influence stakeholders to appropriate and accurate insights\\n\\n\\nPluses\\nFamiliarity with Superset\\nFamiliarity with running weblab experiments, efficacy studies, or product validation tests\\nFamiliarity with machine learning basics\\nFamiliarity with Airbnb infrastructure, including Airflow, Presto SQL, and Hive SQL\\nExperience creating and maintaining data pipelines\\nExperience supporting engineering product work\\nRoleHead/VP/GM-Quality\\nIndustry TypeIT-Software, Software Services\\nFunctional AreaIT Software - System Programming\\nEmployment TypeFull Time, Permanent\\nRole CategorySenior Management\\nEducation\\nUG :Any Graduate in Any Specialization\\nPG :Post Graduation Not Required\\nKey Skills\\nhiveData analysisdata scienceInfrastructureData AnalystData analyticsproduct validationBusiness intelligenceSQLPython',\n",
       " 'Job description\\nThe Person\\n\\n• Articulate • High Energy • Passion to learn • High sense of ownership. • Ability to work in a fast-paced and deadline driven environment • Loves technology • Highly skilled at Data Interpretation • Problem solver • Ability to narrate story to the business stakeholders • Generate insights and the ability to turn them into actions and decisions\\n\\nSkills to work in a challenging, complex project environment .• Need you to be naturally curious and have a passion for understanding consumer behavior. • A high level of motivation, passion and high sense of ownership • Excellent communication skills needed to manage an incredibly diverse slate of work, clients, and team personalities • Flexibility to work on multiple projects and deadline-driven fast-paced environment. • Ability to work in ambiguity and manage chaos\\n\\nAlgorithm & Solution Development skills .• Solid understanding and experience in statistical methods and programming. • Experience in both supervised (classification models, regression) and unsupervised learning (clustering, PCA, LDAPl), Time series forecasting (Arima, Sarimax, FBProphet) • High level of proficiency in any two of the following 1. Hypothesis testing, insights generation, root casue analysis, drivers analysis 2. Marketing effectiveness, performance marketing, attribution modeling, MMM 3. Personalisation, campaign management, design of experiments 4. Data visualisation using D3.JS, 3JS, RShiny, Tableau, Qlik and PowerBI or any other leading data visualisation\\n\\nKnowledge and Hand-on experience in any of these are Good-to-have: 1. Machine Learning (ML) models development in Python, R and SAS 2. Develop algorithms using NLP and Text Analytics based solutions for clients, deep learning models, use of Word2Vec 3. Data Engineering and development of Big Data solutions (Should have gained experience in Apache Spark/Spark Streaming, Cassandra, Apache Apex)\\n\\nProject Delivery skills • Gather, process, analyse and extract conclusions out of complex, high-volume, highdimensional data coming from varying sources • Design, framework development and implementation of analytics solutions • Generating insights and recommendations for clients\\n\\nQualifications • BE/BTech from in Computer Science/ Statistics • Should have a minimum 3 years’ experience in Data Analytics\\nPlease note we are looking for Immediate joiners.\\nRoleData Analyst\\nIndustry TypeKPO, Research, Analytics\\nFunctional AreaAnalytics & Business Intelligence\\nEmployment TypeFull Time, Permanent\\nRole CategoryAnalytics & BI\\nEducation\\nUG :B.Tech/B.E. in Computers\\nPG :Any Postgraduate in Any Specialization\\nDoctorate :Doctorate Not Required\\nKey Skills\\nEffective communicationRSupervised learningData InterpretationStatistical ModelingBusiness communicationsData VisualizationTableauData AnalyticsUnsupervised learningSQLPython']"
      ]
     },
     "execution_count": 93,
     "metadata": {},
     "output_type": "execute_result"
    }
   ],
   "source": [
    "for i in job_desc7:\n",
    "    desc=i.text\n",
    "    job_description.append(desc)\n",
    "job_description"
   ]
  },
  {
   "cell_type": "code",
   "execution_count": 94,
   "metadata": {},
   "outputs": [],
   "source": [
    "driver.close()"
   ]
  },
  {
   "cell_type": "code",
   "execution_count": 95,
   "metadata": {},
   "outputs": [],
   "source": [
    "driver=webdriver.Edge(r\"C:\\Users\\srinj\\OneDrive\\Documents\\EGDownloads\\edgedriver_win64\\msedgedriver.exe\")"
   ]
  },
  {
   "cell_type": "code",
   "execution_count": 96,
   "metadata": {},
   "outputs": [],
   "source": [
    "url='https://www.naukri.com/job-listings-nifi-data-analyst-capgemini-technology-services-india-limited-bengaluru-bangalore-4-to-6-years-271120902196?src=jobsearchDesk&sid=1607223984271417&xp=9&px=1'"
   ]
  },
  {
   "cell_type": "code",
   "execution_count": 97,
   "metadata": {},
   "outputs": [],
   "source": [
    "driver.get(url)"
   ]
  },
  {
   "cell_type": "code",
   "execution_count": 98,
   "metadata": {},
   "outputs": [
    {
     "data": {
      "text/plain": [
       "[<selenium.webdriver.remote.webelement.WebElement (session=\"1dc3703ec012d6a2ef1acde51451b7f9\", element=\"958d8be3-2e88-4405-9c95-9eb5f7812716\")>,\n",
       " <selenium.webdriver.remote.webelement.WebElement (session=\"1dc3703ec012d6a2ef1acde51451b7f9\", element=\"99ee0c8b-9675-4014-95f1-fc4bbbced647\")>,\n",
       " <selenium.webdriver.remote.webelement.WebElement (session=\"1dc3703ec012d6a2ef1acde51451b7f9\", element=\"f81a8dac-8de2-4652-b614-3ed34015dfb0\")>]"
      ]
     },
     "execution_count": 98,
     "metadata": {},
     "output_type": "execute_result"
    }
   ],
   "source": [
    "job_desc8=driver.find_elements_by_xpath(\"//section[@class='JD av_textblock_section']\")\n",
    "job_desc8"
   ]
  },
  {
   "cell_type": "code",
   "execution_count": 99,
   "metadata": {},
   "outputs": [
    {
     "data": {
      "text/plain": [
       "['Job description\\nDear Candidate\\n\\nSchedule a Telephonic Interview ( Please call for confirmation) : Mon- Sat from 11:00am to 5:00pm\\n\\nOR Walk-In to the Corporate office between Monday to Friday from 11:00am to 5:00pm (Date : 19th October onwards)\\nContact person :\\n\\nManigandan -+91 7299917200\\nShantha +91 9790993237\\n\\n\\nSystech Solutions\\nTemple Steps\\nTower 3, 6th Floor\\n184-187 Anna Salai\\nSaidapet, Chennai 600015\\nIndia (Near Little Mount Metro Station)\\nRoles and Responsibilities\\n\\nGreetings from CAIA !\\nA great opportunity to enter the world of future technologies - Data Science, Analytics, AI, Data Visualization\\nApplications invited from all Freshers and experienced candidates aspiring to make a career in Artificial Intelligence and Advanced Analytics and Data Science.\\nIn case you are trying to shift your career to Analytics and/or AI domain please do connect with us to know more.\\nWhat is needed from you?\\n- An Educational background in any one of the following- BE/B.Tech, ME/M Tech, MSc, BSc/MSc Maths and Statistics, B Com, BCA, BSc CS, BSC IT, MSC IT, MCA\\n- Skills relating to Mathematics/Statistics.\\n- Natural passion towards numbers, business, coding, Analytics and Artificial Intelligence, Machine Learning, visualization\\n- Good verbal and written communication skills\\n- Ability to understand domains in businesses across various sectors\\n- Freshers who wish to start their career in Analytics and AI and professionals who wish to up skill or change their domain to analytics and emerging technologies are free to apply.\\nSelection procedure includes\\n- Online Aptitude Test\\n- Logical Ability Test / Written Test\\nOn being shortlisted, you will be have to undergo a one-one discussion with our counsellor for further evaluation and processing of your Resume.\\nWhat you can expect from us?\\nYou will get trained on the following modules for a period of 12-14 weeks:\\n-SQL & PLSQL\\n-Data Wrangling using Python\\n-Statistics for Machine Learning,\\n-Artificial Intelligence, Data Interpretation\\n-Supervised & Unsupervised Learning,\\n-NLP & Deep Learning\\n-Cloud Data Lake\\n-Business intelligence & Data Visualization\\n-Simulation Projects\\nWhat is the expected Outcome?\\nAt the end of the Training you are expected to be well versed with the following:\\n- Analysis of large and complex data sets from multiple sources\\n- Development and evaluation of data analytics models, algorithms and solutions\\n- Understanding/implementation of ML algorithms, performance tuning and reporting\\n- Implementation of algorithms to mine targeted data and the ability to convert data into a business story\\n- Translation of business requirements into technical requirements; Data extraction, preparation and transformation\\n- Identification, development and implementation of statistical techniques and algorithms that address business challenges and adds value to the organisation\\n- Requirement Analysis and communication of findings in the form of a meaningful story with the stakeholders\\nCenter for Artificial Intelligence & Advanced Analytics (CAIA) focuses on the following:\\n1. Global Research on emerging trends, technologies and applications in AI and Advanced Analytics\\n2. Advanced Training programs for readying the future ready workforce\\n3. Solutions to herald the futuristic lifestyle and workspaces in the field of AI and Data Science.\\nhttp://www.centerforaia.com/\\nCenter for Artificial Intelligence and Advanced Analytics (Center for AIA) is the brainchild of experienced and visionary alumni of IIT Madras and Bombay. Digital leaders 5F World and Systech Solutions have joined hands to create a venture for architecting the future of society, workforce, governments and businesses. 5F World specializes in designing solutions around digital platforms and Systech Solutions has an expertise in architecting Artificial Intelligence and Advanced Analytics solutions for Fortune 500 companies through specialized programmed.\\n5F World\\n5F World is a leader in digital transformational journeys and has brought together the best minds in industry, academia and technology domains to develop a unique framework to transform stakeholder journeys through innovation and digitalization of businesses and education institutions.\\nSystech Solutions\\nSystech Solutions is a leading organisation in Data Strategy, Management & Analytics services provider with deep technology expertise and over 20 years of industry experience. Systech Solutions helps empower clients with innovative, data-driven solutions to reimagine their enterprise and has forged partnerships with industry-leading technology providers to develop a full spectrum of data services.\\n\\nWebsite\\nhttp://www.centerforaia.com/\\n\\nhttps://inflexion-analytix-private-limited.business.site/?m=true\\n\\n\\n\\nContact Person\\nShantha/Manigandan\\nPhone Number\\n9790993237 / 7299917200\\nEmail\\nmanigandan@centerforaia.com\\n\\nDesired Candidate Profile\\n\\nPerks and Benefits\\n\\nRoleBusiness Analyst\\nIndustry TypeBPO, Call Centre, ITeS\\nFunctional AreaIT Software - DBA, Datawarehousing\\nEmployment TypeFull Time, Permanent\\nRole CategorySystem Design/Implementation/ERP/CRM\\nEducation\\nUG :B.Com in Any Specialization, B.Tech/B.E. in Any Specialization, Any Graduate in Any Specialization, Other Graduate, B.Sc in Any Specialization, Diploma in Any Specialization\\nPG :MS/M.Sc(Science) in Any Specialization, Other, M.Com in Any Specialization, PG Diploma in Any Specialization, MCA in Any Specialization, MBA/PGDM in Any Specialization, Post Graduation Not Required, M.Tech in Any Specialization\\nKey Skills\\nBusiness IntelligenceArtificial IntelligenceNatural Language ProcessingNeural NetworksData MiningMachine LearningDeep LearningSQLData ScienceRNLPCloud ComputingData AnalysisPLSQLData WarehousingETLPredictive AnalyticsPython',\n",
       " \"Job description\\nHiring Data Analyst profile on the third-party payroll(contractual role 1yr and can be extendable based on performance)\\nResponsibilities And Duties\\nWork closely with the team to understand their requirement to ensure information/reports on a priority basis.\\nCreate processes and methods to gather supply chain data.\\nPreparing Daily, weekly and monthly reports.\\nSync up & collaborate with Multiple Stakeholders to complete daily critical tasks.\\nImprove existing and design new MIS reports for making informed decision making.\\nPreparing Presentations, writing reports for the business teams.\\nAnalysis and collecting reports for multiple functions\\nReport anomalies and findings. \\nTrack KPI's and report on the performance\\nRequired Experience, Skills, And Qualifications\\nMust have an excellent understanding of SQL, R/ Python(Added Advantage) & MS Excel\\nShould have hands-on experience in processing huge datasets\\nUnderstanding and good hold over KPI's.\\n1-5 years of relevant work ex\\nGood command of English, Hindi\\nProactiveness, listening skills, service orientation, Integrity\\nShould have good analytical skills\\nExposure to the eCommerce industry will be Preferred\\nPerks and Benefits\\n\\nRole: Data Analyst\\nExperience: 1yrs to 6 yrs\\nQualification: Any Graduate\\nJob Locations: Bangalore\\nSector - E-commerce, supply chain or logistics\\nCTC - up to 6.5LPA\\nInterested candidates can share their updated profile to smitashree.p@flipkart.com\\nRoleData Analyst\\nIndustry TypeInternet, Ecommerce\\nFunctional AreaAnalytics & Business Intelligence\\nEmployment TypeFull Time, Temporary/Contractual\\nRole CategoryAnalytics & BI\\nEducation\\nUG :Any Graduate in Any Specialization\\nKey Skills\\nBusiness IntelligenceAutomationExcelBusiness AnalyticsData AnalysisData VisualizationData MiningData AnalyticsAnalyticsSQLBusiness AnalysisPython\",\n",
       " \"Job description\\nHiring Data Analyst profile on the third-party payroll(contractual role 1yr and can be extendable based on performance)\\nResponsibilities And Duties\\nWork closely with the team to understand their requirement to ensure information/reports on a priority basis.\\nCreate processes and methods to gather supply chain data.\\nPreparing Daily, weekly and monthly reports.\\nSync up & collaborate with Multiple Stakeholders to complete daily critical tasks.\\nImprove existing and design new MIS reports for making informed decision making.\\nPreparing Presentations, writing reports for the business teams.\\nAnalysis and collecting reports for multiple functions\\nReport anomalies and findings. \\nTrack KPI's and report on the performance\\nRequired Experience, Skills, And Qualifications\\nMust have an excellent understanding of SQL, R/ Python(Added Advantage) & MS Excel\\nShould have hands-on experience in processing huge datasets\\nUnderstanding and good hold over KPI's.\\n1-5 years of relevant work ex\\nGood command of English, Hindi\\nProactiveness, listening skills, service orientation, Integrity\\nShould have good analytical skills\\nExposure to the eCommerce industry will be Preferred\\nPerks and Benefits\\n\\nRole: Data Analyst\\nExperience: 1yrs to 6 yrs\\nQualification: Any Graduate\\nJob Locations: Bangalore\\nSector - E-commerce, supply chain or logistics\\nCTC - up to 6.5LPA\\nInterested candidates can share their updated profile to smitashree.p@flipkart.com\\nRoleData Analyst\\nIndustry TypeInternet, Ecommerce\\nFunctional AreaAnalytics & Business Intelligence\\nEmployment TypeFull Time, Temporary/Contractual\\nRole CategoryAnalytics & BI\\nEducation\\nUG :Any Graduate in Any Specialization\\nKey Skills\\nBusiness IntelligenceAutomationExcelBusiness AnalyticsData AnalysisData VisualizationData MiningData AnalyticsAnalyticsSQLBusiness AnalysisPython\",\n",
       " 'Job description\\nFlipkart is looking for Data Analyst [On Contract for One Year, Extendable based on performance, Third Party PayRoll: Teamlease]\\nMust have skills: SQL, Power BI, Visual basic tools, Google Data Studio, Creating Dashboards, Power Tools, Automation  Excel.\\nExperience: Min 1-2 years\\nLocation: Bangalore\\nResponsibilities And Duties\\nWork closely with the team to understand their requirement to ensure information/reports on a priority basis.\\nPreparing Daily, weekly and Monthly reports.\\nSync up & collaborate with Multiple Stakeholders to complete daily critical tasks.\\nImprove existing and design new MIS reports for making informed decision making.\\nPreparing Presentations, writing reports for the business teams.\\nAnalysis and collecting reports for multiple functions\\nReport anomalies and findings. \\nRequired Experience, Skills And Qualifications\\nMust have excellent understanding/ hands-on experience on SQL, Power BI, Data Visualisation, Creating Dashboards, Python, Automation Tools, R(Added Advantage) & MS Excel, VBA, Macros/ Tableau\\nShould have hands-on experience in processing huge datasets\\nGood command over English, Hindi\\nProactiveness, listening skills, service orientation, Integrity\\nShould have good analytical skills\\nExposure to the eCommerce industry will be Preferred\\n\\nRole: Data Analyst\\nExperience: 1yrs to5 yrs\\nQualification: Any Graduate\\nJob Locations: Bangalore\\nCTC - up to 5.5LPA\\nInterested candidates can share their updated profile to rohan.v@flipkart.com\\nRoleData Analyst\\nIndustry TypeInternet, Ecommerce\\nFunctional AreaAnalytics & Business Intelligence\\nEmployment TypeFull Time, Temporary/Contractual\\nRole CategoryAnalytics & BI\\nEducation\\nUG :Any Graduate in Any Specialization\\nKey Skills\\nBusiness IntelligenceAutomationPower BiData MiningPower ToolsAnalyticsSQLExcelGDSData AnalysisData VisualizationDashboardsData AnalyticsPython',\n",
       " 'Job Description\\nRoles and Responsibilities\\nTeam Lead - CDM/PV\\nQualification:\\nGraduate/Post Graduate/ Doctorate degree in life sciences/Pharmacy/Medical sciences/Registered Nurse\\nResponsibility:\\nBusiness/ Customer:\\nMinimal Customer interaction under guidance.\\nUnderstands Domain Process/sub process, functions, terminologies (such as SOP, QC checklists).\\nFor PV/Complaints Management :\\nIndividuals in this role perform data entry of data received from Source documents into the respective Clinical/Safety database While peroforming this activity the associate is responsible for meeting turnaround times and accuracy.\\nThese associates are usually used to handle more critical/senitive transactions.\\nThese associates also act as Subject Matter Expert.\\nCODING:\\nPerform coding activities on the assigned project with timelines and efficiency\\n• Import uncoded terms in database and export coded medical terms from coding platform.\\n• Query Management.\\n• Create “New Term Request” and prioritize.\\n• Perform Dictionary upversioning activity.\\n• Send Coding (Consistency) Reports.\\n• Participate in study related meetings as needed.\\n• Provide feedback on quality related issues to other medical coders in timely manner.\\n• Serve as an SME to Medical Reviewers regarding coding activities & guidelines.\\n• Perform UAT for coding related applications.\\n• Perform Operational QC.\\n• Mentor Team Member.\\n• Coordinate with CDM working on the same study.\\n• Coordinate to resolve Rave specific issues.\\nCDM:\\n1 Execute Data Management Activities ie Data Cleaning, Executing Manual and System checks, Update relevant trackers, Discrepancy and query management, Issue resolution, Database lock activities.\\n2 Participate in innovation and process improvement initiatives.\\n3 Identify and develop action plan in coordination with the TL for activities not meeting the client SLAs.\\n4 Archive all necessary information for audit purposes according to quality and security requirements, to ensure reliable and timely retrieval of documentation and information.\\n5 Support multiple clinical trials, across diverse therapeutic areas, to successful conclusion and provide technical oversight when required.\\nProject / Process:\\nAttempts Complex problems (procedures/processes) and refers to Supervisor/Line Manager in rare cases.\\nHandle first level processing of transactions.\\nAdhere to quality requirements, achieve targets/volumes in given TAT(Turn around time).\\nProactively identify issues.\\nContribute to process improvement initiatives.\\nIdentify and report process changes.\\nAdhere to the mandatory industry regulation and compliance requirements for the given process.\\nKnowledge Management:\\nUpdate Process documentation as appropriate for the process under guidance.\\nParticipate in knowledge transfer.\\nPeople/Team Management:\\nAdhere to org hygiene and compliance needs in terms of.\\na Personal Utilization & Time sheet submission.\\nb Personal and new hire Assimilation.\\nc Attendance.\\nd Team Initiatives.\\nCollate team performance metrics.\\nManage break schedule/transport logistics for the team in the absence of his/her supervisor.\\nGood To Have Skills\\nPharmacovigilance&Safety Ops\\nPV Case Processing\\nEmployee Status : Full Time Employee\\nShift : Day Job',\n",
       " 'Key Skills\\nQuery Management\\nData Management\\nCase Processing\\nData Cleaning\\nData Entry\\nCdm\\nClinical Trials\\nCDM',\n",
       " 'Please refer to the Job description above',\n",
       " \"Job description\\nWe're looking for a Data Analyst who would be responsible for building various offerings as requested by the clients on a regular basis. The individual must be an active contributor towards the overall objective of the project.\\n\\nRoles and Responsibilities\\nIn this role, you will be responsible for all the following activities;\\nExecute deliverables by Business Intelligence and Analysis, Designing, Testing, Migration, Production support and Implement automations.\\nInterpret data, analyze results using statistical techniques and provide ongoing reports\\nDevelop and implement databases, data collection systems, data analytics and other strategies that optimize statistical efficiency and quality\\nAcquire data from primary or secondary data sources and maintain databases/data system.\\nIdentify, analyze, and interpret trends or patterns in complex data sets\\nFilter and clean data by reviewing computer reports, printouts, and performance indicators to locate and correct code problems\\nWork with management to prioritize business and information needs\\nLocate and define new process improvement opportunities\\nProven working experience as a Data Analyst or Business Data Analyst\\nTechnical expertise regarding data models, database design development, data mining and segmentation techniques\\nStrong knowledge of and experience with reporting packages (Business Objects etc.), databases (SQL etc.), programming (XML, Java script, or ETL frameworks)\\nKnowledge of statistics and experience using statistical packages for analyzing datasets (Excel, SPSS, SAS etc.)\\nStrong analytical skills with the ability to collect, organize, analyze, and disseminate significant amounts of information with attention to detail and accuracy\\nAdept at queries, report writing and presenting findings\\nDesired Candidate Profile\\n\\nQualifications we seek in you\\nMinimum qualifications\\n• BS in Mathematics, Economics, Computer Science, Information Management or Statistics\\nPreferred qualifications\\nGood Interpersonal Skills.\\nMust possess problem solving skills and be proactive in researching solutions.\\nAdvanced Excel skills (i.e. complex formulas)\\nAbility to programmatically manipulate worksheet and cell properties using VBA.\\nGood analytical and problem-solving skills\\nExcellent MS Office skills including MS Excel\\n\\nPerks and Benefits\\n\\nRoleBusiness Analyst\\nIndustry TypeKPO, Research, Analytics\\nFunctional AreaIT Software - Application Programming, Maintenance\\nEmployment TypeFull Time, Permanent\\nRole CategorySystem Design/Implementation/ERP/CRM\\nEducation\\nUG :B.Sc in Any Specialization, Any Graduate in Any Specialization\\nPG :M.A in Any Specialization\\nKey Skills\\nBusiness IntelligenceData AnalysisStatistical Modeling\\nSQL\\nSkills highlighted with ‘‘ are preferred keyskills\",\n",
       " 'Job description\\nKey Areas of Responsibility\\nCollection, validation, analysis of mutual fund information.\\nUpdating the mutual fund information into our databases in a timely manner.\\nPerform quality checks.\\nCommunicate with UK and Offshore asset management companies via email/telephone.\\nProvide clarifications to clients queries based on priority and urgency levels.\\nExtract and provide various project-related reports as required by the manager.\\nKey Skills\\nKey Technical Skills\\nPossess basic knowledge of Mutual funds and/or of the financial sector.\\nProficient in MS Office (including MS Outlook)\\nKey Behavioural Skills\\nVery good written and spoken English communication skills.\\nGood Analytical and Problem solving skills.\\nAbility to work independently and come up with ideas to enhance the process.\\nAbility to achieve the defined SLA standards with regard to Turn Around Time, Work accuracy etc. and maintain them throughout ones tenure in the department.\\nAbility to quickly learn new concepts relating to Mutual funds and be able to apply them in the work.\\n\\nRoleData Analyst\\nIndustry TypeIT-Software, Software Services\\nFunctional AreaAnalytics & Business Intelligence\\nEmployment TypeFull Time, Permanent\\nRole CategoryAnalytics & BI\\nEducation\\nUG :Any Graduate in Any Specialization\\nPG :Any Postgraduate in Any Specialization\\nDoctorate :Doctorate Not Required\\nKey Skills\\ndata analyticsdata modellingPredictive Modellingstatistical modellingData Analyststatistics',\n",
       " 'Job description\\n3+ years of data science,\\ndata analytics, or business intelligence experience\\nStrong understanding of SQL\\nExperience with conducting data analysis in Python and / or R\\nExperience building clear and easy to understand dashboards and presentations\\nAbility to communicate clearly and effectively to cross functional partners of varying technical levels\\nAbility to define relevant metrics that can guide and influence stakeholders to appropriate and accurate insights\\n\\n\\nPluses\\nFamiliarity with Superset\\nFamiliarity with running weblab experiments, efficacy studies, or product validation tests\\nFamiliarity with machine learning basics\\nFamiliarity with Airbnb infrastructure, including Airflow, Presto SQL, and Hive SQL\\nExperience creating and maintaining data pipelines\\nExperience supporting engineering product work\\nRoleHead/VP/GM-Quality\\nIndustry TypeIT-Software, Software Services\\nFunctional AreaIT Software - System Programming\\nEmployment TypeFull Time, Permanent\\nRole CategorySenior Management\\nEducation\\nUG :Any Graduate in Any Specialization\\nPG :Post Graduation Not Required\\nKey Skills\\nhiveData analysisdata scienceInfrastructureData AnalystData analyticsproduct validationBusiness intelligenceSQLPython',\n",
       " 'Job description\\nThe Person\\n\\n• Articulate • High Energy • Passion to learn • High sense of ownership. • Ability to work in a fast-paced and deadline driven environment • Loves technology • Highly skilled at Data Interpretation • Problem solver • Ability to narrate story to the business stakeholders • Generate insights and the ability to turn them into actions and decisions\\n\\nSkills to work in a challenging, complex project environment .• Need you to be naturally curious and have a passion for understanding consumer behavior. • A high level of motivation, passion and high sense of ownership • Excellent communication skills needed to manage an incredibly diverse slate of work, clients, and team personalities • Flexibility to work on multiple projects and deadline-driven fast-paced environment. • Ability to work in ambiguity and manage chaos\\n\\nAlgorithm & Solution Development skills .• Solid understanding and experience in statistical methods and programming. • Experience in both supervised (classification models, regression) and unsupervised learning (clustering, PCA, LDAPl), Time series forecasting (Arima, Sarimax, FBProphet) • High level of proficiency in any two of the following 1. Hypothesis testing, insights generation, root casue analysis, drivers analysis 2. Marketing effectiveness, performance marketing, attribution modeling, MMM 3. Personalisation, campaign management, design of experiments 4. Data visualisation using D3.JS, 3JS, RShiny, Tableau, Qlik and PowerBI or any other leading data visualisation\\n\\nKnowledge and Hand-on experience in any of these are Good-to-have: 1. Machine Learning (ML) models development in Python, R and SAS 2. Develop algorithms using NLP and Text Analytics based solutions for clients, deep learning models, use of Word2Vec 3. Data Engineering and development of Big Data solutions (Should have gained experience in Apache Spark/Spark Streaming, Cassandra, Apache Apex)\\n\\nProject Delivery skills • Gather, process, analyse and extract conclusions out of complex, high-volume, highdimensional data coming from varying sources • Design, framework development and implementation of analytics solutions • Generating insights and recommendations for clients\\n\\nQualifications • BE/BTech from in Computer Science/ Statistics • Should have a minimum 3 years’ experience in Data Analytics\\nPlease note we are looking for Immediate joiners.\\nRoleData Analyst\\nIndustry TypeKPO, Research, Analytics\\nFunctional AreaAnalytics & Business Intelligence\\nEmployment TypeFull Time, Permanent\\nRole CategoryAnalytics & BI\\nEducation\\nUG :B.Tech/B.E. in Computers\\nPG :Any Postgraduate in Any Specialization\\nDoctorate :Doctorate Not Required\\nKey Skills\\nEffective communicationRSupervised learningData InterpretationStatistical ModelingBusiness communicationsData VisualizationTableauData AnalyticsUnsupervised learningSQLPython',\n",
       " 'Job Description\\nRoles and Responsibilities\\n\\n\\nJob Description\\nSoftware designer with exp in Data Modelling and Acquisition from Legacy Systems\\nDevelopment experience using C\\nScripting using Python/Java script\\nData Ingestion through tool knowledge mandatory NiFi or equivalent\\n\\n\\nPrimary Skills\\nData Modelling\\nData Ingestion with NiFi\\n\\n\\nSecondary Skills\\nScripting using Python/Java Script',\n",
       " 'Key Skills\\nDIV\\nJava\\nC\\nJavascript\\nData Analysis\\nData Modeling\\nPython',\n",
       " 'Please refer to the Job description above']"
      ]
     },
     "execution_count": 99,
     "metadata": {},
     "output_type": "execute_result"
    }
   ],
   "source": [
    "for i in job_desc8:\n",
    "    desc=i.text\n",
    "    job_description.append(desc)\n",
    "job_description"
   ]
  },
  {
   "cell_type": "code",
   "execution_count": 100,
   "metadata": {},
   "outputs": [],
   "source": [
    "driver.close()"
   ]
  },
  {
   "cell_type": "code",
   "execution_count": 101,
   "metadata": {},
   "outputs": [],
   "source": [
    "driver=webdriver.Edge(r\"C:\\Users\\srinj\\OneDrive\\Documents\\EGDownloads\\edgedriver_win64\\msedgedriver.exe\")"
   ]
  },
  {
   "cell_type": "code",
   "execution_count": 102,
   "metadata": {},
   "outputs": [],
   "source": [
    "url='https://www.naukri.com/job-listings-nifi-data-analyst-capgemini-technology-services-india-limited-bengaluru-bangalore-6-to-9-years-281120902218?src=jobsearchDesk&sid=1607223984271417&xp=10&px=1'"
   ]
  },
  {
   "cell_type": "code",
   "execution_count": 103,
   "metadata": {},
   "outputs": [],
   "source": [
    "driver.get(url)"
   ]
  },
  {
   "cell_type": "code",
   "execution_count": 104,
   "metadata": {},
   "outputs": [
    {
     "data": {
      "text/plain": [
       "[<selenium.webdriver.remote.webelement.WebElement (session=\"b825379d7f73206f8c308150af938360\", element=\"60ec4c31-e062-4576-a911-f899170f56d8\")>,\n",
       " <selenium.webdriver.remote.webelement.WebElement (session=\"b825379d7f73206f8c308150af938360\", element=\"9d980c30-ea1a-4c65-90cb-5bd42da1092d\")>,\n",
       " <selenium.webdriver.remote.webelement.WebElement (session=\"b825379d7f73206f8c308150af938360\", element=\"3dbd803a-49da-4864-8e89-67472ebe9ace\")>]"
      ]
     },
     "execution_count": 104,
     "metadata": {},
     "output_type": "execute_result"
    }
   ],
   "source": [
    "job_desc9=driver.find_elements_by_xpath(\"//section[@class='JD av_textblock_section']\")\n",
    "job_desc9"
   ]
  },
  {
   "cell_type": "code",
   "execution_count": 105,
   "metadata": {},
   "outputs": [
    {
     "data": {
      "text/plain": [
       "['Job description\\nDear Candidate\\n\\nSchedule a Telephonic Interview ( Please call for confirmation) : Mon- Sat from 11:00am to 5:00pm\\n\\nOR Walk-In to the Corporate office between Monday to Friday from 11:00am to 5:00pm (Date : 19th October onwards)\\nContact person :\\n\\nManigandan -+91 7299917200\\nShantha +91 9790993237\\n\\n\\nSystech Solutions\\nTemple Steps\\nTower 3, 6th Floor\\n184-187 Anna Salai\\nSaidapet, Chennai 600015\\nIndia (Near Little Mount Metro Station)\\nRoles and Responsibilities\\n\\nGreetings from CAIA !\\nA great opportunity to enter the world of future technologies - Data Science, Analytics, AI, Data Visualization\\nApplications invited from all Freshers and experienced candidates aspiring to make a career in Artificial Intelligence and Advanced Analytics and Data Science.\\nIn case you are trying to shift your career to Analytics and/or AI domain please do connect with us to know more.\\nWhat is needed from you?\\n- An Educational background in any one of the following- BE/B.Tech, ME/M Tech, MSc, BSc/MSc Maths and Statistics, B Com, BCA, BSc CS, BSC IT, MSC IT, MCA\\n- Skills relating to Mathematics/Statistics.\\n- Natural passion towards numbers, business, coding, Analytics and Artificial Intelligence, Machine Learning, visualization\\n- Good verbal and written communication skills\\n- Ability to understand domains in businesses across various sectors\\n- Freshers who wish to start their career in Analytics and AI and professionals who wish to up skill or change their domain to analytics and emerging technologies are free to apply.\\nSelection procedure includes\\n- Online Aptitude Test\\n- Logical Ability Test / Written Test\\nOn being shortlisted, you will be have to undergo a one-one discussion with our counsellor for further evaluation and processing of your Resume.\\nWhat you can expect from us?\\nYou will get trained on the following modules for a period of 12-14 weeks:\\n-SQL & PLSQL\\n-Data Wrangling using Python\\n-Statistics for Machine Learning,\\n-Artificial Intelligence, Data Interpretation\\n-Supervised & Unsupervised Learning,\\n-NLP & Deep Learning\\n-Cloud Data Lake\\n-Business intelligence & Data Visualization\\n-Simulation Projects\\nWhat is the expected Outcome?\\nAt the end of the Training you are expected to be well versed with the following:\\n- Analysis of large and complex data sets from multiple sources\\n- Development and evaluation of data analytics models, algorithms and solutions\\n- Understanding/implementation of ML algorithms, performance tuning and reporting\\n- Implementation of algorithms to mine targeted data and the ability to convert data into a business story\\n- Translation of business requirements into technical requirements; Data extraction, preparation and transformation\\n- Identification, development and implementation of statistical techniques and algorithms that address business challenges and adds value to the organisation\\n- Requirement Analysis and communication of findings in the form of a meaningful story with the stakeholders\\nCenter for Artificial Intelligence & Advanced Analytics (CAIA) focuses on the following:\\n1. Global Research on emerging trends, technologies and applications in AI and Advanced Analytics\\n2. Advanced Training programs for readying the future ready workforce\\n3. Solutions to herald the futuristic lifestyle and workspaces in the field of AI and Data Science.\\nhttp://www.centerforaia.com/\\nCenter for Artificial Intelligence and Advanced Analytics (Center for AIA) is the brainchild of experienced and visionary alumni of IIT Madras and Bombay. Digital leaders 5F World and Systech Solutions have joined hands to create a venture for architecting the future of society, workforce, governments and businesses. 5F World specializes in designing solutions around digital platforms and Systech Solutions has an expertise in architecting Artificial Intelligence and Advanced Analytics solutions for Fortune 500 companies through specialized programmed.\\n5F World\\n5F World is a leader in digital transformational journeys and has brought together the best minds in industry, academia and technology domains to develop a unique framework to transform stakeholder journeys through innovation and digitalization of businesses and education institutions.\\nSystech Solutions\\nSystech Solutions is a leading organisation in Data Strategy, Management & Analytics services provider with deep technology expertise and over 20 years of industry experience. Systech Solutions helps empower clients with innovative, data-driven solutions to reimagine their enterprise and has forged partnerships with industry-leading technology providers to develop a full spectrum of data services.\\n\\nWebsite\\nhttp://www.centerforaia.com/\\n\\nhttps://inflexion-analytix-private-limited.business.site/?m=true\\n\\n\\n\\nContact Person\\nShantha/Manigandan\\nPhone Number\\n9790993237 / 7299917200\\nEmail\\nmanigandan@centerforaia.com\\n\\nDesired Candidate Profile\\n\\nPerks and Benefits\\n\\nRoleBusiness Analyst\\nIndustry TypeBPO, Call Centre, ITeS\\nFunctional AreaIT Software - DBA, Datawarehousing\\nEmployment TypeFull Time, Permanent\\nRole CategorySystem Design/Implementation/ERP/CRM\\nEducation\\nUG :B.Com in Any Specialization, B.Tech/B.E. in Any Specialization, Any Graduate in Any Specialization, Other Graduate, B.Sc in Any Specialization, Diploma in Any Specialization\\nPG :MS/M.Sc(Science) in Any Specialization, Other, M.Com in Any Specialization, PG Diploma in Any Specialization, MCA in Any Specialization, MBA/PGDM in Any Specialization, Post Graduation Not Required, M.Tech in Any Specialization\\nKey Skills\\nBusiness IntelligenceArtificial IntelligenceNatural Language ProcessingNeural NetworksData MiningMachine LearningDeep LearningSQLData ScienceRNLPCloud ComputingData AnalysisPLSQLData WarehousingETLPredictive AnalyticsPython',\n",
       " \"Job description\\nHiring Data Analyst profile on the third-party payroll(contractual role 1yr and can be extendable based on performance)\\nResponsibilities And Duties\\nWork closely with the team to understand their requirement to ensure information/reports on a priority basis.\\nCreate processes and methods to gather supply chain data.\\nPreparing Daily, weekly and monthly reports.\\nSync up & collaborate with Multiple Stakeholders to complete daily critical tasks.\\nImprove existing and design new MIS reports for making informed decision making.\\nPreparing Presentations, writing reports for the business teams.\\nAnalysis and collecting reports for multiple functions\\nReport anomalies and findings. \\nTrack KPI's and report on the performance\\nRequired Experience, Skills, And Qualifications\\nMust have an excellent understanding of SQL, R/ Python(Added Advantage) & MS Excel\\nShould have hands-on experience in processing huge datasets\\nUnderstanding and good hold over KPI's.\\n1-5 years of relevant work ex\\nGood command of English, Hindi\\nProactiveness, listening skills, service orientation, Integrity\\nShould have good analytical skills\\nExposure to the eCommerce industry will be Preferred\\nPerks and Benefits\\n\\nRole: Data Analyst\\nExperience: 1yrs to 6 yrs\\nQualification: Any Graduate\\nJob Locations: Bangalore\\nSector - E-commerce, supply chain or logistics\\nCTC - up to 6.5LPA\\nInterested candidates can share their updated profile to smitashree.p@flipkart.com\\nRoleData Analyst\\nIndustry TypeInternet, Ecommerce\\nFunctional AreaAnalytics & Business Intelligence\\nEmployment TypeFull Time, Temporary/Contractual\\nRole CategoryAnalytics & BI\\nEducation\\nUG :Any Graduate in Any Specialization\\nKey Skills\\nBusiness IntelligenceAutomationExcelBusiness AnalyticsData AnalysisData VisualizationData MiningData AnalyticsAnalyticsSQLBusiness AnalysisPython\",\n",
       " \"Job description\\nHiring Data Analyst profile on the third-party payroll(contractual role 1yr and can be extendable based on performance)\\nResponsibilities And Duties\\nWork closely with the team to understand their requirement to ensure information/reports on a priority basis.\\nCreate processes and methods to gather supply chain data.\\nPreparing Daily, weekly and monthly reports.\\nSync up & collaborate with Multiple Stakeholders to complete daily critical tasks.\\nImprove existing and design new MIS reports for making informed decision making.\\nPreparing Presentations, writing reports for the business teams.\\nAnalysis and collecting reports for multiple functions\\nReport anomalies and findings. \\nTrack KPI's and report on the performance\\nRequired Experience, Skills, And Qualifications\\nMust have an excellent understanding of SQL, R/ Python(Added Advantage) & MS Excel\\nShould have hands-on experience in processing huge datasets\\nUnderstanding and good hold over KPI's.\\n1-5 years of relevant work ex\\nGood command of English, Hindi\\nProactiveness, listening skills, service orientation, Integrity\\nShould have good analytical skills\\nExposure to the eCommerce industry will be Preferred\\nPerks and Benefits\\n\\nRole: Data Analyst\\nExperience: 1yrs to 6 yrs\\nQualification: Any Graduate\\nJob Locations: Bangalore\\nSector - E-commerce, supply chain or logistics\\nCTC - up to 6.5LPA\\nInterested candidates can share their updated profile to smitashree.p@flipkart.com\\nRoleData Analyst\\nIndustry TypeInternet, Ecommerce\\nFunctional AreaAnalytics & Business Intelligence\\nEmployment TypeFull Time, Temporary/Contractual\\nRole CategoryAnalytics & BI\\nEducation\\nUG :Any Graduate in Any Specialization\\nKey Skills\\nBusiness IntelligenceAutomationExcelBusiness AnalyticsData AnalysisData VisualizationData MiningData AnalyticsAnalyticsSQLBusiness AnalysisPython\",\n",
       " 'Job description\\nFlipkart is looking for Data Analyst [On Contract for One Year, Extendable based on performance, Third Party PayRoll: Teamlease]\\nMust have skills: SQL, Power BI, Visual basic tools, Google Data Studio, Creating Dashboards, Power Tools, Automation  Excel.\\nExperience: Min 1-2 years\\nLocation: Bangalore\\nResponsibilities And Duties\\nWork closely with the team to understand their requirement to ensure information/reports on a priority basis.\\nPreparing Daily, weekly and Monthly reports.\\nSync up & collaborate with Multiple Stakeholders to complete daily critical tasks.\\nImprove existing and design new MIS reports for making informed decision making.\\nPreparing Presentations, writing reports for the business teams.\\nAnalysis and collecting reports for multiple functions\\nReport anomalies and findings. \\nRequired Experience, Skills And Qualifications\\nMust have excellent understanding/ hands-on experience on SQL, Power BI, Data Visualisation, Creating Dashboards, Python, Automation Tools, R(Added Advantage) & MS Excel, VBA, Macros/ Tableau\\nShould have hands-on experience in processing huge datasets\\nGood command over English, Hindi\\nProactiveness, listening skills, service orientation, Integrity\\nShould have good analytical skills\\nExposure to the eCommerce industry will be Preferred\\n\\nRole: Data Analyst\\nExperience: 1yrs to5 yrs\\nQualification: Any Graduate\\nJob Locations: Bangalore\\nCTC - up to 5.5LPA\\nInterested candidates can share their updated profile to rohan.v@flipkart.com\\nRoleData Analyst\\nIndustry TypeInternet, Ecommerce\\nFunctional AreaAnalytics & Business Intelligence\\nEmployment TypeFull Time, Temporary/Contractual\\nRole CategoryAnalytics & BI\\nEducation\\nUG :Any Graduate in Any Specialization\\nKey Skills\\nBusiness IntelligenceAutomationPower BiData MiningPower ToolsAnalyticsSQLExcelGDSData AnalysisData VisualizationDashboardsData AnalyticsPython',\n",
       " 'Job Description\\nRoles and Responsibilities\\nTeam Lead - CDM/PV\\nQualification:\\nGraduate/Post Graduate/ Doctorate degree in life sciences/Pharmacy/Medical sciences/Registered Nurse\\nResponsibility:\\nBusiness/ Customer:\\nMinimal Customer interaction under guidance.\\nUnderstands Domain Process/sub process, functions, terminologies (such as SOP, QC checklists).\\nFor PV/Complaints Management :\\nIndividuals in this role perform data entry of data received from Source documents into the respective Clinical/Safety database While peroforming this activity the associate is responsible for meeting turnaround times and accuracy.\\nThese associates are usually used to handle more critical/senitive transactions.\\nThese associates also act as Subject Matter Expert.\\nCODING:\\nPerform coding activities on the assigned project with timelines and efficiency\\n• Import uncoded terms in database and export coded medical terms from coding platform.\\n• Query Management.\\n• Create “New Term Request” and prioritize.\\n• Perform Dictionary upversioning activity.\\n• Send Coding (Consistency) Reports.\\n• Participate in study related meetings as needed.\\n• Provide feedback on quality related issues to other medical coders in timely manner.\\n• Serve as an SME to Medical Reviewers regarding coding activities & guidelines.\\n• Perform UAT for coding related applications.\\n• Perform Operational QC.\\n• Mentor Team Member.\\n• Coordinate with CDM working on the same study.\\n• Coordinate to resolve Rave specific issues.\\nCDM:\\n1 Execute Data Management Activities ie Data Cleaning, Executing Manual and System checks, Update relevant trackers, Discrepancy and query management, Issue resolution, Database lock activities.\\n2 Participate in innovation and process improvement initiatives.\\n3 Identify and develop action plan in coordination with the TL for activities not meeting the client SLAs.\\n4 Archive all necessary information for audit purposes according to quality and security requirements, to ensure reliable and timely retrieval of documentation and information.\\n5 Support multiple clinical trials, across diverse therapeutic areas, to successful conclusion and provide technical oversight when required.\\nProject / Process:\\nAttempts Complex problems (procedures/processes) and refers to Supervisor/Line Manager in rare cases.\\nHandle first level processing of transactions.\\nAdhere to quality requirements, achieve targets/volumes in given TAT(Turn around time).\\nProactively identify issues.\\nContribute to process improvement initiatives.\\nIdentify and report process changes.\\nAdhere to the mandatory industry regulation and compliance requirements for the given process.\\nKnowledge Management:\\nUpdate Process documentation as appropriate for the process under guidance.\\nParticipate in knowledge transfer.\\nPeople/Team Management:\\nAdhere to org hygiene and compliance needs in terms of.\\na Personal Utilization & Time sheet submission.\\nb Personal and new hire Assimilation.\\nc Attendance.\\nd Team Initiatives.\\nCollate team performance metrics.\\nManage break schedule/transport logistics for the team in the absence of his/her supervisor.\\nGood To Have Skills\\nPharmacovigilance&Safety Ops\\nPV Case Processing\\nEmployee Status : Full Time Employee\\nShift : Day Job',\n",
       " 'Key Skills\\nQuery Management\\nData Management\\nCase Processing\\nData Cleaning\\nData Entry\\nCdm\\nClinical Trials\\nCDM',\n",
       " 'Please refer to the Job description above',\n",
       " \"Job description\\nWe're looking for a Data Analyst who would be responsible for building various offerings as requested by the clients on a regular basis. The individual must be an active contributor towards the overall objective of the project.\\n\\nRoles and Responsibilities\\nIn this role, you will be responsible for all the following activities;\\nExecute deliverables by Business Intelligence and Analysis, Designing, Testing, Migration, Production support and Implement automations.\\nInterpret data, analyze results using statistical techniques and provide ongoing reports\\nDevelop and implement databases, data collection systems, data analytics and other strategies that optimize statistical efficiency and quality\\nAcquire data from primary or secondary data sources and maintain databases/data system.\\nIdentify, analyze, and interpret trends or patterns in complex data sets\\nFilter and clean data by reviewing computer reports, printouts, and performance indicators to locate and correct code problems\\nWork with management to prioritize business and information needs\\nLocate and define new process improvement opportunities\\nProven working experience as a Data Analyst or Business Data Analyst\\nTechnical expertise regarding data models, database design development, data mining and segmentation techniques\\nStrong knowledge of and experience with reporting packages (Business Objects etc.), databases (SQL etc.), programming (XML, Java script, or ETL frameworks)\\nKnowledge of statistics and experience using statistical packages for analyzing datasets (Excel, SPSS, SAS etc.)\\nStrong analytical skills with the ability to collect, organize, analyze, and disseminate significant amounts of information with attention to detail and accuracy\\nAdept at queries, report writing and presenting findings\\nDesired Candidate Profile\\n\\nQualifications we seek in you\\nMinimum qualifications\\n• BS in Mathematics, Economics, Computer Science, Information Management or Statistics\\nPreferred qualifications\\nGood Interpersonal Skills.\\nMust possess problem solving skills and be proactive in researching solutions.\\nAdvanced Excel skills (i.e. complex formulas)\\nAbility to programmatically manipulate worksheet and cell properties using VBA.\\nGood analytical and problem-solving skills\\nExcellent MS Office skills including MS Excel\\n\\nPerks and Benefits\\n\\nRoleBusiness Analyst\\nIndustry TypeKPO, Research, Analytics\\nFunctional AreaIT Software - Application Programming, Maintenance\\nEmployment TypeFull Time, Permanent\\nRole CategorySystem Design/Implementation/ERP/CRM\\nEducation\\nUG :B.Sc in Any Specialization, Any Graduate in Any Specialization\\nPG :M.A in Any Specialization\\nKey Skills\\nBusiness IntelligenceData AnalysisStatistical Modeling\\nSQL\\nSkills highlighted with ‘‘ are preferred keyskills\",\n",
       " 'Job description\\nKey Areas of Responsibility\\nCollection, validation, analysis of mutual fund information.\\nUpdating the mutual fund information into our databases in a timely manner.\\nPerform quality checks.\\nCommunicate with UK and Offshore asset management companies via email/telephone.\\nProvide clarifications to clients queries based on priority and urgency levels.\\nExtract and provide various project-related reports as required by the manager.\\nKey Skills\\nKey Technical Skills\\nPossess basic knowledge of Mutual funds and/or of the financial sector.\\nProficient in MS Office (including MS Outlook)\\nKey Behavioural Skills\\nVery good written and spoken English communication skills.\\nGood Analytical and Problem solving skills.\\nAbility to work independently and come up with ideas to enhance the process.\\nAbility to achieve the defined SLA standards with regard to Turn Around Time, Work accuracy etc. and maintain them throughout ones tenure in the department.\\nAbility to quickly learn new concepts relating to Mutual funds and be able to apply them in the work.\\n\\nRoleData Analyst\\nIndustry TypeIT-Software, Software Services\\nFunctional AreaAnalytics & Business Intelligence\\nEmployment TypeFull Time, Permanent\\nRole CategoryAnalytics & BI\\nEducation\\nUG :Any Graduate in Any Specialization\\nPG :Any Postgraduate in Any Specialization\\nDoctorate :Doctorate Not Required\\nKey Skills\\ndata analyticsdata modellingPredictive Modellingstatistical modellingData Analyststatistics',\n",
       " 'Job description\\n3+ years of data science,\\ndata analytics, or business intelligence experience\\nStrong understanding of SQL\\nExperience with conducting data analysis in Python and / or R\\nExperience building clear and easy to understand dashboards and presentations\\nAbility to communicate clearly and effectively to cross functional partners of varying technical levels\\nAbility to define relevant metrics that can guide and influence stakeholders to appropriate and accurate insights\\n\\n\\nPluses\\nFamiliarity with Superset\\nFamiliarity with running weblab experiments, efficacy studies, or product validation tests\\nFamiliarity with machine learning basics\\nFamiliarity with Airbnb infrastructure, including Airflow, Presto SQL, and Hive SQL\\nExperience creating and maintaining data pipelines\\nExperience supporting engineering product work\\nRoleHead/VP/GM-Quality\\nIndustry TypeIT-Software, Software Services\\nFunctional AreaIT Software - System Programming\\nEmployment TypeFull Time, Permanent\\nRole CategorySenior Management\\nEducation\\nUG :Any Graduate in Any Specialization\\nPG :Post Graduation Not Required\\nKey Skills\\nhiveData analysisdata scienceInfrastructureData AnalystData analyticsproduct validationBusiness intelligenceSQLPython',\n",
       " 'Job description\\nThe Person\\n\\n• Articulate • High Energy • Passion to learn • High sense of ownership. • Ability to work in a fast-paced and deadline driven environment • Loves technology • Highly skilled at Data Interpretation • Problem solver • Ability to narrate story to the business stakeholders • Generate insights and the ability to turn them into actions and decisions\\n\\nSkills to work in a challenging, complex project environment .• Need you to be naturally curious and have a passion for understanding consumer behavior. • A high level of motivation, passion and high sense of ownership • Excellent communication skills needed to manage an incredibly diverse slate of work, clients, and team personalities • Flexibility to work on multiple projects and deadline-driven fast-paced environment. • Ability to work in ambiguity and manage chaos\\n\\nAlgorithm & Solution Development skills .• Solid understanding and experience in statistical methods and programming. • Experience in both supervised (classification models, regression) and unsupervised learning (clustering, PCA, LDAPl), Time series forecasting (Arima, Sarimax, FBProphet) • High level of proficiency in any two of the following 1. Hypothesis testing, insights generation, root casue analysis, drivers analysis 2. Marketing effectiveness, performance marketing, attribution modeling, MMM 3. Personalisation, campaign management, design of experiments 4. Data visualisation using D3.JS, 3JS, RShiny, Tableau, Qlik and PowerBI or any other leading data visualisation\\n\\nKnowledge and Hand-on experience in any of these are Good-to-have: 1. Machine Learning (ML) models development in Python, R and SAS 2. Develop algorithms using NLP and Text Analytics based solutions for clients, deep learning models, use of Word2Vec 3. Data Engineering and development of Big Data solutions (Should have gained experience in Apache Spark/Spark Streaming, Cassandra, Apache Apex)\\n\\nProject Delivery skills • Gather, process, analyse and extract conclusions out of complex, high-volume, highdimensional data coming from varying sources • Design, framework development and implementation of analytics solutions • Generating insights and recommendations for clients\\n\\nQualifications • BE/BTech from in Computer Science/ Statistics • Should have a minimum 3 years’ experience in Data Analytics\\nPlease note we are looking for Immediate joiners.\\nRoleData Analyst\\nIndustry TypeKPO, Research, Analytics\\nFunctional AreaAnalytics & Business Intelligence\\nEmployment TypeFull Time, Permanent\\nRole CategoryAnalytics & BI\\nEducation\\nUG :B.Tech/B.E. in Computers\\nPG :Any Postgraduate in Any Specialization\\nDoctorate :Doctorate Not Required\\nKey Skills\\nEffective communicationRSupervised learningData InterpretationStatistical ModelingBusiness communicationsData VisualizationTableauData AnalyticsUnsupervised learningSQLPython',\n",
       " 'Job Description\\nRoles and Responsibilities\\n\\n\\nJob Description\\nSoftware designer with exp in Data Modelling and Acquisition from Legacy Systems\\nDevelopment experience using C\\nScripting using Python/Java script\\nData Ingestion through tool knowledge mandatory NiFi or equivalent\\n\\n\\nPrimary Skills\\nData Modelling\\nData Ingestion with NiFi\\n\\n\\nSecondary Skills\\nScripting using Python/Java Script',\n",
       " 'Key Skills\\nDIV\\nJava\\nC\\nJavascript\\nData Analysis\\nData Modeling\\nPython',\n",
       " 'Please refer to the Job description above',\n",
       " 'Job Description\\nJob Description\\nSoftware designer with exp in Data Modelling and Acquisition from Legacy Systems\\nDevelopment experience using C\\nScripting using Python/Java script\\nData Ingestion through tool knowledge mandatory NiFi or equivalent\\nPrimary Skills\\nData Modelling\\nData Ingestion with NiFi\\nSecondary Skills\\nScripting using Python/Java Script',\n",
       " 'Key Skills\\nData modeling\\nJavascript\\nData Analyst\\nPython\\nScripting',\n",
       " 'Please refer to the Job description above']"
      ]
     },
     "execution_count": 105,
     "metadata": {},
     "output_type": "execute_result"
    }
   ],
   "source": [
    "for i in job_desc9:\n",
    "    desc=i.text\n",
    "    job_description.append(desc)\n",
    "job_description"
   ]
  },
  {
   "cell_type": "code",
   "execution_count": 106,
   "metadata": {},
   "outputs": [],
   "source": [
    "driver.close()"
   ]
  },
  {
   "cell_type": "markdown",
   "metadata": {},
   "source": [
    "# 3"
   ]
  },
  {
   "cell_type": "code",
   "execution_count": 116,
   "metadata": {},
   "outputs": [],
   "source": [
    "driver=webdriver.Edge(r\"C:\\Users\\srinj\\OneDrive\\Documents\\EGDownloads\\edgedriver_win64\\msedgedriver.exe\")"
   ]
  },
  {
   "cell_type": "code",
   "execution_count": 117,
   "metadata": {},
   "outputs": [],
   "source": [
    "url=\"https://www.naukri.com/\""
   ]
  },
  {
   "cell_type": "code",
   "execution_count": 118,
   "metadata": {},
   "outputs": [],
   "source": [
    "driver.get(url)"
   ]
  },
  {
   "cell_type": "code",
   "execution_count": 119,
   "metadata": {},
   "outputs": [],
   "source": [
    "job_titles=[]\n",
    "company_names=[]\n",
    "locations_list=[]\n",
    "experience_list=[]"
   ]
  },
  {
   "cell_type": "code",
   "execution_count": 120,
   "metadata": {},
   "outputs": [],
   "source": [
    "driver.find_element_by_xpath('//input[@class=\"sugInp\"]').send_keys('data analyst')"
   ]
  },
  {
   "cell_type": "code",
   "execution_count": 121,
   "metadata": {},
   "outputs": [],
   "source": [
    "driver.find_element_by_xpath('//div[@class=\"search-btn\"]').click()"
   ]
  },
  {
   "cell_type": "code",
   "execution_count": 122,
   "metadata": {},
   "outputs": [],
   "source": [
    "driver.find_element_by_xpath('//i[@class=\"fleft naukicon naukicon-checkbox\"]').click()"
   ]
  },
  {
   "cell_type": "code",
   "execution_count": 123,
   "metadata": {},
   "outputs": [
    {
     "data": {
      "text/plain": [
       "[<selenium.webdriver.remote.webelement.WebElement (session=\"9af120ed55e7dd9f0e8e2911ccdfc42e\", element=\"a3bedb53-4c87-43e3-8270-94c291c5b594\")>,\n",
       " <selenium.webdriver.remote.webelement.WebElement (session=\"9af120ed55e7dd9f0e8e2911ccdfc42e\", element=\"fd03993a-1870-45d0-86e5-b6597b1026d0\")>,\n",
       " <selenium.webdriver.remote.webelement.WebElement (session=\"9af120ed55e7dd9f0e8e2911ccdfc42e\", element=\"19360c6f-7108-43af-9b4c-cd45e42f6442\")>,\n",
       " <selenium.webdriver.remote.webelement.WebElement (session=\"9af120ed55e7dd9f0e8e2911ccdfc42e\", element=\"1ac91154-a971-445c-8026-452e019cae90\")>]"
      ]
     },
     "execution_count": 123,
     "metadata": {},
     "output_type": "execute_result"
    }
   ],
   "source": [
    "titles_tags=driver.find_elements_by_xpath(\"//a[@class='title fw500 ellipsis']\")\n",
    "titles_tags[0:4]"
   ]
  },
  {
   "cell_type": "code",
   "execution_count": 124,
   "metadata": {},
   "outputs": [
    {
     "data": {
      "text/plain": [
       "['MIS Executive / Data Analyst',\n",
       " 'Data Analyst | Freshers | Gurgaon',\n",
       " 'Opening For Freshers| Data Analyst| Female Candidates| Gurgaon',\n",
       " 'Data Analyst (Nestle R&D) – Fixed Term Contract of 11 months']"
      ]
     },
     "execution_count": 124,
     "metadata": {},
     "output_type": "execute_result"
    }
   ],
   "source": [
    "for i in titles_tags:\n",
    "    title=i.text\n",
    "    job_titles.append(title)\n",
    "job_titles[0:4]"
   ]
  },
  {
   "cell_type": "code",
   "execution_count": 125,
   "metadata": {},
   "outputs": [
    {
     "data": {
      "text/plain": [
       "[<selenium.webdriver.remote.webelement.WebElement (session=\"9af120ed55e7dd9f0e8e2911ccdfc42e\", element=\"737137e6-dc94-497c-a0f7-3b04931730ac\")>,\n",
       " <selenium.webdriver.remote.webelement.WebElement (session=\"9af120ed55e7dd9f0e8e2911ccdfc42e\", element=\"04e98c6d-12e2-4c7f-8dec-3951fa335873\")>,\n",
       " <selenium.webdriver.remote.webelement.WebElement (session=\"9af120ed55e7dd9f0e8e2911ccdfc42e\", element=\"f3c7d6a2-2115-49ec-8c5f-3a690cbf6647\")>,\n",
       " <selenium.webdriver.remote.webelement.WebElement (session=\"9af120ed55e7dd9f0e8e2911ccdfc42e\", element=\"0a96acbf-b279-4ea0-abdc-18a56cdc3339\")>]"
      ]
     },
     "execution_count": 125,
     "metadata": {},
     "output_type": "execute_result"
    }
   ],
   "source": [
    "companies_tags=driver.find_elements_by_xpath(\"//a[@class='subTitle ellipsis fleft']\")\n",
    "companies_tags[0:4]"
   ]
  },
  {
   "cell_type": "code",
   "execution_count": 126,
   "metadata": {},
   "outputs": [
    {
     "data": {
      "text/plain": [
       "['Stark Industries',\n",
       " 'LIQUIDHUB ANALYTICS PRIVATE LIMITED',\n",
       " 'LIQUIDHUB ANALYTICS PRIVATE LIMITED',\n",
       " 'Nestle India Ltd.']"
      ]
     },
     "execution_count": 126,
     "metadata": {},
     "output_type": "execute_result"
    }
   ],
   "source": [
    "for i in companies_tags:\n",
    "    company=i.text\n",
    "    company_names.append(company)\n",
    "company_names[0:4]"
   ]
  },
  {
   "cell_type": "code",
   "execution_count": 127,
   "metadata": {},
   "outputs": [
    {
     "data": {
      "text/plain": [
       "[<selenium.webdriver.remote.webelement.WebElement (session=\"9af120ed55e7dd9f0e8e2911ccdfc42e\", element=\"e82be269-3238-4fde-989a-18776c009f9d\")>,\n",
       " <selenium.webdriver.remote.webelement.WebElement (session=\"9af120ed55e7dd9f0e8e2911ccdfc42e\", element=\"36f174b5-9387-4d83-bcf2-881ff93ac574\")>,\n",
       " <selenium.webdriver.remote.webelement.WebElement (session=\"9af120ed55e7dd9f0e8e2911ccdfc42e\", element=\"bd731623-4f78-45de-9422-b5fae9708537\")>,\n",
       " <selenium.webdriver.remote.webelement.WebElement (session=\"9af120ed55e7dd9f0e8e2911ccdfc42e\", element=\"20f6a5cf-e95c-48ad-b8ae-6072aea113ea\")>]"
      ]
     },
     "execution_count": 127,
     "metadata": {},
     "output_type": "execute_result"
    }
   ],
   "source": [
    "location_tags=driver.find_elements_by_xpath(\"//li[@class='fleft grey-text br2 placeHolderLi location']\")\n",
    "location_tags[0:4]"
   ]
  },
  {
   "cell_type": "code",
   "execution_count": 128,
   "metadata": {},
   "outputs": [
    {
     "data": {
      "text/plain": [
       "['Gurgaon, haryana', 'Gurgaon', 'Gurgaon', 'Gurgaon(IMT Manesar)']"
      ]
     },
     "execution_count": 128,
     "metadata": {},
     "output_type": "execute_result"
    }
   ],
   "source": [
    "for i in location_tags:\n",
    "    location=i.text\n",
    "    locations_list.append(location)\n",
    "locations_list[0:4]"
   ]
  },
  {
   "cell_type": "code",
   "execution_count": 129,
   "metadata": {},
   "outputs": [
    {
     "data": {
      "text/plain": [
       "[<selenium.webdriver.remote.webelement.WebElement (session=\"9af120ed55e7dd9f0e8e2911ccdfc42e\", element=\"f3ee2ce0-136a-41be-836c-5741d51322a4\")>,\n",
       " <selenium.webdriver.remote.webelement.WebElement (session=\"9af120ed55e7dd9f0e8e2911ccdfc42e\", element=\"4f939e04-7da6-4263-be23-3545868e4bde\")>,\n",
       " <selenium.webdriver.remote.webelement.WebElement (session=\"9af120ed55e7dd9f0e8e2911ccdfc42e\", element=\"65a7fbcf-c712-4d23-9f9b-6543fc532529\")>,\n",
       " <selenium.webdriver.remote.webelement.WebElement (session=\"9af120ed55e7dd9f0e8e2911ccdfc42e\", element=\"e986e4c9-e195-4e9e-9a70-2b2ec2153187\")>]"
      ]
     },
     "execution_count": 129,
     "metadata": {},
     "output_type": "execute_result"
    }
   ],
   "source": [
    "experience_tags=driver.find_elements_by_xpath(\"//li[@class='fleft grey-text br2 placeHolderLi experience']\")\n",
    "experience_tags[0:4]"
   ]
  },
  {
   "cell_type": "code",
   "execution_count": 130,
   "metadata": {},
   "outputs": [
    {
     "data": {
      "text/plain": [
       "['0-3 Yrs', '0-0 Yrs', '0-1 Yrs', '1-3 Yrs']"
      ]
     },
     "execution_count": 130,
     "metadata": {},
     "output_type": "execute_result"
    }
   ],
   "source": [
    "for i in experience_tags:\n",
    "    exp=i.text\n",
    "    experience_list.append(exp)\n",
    "experience_list[0:4]"
   ]
  },
  {
   "cell_type": "code",
   "execution_count": 131,
   "metadata": {},
   "outputs": [],
   "source": [
    "import pandas as pd\n",
    "jobs=pd.DataFrame({})\n",
    "jobs['Title']=job_titles[0:10]\n",
    "jobs['Company']=company_names[0:10]\n",
    "jobs['Location']=locations_list[0:10]\n",
    "jobs['Experience']=experience_list[0:10]"
   ]
  },
  {
   "cell_type": "code",
   "execution_count": 132,
   "metadata": {},
   "outputs": [
    {
     "data": {
      "text/html": [
       "<div>\n",
       "<style scoped>\n",
       "    .dataframe tbody tr th:only-of-type {\n",
       "        vertical-align: middle;\n",
       "    }\n",
       "\n",
       "    .dataframe tbody tr th {\n",
       "        vertical-align: top;\n",
       "    }\n",
       "\n",
       "    .dataframe thead th {\n",
       "        text-align: right;\n",
       "    }\n",
       "</style>\n",
       "<table border=\"1\" class=\"dataframe\">\n",
       "  <thead>\n",
       "    <tr style=\"text-align: right;\">\n",
       "      <th></th>\n",
       "      <th>Title</th>\n",
       "      <th>Company</th>\n",
       "      <th>Location</th>\n",
       "      <th>Experience</th>\n",
       "    </tr>\n",
       "  </thead>\n",
       "  <tbody>\n",
       "    <tr>\n",
       "      <th>0</th>\n",
       "      <td>MIS Executive / Data Analyst</td>\n",
       "      <td>Stark Industries</td>\n",
       "      <td>Gurgaon, haryana</td>\n",
       "      <td>0-3 Yrs</td>\n",
       "    </tr>\n",
       "    <tr>\n",
       "      <th>1</th>\n",
       "      <td>Data Analyst | Freshers | Gurgaon</td>\n",
       "      <td>LIQUIDHUB ANALYTICS PRIVATE LIMITED</td>\n",
       "      <td>Gurgaon</td>\n",
       "      <td>0-0 Yrs</td>\n",
       "    </tr>\n",
       "    <tr>\n",
       "      <th>2</th>\n",
       "      <td>Opening For Freshers| Data Analyst| Female Can...</td>\n",
       "      <td>LIQUIDHUB ANALYTICS PRIVATE LIMITED</td>\n",
       "      <td>Gurgaon</td>\n",
       "      <td>0-1 Yrs</td>\n",
       "    </tr>\n",
       "    <tr>\n",
       "      <th>3</th>\n",
       "      <td>Data Analyst (Nestle R&amp;D) – Fixed Term Contrac...</td>\n",
       "      <td>Nestle India Ltd.</td>\n",
       "      <td>Gurgaon(IMT Manesar)</td>\n",
       "      <td>1-3 Yrs</td>\n",
       "    </tr>\n",
       "    <tr>\n",
       "      <th>4</th>\n",
       "      <td>Data Analyst</td>\n",
       "      <td>Msg.ai</td>\n",
       "      <td>Gurgaon</td>\n",
       "      <td>0-1 Yrs</td>\n",
       "    </tr>\n",
       "    <tr>\n",
       "      <th>5</th>\n",
       "      <td>Data Analyst</td>\n",
       "      <td>Thinkbumblebee Analytics Pvt Ltd</td>\n",
       "      <td>Pune, Delhi, Mumbai, Bengaluru, Hyderabad</td>\n",
       "      <td>3-6 Yrs</td>\n",
       "    </tr>\n",
       "    <tr>\n",
       "      <th>6</th>\n",
       "      <td>Data Analyst - Healthcare Domain - IIT/IIM/SSR...</td>\n",
       "      <td>HyrEzy Talent Solutions</td>\n",
       "      <td>Delhi NCR</td>\n",
       "      <td>0-2 Yrs</td>\n",
       "    </tr>\n",
       "    <tr>\n",
       "      <th>7</th>\n",
       "      <td>Junior Data Analyst</td>\n",
       "      <td>Greenlight planet Private Limited</td>\n",
       "      <td>Mumbai, Gurgaon</td>\n",
       "      <td>1-2 Yrs</td>\n",
       "    </tr>\n",
       "    <tr>\n",
       "      <th>8</th>\n",
       "      <td>Data Analyst (6 Months Contract with MNC) - Gu...</td>\n",
       "      <td>RANDSTAD INDIA PVT LTD</td>\n",
       "      <td>Gurgaon</td>\n",
       "      <td>3-8 Yrs</td>\n",
       "    </tr>\n",
       "    <tr>\n",
       "      <th>9</th>\n",
       "      <td>Only Fresher / Data Scientist / Data Analyst /...</td>\n",
       "      <td>GABA Consultancy services</td>\n",
       "      <td>Delhi NCR, Noida, Gurgaon</td>\n",
       "      <td>0-0 Yrs</td>\n",
       "    </tr>\n",
       "  </tbody>\n",
       "</table>\n",
       "</div>"
      ],
      "text/plain": [
       "                                               Title  \\\n",
       "0                       MIS Executive / Data Analyst   \n",
       "1                  Data Analyst | Freshers | Gurgaon   \n",
       "2  Opening For Freshers| Data Analyst| Female Can...   \n",
       "3  Data Analyst (Nestle R&D) – Fixed Term Contrac...   \n",
       "4                                       Data Analyst   \n",
       "5                                       Data Analyst   \n",
       "6  Data Analyst - Healthcare Domain - IIT/IIM/SSR...   \n",
       "7                                Junior Data Analyst   \n",
       "8  Data Analyst (6 Months Contract with MNC) - Gu...   \n",
       "9  Only Fresher / Data Scientist / Data Analyst /...   \n",
       "\n",
       "                               Company  \\\n",
       "0                     Stark Industries   \n",
       "1  LIQUIDHUB ANALYTICS PRIVATE LIMITED   \n",
       "2  LIQUIDHUB ANALYTICS PRIVATE LIMITED   \n",
       "3                    Nestle India Ltd.   \n",
       "4                               Msg.ai   \n",
       "5     Thinkbumblebee Analytics Pvt Ltd   \n",
       "6              HyrEzy Talent Solutions   \n",
       "7    Greenlight planet Private Limited   \n",
       "8               RANDSTAD INDIA PVT LTD   \n",
       "9            GABA Consultancy services   \n",
       "\n",
       "                                    Location Experience  \n",
       "0                           Gurgaon, haryana    0-3 Yrs  \n",
       "1                                    Gurgaon    0-0 Yrs  \n",
       "2                                    Gurgaon    0-1 Yrs  \n",
       "3                       Gurgaon(IMT Manesar)    1-3 Yrs  \n",
       "4                                    Gurgaon    0-1 Yrs  \n",
       "5  Pune, Delhi, Mumbai, Bengaluru, Hyderabad    3-6 Yrs  \n",
       "6                                  Delhi NCR    0-2 Yrs  \n",
       "7                            Mumbai, Gurgaon    1-2 Yrs  \n",
       "8                                    Gurgaon    3-8 Yrs  \n",
       "9                  Delhi NCR, Noida, Gurgaon    0-0 Yrs  "
      ]
     },
     "execution_count": 132,
     "metadata": {},
     "output_type": "execute_result"
    }
   ],
   "source": [
    "jobs"
   ]
  },
  {
   "cell_type": "code",
   "execution_count": 133,
   "metadata": {},
   "outputs": [],
   "source": [
    "driver.close()"
   ]
  },
  {
   "cell_type": "markdown",
   "metadata": {},
   "source": [
    "# 4"
   ]
  },
  {
   "cell_type": "code",
   "execution_count": 153,
   "metadata": {},
   "outputs": [],
   "source": [
    "driver=webdriver.Edge(r\"C:\\Users\\srinj\\OneDrive\\Documents\\EGDownloads\\edgedriver_win64\\msedgedriver.exe\")"
   ]
  },
  {
   "cell_type": "code",
   "execution_count": 154,
   "metadata": {},
   "outputs": [],
   "source": [
    "url=\"https://www.glassdoor.co.in/index.htm\""
   ]
  },
  {
   "cell_type": "code",
   "execution_count": 155,
   "metadata": {},
   "outputs": [],
   "source": [
    "driver.get(url)"
   ]
  },
  {
   "cell_type": "code",
   "execution_count": 157,
   "metadata": {},
   "outputs": [],
   "source": [
    "driver.find_element_by_xpath('//input[@class=\"css-1etjok6\" and @id=\"sc.keyword\"]').send_keys('Data Scientist')"
   ]
  },
  {
   "cell_type": "code",
   "execution_count": 160,
   "metadata": {},
   "outputs": [],
   "source": [
    "driver.find_element_by_xpath('//input[@class=\"css-1etjok6\" and @id=\"sc.location\"]').send_keys('Noida')"
   ]
  },
  {
   "cell_type": "code",
   "execution_count": 161,
   "metadata": {},
   "outputs": [],
   "source": [
    "driver.find_element_by_xpath('//button[@class=\"gd-ui-button ml-std col-auto SearchStyles__newSearchButton css-iixdfr\"]').click()"
   ]
  },
  {
   "cell_type": "code",
   "execution_count": 162,
   "metadata": {},
   "outputs": [],
   "source": [
    "company_name=[]\n",
    "days_ago=[]\n",
    "rating_company=[]"
   ]
  },
  {
   "cell_type": "code",
   "execution_count": 163,
   "metadata": {},
   "outputs": [
    {
     "data": {
      "text/plain": [
       "[<selenium.webdriver.remote.webelement.WebElement (session=\"009c5f7a94c0eb31399faee33d15f17e\", element=\"bc90e93e-5aa1-4fe3-9d10-9bf8ad2d6acf\")>,\n",
       " <selenium.webdriver.remote.webelement.WebElement (session=\"009c5f7a94c0eb31399faee33d15f17e\", element=\"04669ef9-273d-4618-ba73-b1b1e6b6f9c8\")>,\n",
       " <selenium.webdriver.remote.webelement.WebElement (session=\"009c5f7a94c0eb31399faee33d15f17e\", element=\"93a901c6-4598-4366-9f88-72bea17f042c\")>,\n",
       " <selenium.webdriver.remote.webelement.WebElement (session=\"009c5f7a94c0eb31399faee33d15f17e\", element=\"52a5b5bc-3a88-442d-b1cb-97b3a5001da1\")>]"
      ]
     },
     "execution_count": 163,
     "metadata": {},
     "output_type": "execute_result"
    }
   ],
   "source": [
    "company_tags=driver.find_elements_by_xpath(\"//div[@class='jobHeader d-flex justify-content-between align-items-start']\")\n",
    "company_tags[0:4]"
   ]
  },
  {
   "cell_type": "code",
   "execution_count": 164,
   "metadata": {},
   "outputs": [
    {
     "data": {
      "text/plain": [
       "['IBM', 'Genpact', 'Amazon', 'GroundTruth']"
      ]
     },
     "execution_count": 164,
     "metadata": {},
     "output_type": "execute_result"
    }
   ],
   "source": [
    "for i in company_tags:\n",
    "    comp=i.text\n",
    "    company_name.append(comp)\n",
    "company_name[0:4]"
   ]
  },
  {
   "cell_type": "code",
   "execution_count": 165,
   "metadata": {},
   "outputs": [
    {
     "data": {
      "text/plain": [
       "[<selenium.webdriver.remote.webelement.WebElement (session=\"009c5f7a94c0eb31399faee33d15f17e\", element=\"2d6c15bb-201b-49a2-bd2a-33c015b81057\")>,\n",
       " <selenium.webdriver.remote.webelement.WebElement (session=\"009c5f7a94c0eb31399faee33d15f17e\", element=\"45ef30bb-2c6a-46d8-8176-8099a3c0ab02\")>,\n",
       " <selenium.webdriver.remote.webelement.WebElement (session=\"009c5f7a94c0eb31399faee33d15f17e\", element=\"d1068312-58bd-47b6-b214-4cb15c378a28\")>,\n",
       " <selenium.webdriver.remote.webelement.WebElement (session=\"009c5f7a94c0eb31399faee33d15f17e\", element=\"76430079-dd3e-4c57-9058-31242717ab11\")>]"
      ]
     },
     "execution_count": 165,
     "metadata": {},
     "output_type": "execute_result"
    }
   ],
   "source": [
    "days_tags=driver.find_elements_by_xpath(\"//div[@class='d-flex align-items-end pl-std css-mi55ob']\")\n",
    "days_tags[0:4]"
   ]
  },
  {
   "cell_type": "code",
   "execution_count": 166,
   "metadata": {},
   "outputs": [
    {
     "data": {
      "text/plain": [
       "['24h', '17d', '4d', '5d']"
      ]
     },
     "execution_count": 166,
     "metadata": {},
     "output_type": "execute_result"
    }
   ],
   "source": [
    "for i in days_tags:\n",
    "    day=i.text\n",
    "    days_ago.append(day)\n",
    "days_ago[0:4]"
   ]
  },
  {
   "cell_type": "code",
   "execution_count": 170,
   "metadata": {},
   "outputs": [
    {
     "data": {
      "text/plain": [
       "[<selenium.webdriver.remote.webelement.WebElement (session=\"009c5f7a94c0eb31399faee33d15f17e\", element=\"a3da9e98-7b44-4515-8183-24ffba1f44ee\")>,\n",
       " <selenium.webdriver.remote.webelement.WebElement (session=\"009c5f7a94c0eb31399faee33d15f17e\", element=\"8018173b-b01f-45f2-bb36-fd752e71dd6c\")>,\n",
       " <selenium.webdriver.remote.webelement.WebElement (session=\"009c5f7a94c0eb31399faee33d15f17e\", element=\"6967236e-d0c2-48cd-9b12-976af01ccb9d\")>,\n",
       " <selenium.webdriver.remote.webelement.WebElement (session=\"009c5f7a94c0eb31399faee33d15f17e\", element=\"ee1edb30-b268-473f-9da7-59fb05a3dda2\")>]"
      ]
     },
     "execution_count": 170,
     "metadata": {},
     "output_type": "execute_result"
    }
   ],
   "source": [
    "rating_tags=driver.find_elements_by_xpath(\"//div[@class='d-flex flex-column css-fbt9gv e1rrn5ka2']\")\n",
    "rating_tags[0:4]"
   ]
  },
  {
   "cell_type": "code",
   "execution_count": 171,
   "metadata": {},
   "outputs": [
    {
     "data": {
      "text/plain": [
       "['4', '3.8', '4.3', '3.4']"
      ]
     },
     "execution_count": 171,
     "metadata": {},
     "output_type": "execute_result"
    }
   ],
   "source": [
    "for i in rating_tags:\n",
    "    rating=i.text\n",
    "    rating_company.append(rating)\n",
    "rating_company[0:4]"
   ]
  },
  {
   "cell_type": "code",
   "execution_count": 172,
   "metadata": {},
   "outputs": [],
   "source": [
    "import pandas as pd\n",
    "glassdoor=pd.DataFrame({})\n",
    "glassdoor['Company']=company_name[0:10]\n",
    "glassdoor['Days Ago']=days_ago[0:10]\n",
    "glassdoor['Rating']=rating_company[0:10]"
   ]
  },
  {
   "cell_type": "code",
   "execution_count": 173,
   "metadata": {},
   "outputs": [
    {
     "data": {
      "text/html": [
       "<div>\n",
       "<style scoped>\n",
       "    .dataframe tbody tr th:only-of-type {\n",
       "        vertical-align: middle;\n",
       "    }\n",
       "\n",
       "    .dataframe tbody tr th {\n",
       "        vertical-align: top;\n",
       "    }\n",
       "\n",
       "    .dataframe thead th {\n",
       "        text-align: right;\n",
       "    }\n",
       "</style>\n",
       "<table border=\"1\" class=\"dataframe\">\n",
       "  <thead>\n",
       "    <tr style=\"text-align: right;\">\n",
       "      <th></th>\n",
       "      <th>Company</th>\n",
       "      <th>Days Ago</th>\n",
       "      <th>Rating</th>\n",
       "    </tr>\n",
       "  </thead>\n",
       "  <tbody>\n",
       "    <tr>\n",
       "      <th>0</th>\n",
       "      <td>IBM</td>\n",
       "      <td>24h</td>\n",
       "      <td>4</td>\n",
       "    </tr>\n",
       "    <tr>\n",
       "      <th>1</th>\n",
       "      <td>Genpact</td>\n",
       "      <td>17d</td>\n",
       "      <td>3.8</td>\n",
       "    </tr>\n",
       "    <tr>\n",
       "      <th>2</th>\n",
       "      <td>Amazon</td>\n",
       "      <td>4d</td>\n",
       "      <td>4.3</td>\n",
       "    </tr>\n",
       "    <tr>\n",
       "      <th>3</th>\n",
       "      <td>GroundTruth</td>\n",
       "      <td>5d</td>\n",
       "      <td>3.4</td>\n",
       "    </tr>\n",
       "    <tr>\n",
       "      <th>4</th>\n",
       "      <td>Mahajan Imaging</td>\n",
       "      <td>17d</td>\n",
       "      <td>4</td>\n",
       "    </tr>\n",
       "    <tr>\n",
       "      <th>5</th>\n",
       "      <td>GLG</td>\n",
       "      <td>24d</td>\n",
       "      <td>3.6</td>\n",
       "    </tr>\n",
       "    <tr>\n",
       "      <th>6</th>\n",
       "      <td>Brickred</td>\n",
       "      <td>8d</td>\n",
       "      <td>3.7</td>\n",
       "    </tr>\n",
       "    <tr>\n",
       "      <th>7</th>\n",
       "      <td>Genpact</td>\n",
       "      <td>17d</td>\n",
       "      <td>3.8</td>\n",
       "    </tr>\n",
       "    <tr>\n",
       "      <th>8</th>\n",
       "      <td>ANI Calls India Private Limited</td>\n",
       "      <td>6d</td>\n",
       "      <td></td>\n",
       "    </tr>\n",
       "    <tr>\n",
       "      <th>9</th>\n",
       "      <td>itForte</td>\n",
       "      <td>17d</td>\n",
       "      <td>5</td>\n",
       "    </tr>\n",
       "  </tbody>\n",
       "</table>\n",
       "</div>"
      ],
      "text/plain": [
       "                           Company Days Ago Rating\n",
       "0                              IBM      24h      4\n",
       "1                          Genpact      17d    3.8\n",
       "2                           Amazon       4d    4.3\n",
       "3                      GroundTruth       5d    3.4\n",
       "4                  Mahajan Imaging      17d      4\n",
       "5                              GLG      24d    3.6\n",
       "6                         Brickred       8d    3.7\n",
       "7                          Genpact      17d    3.8\n",
       "8  ANI Calls India Private Limited       6d       \n",
       "9                          itForte      17d      5"
      ]
     },
     "execution_count": 173,
     "metadata": {},
     "output_type": "execute_result"
    }
   ],
   "source": [
    "glassdoor"
   ]
  },
  {
   "cell_type": "code",
   "execution_count": 174,
   "metadata": {},
   "outputs": [],
   "source": [
    "driver.close()"
   ]
  },
  {
   "cell_type": "markdown",
   "metadata": {},
   "source": [
    "# 5"
   ]
  },
  {
   "cell_type": "code",
   "execution_count": 254,
   "metadata": {},
   "outputs": [],
   "source": [
    "driver=webdriver.Edge(r\"C:\\Users\\srinj\\OneDrive\\Documents\\EGDownloads\\edgedriver_win64\\msedgedriver.exe\")"
   ]
  },
  {
   "cell_type": "code",
   "execution_count": 255,
   "metadata": {},
   "outputs": [],
   "source": [
    "url=\"https://www.glassdoor.co.in/Salaries/index.htm\""
   ]
  },
  {
   "cell_type": "code",
   "execution_count": 256,
   "metadata": {},
   "outputs": [],
   "source": [
    "driver.get(url)"
   ]
  },
  {
   "cell_type": "code",
   "execution_count": 257,
   "metadata": {},
   "outputs": [],
   "source": [
    "driver.find_element_by_xpath('//input[@class=\"keyword\" and @id=\"KeywordSearch\"]').send_keys('Data Scientist')"
   ]
  },
  {
   "cell_type": "code",
   "execution_count": 258,
   "metadata": {},
   "outputs": [],
   "source": [
    "driver.find_element_by_xpath('//input[@class=\"loc\" and @id=\"LocationSearch\"]').send_keys('Noida')"
   ]
  },
  {
   "cell_type": "code",
   "execution_count": 259,
   "metadata": {},
   "outputs": [],
   "source": [
    "driver.find_element_by_xpath('//button[@class=\"gd-btn-mkt\"]').click()"
   ]
  },
  {
   "cell_type": "code",
   "execution_count": 260,
   "metadata": {},
   "outputs": [],
   "source": [
    "company_name=[]\n",
    "min_max_salary=[]\n",
    "avg_salary=[]\n",
    "rating_company=[]"
   ]
  },
  {
   "cell_type": "code",
   "execution_count": 261,
   "metadata": {},
   "outputs": [
    {
     "data": {
      "text/plain": [
       "[<selenium.webdriver.remote.webelement.WebElement (session=\"fccb9f3e9f932143b8bc2d96320d8ca6\", element=\"5aeac726-3b50-4cba-adb7-33583c98ce32\")>,\n",
       " <selenium.webdriver.remote.webelement.WebElement (session=\"fccb9f3e9f932143b8bc2d96320d8ca6\", element=\"08a9abe2-78d8-4b28-84ea-4613d8609ab3\")>,\n",
       " <selenium.webdriver.remote.webelement.WebElement (session=\"fccb9f3e9f932143b8bc2d96320d8ca6\", element=\"88426d72-faaa-47a3-9282-2f47befbe78c\")>,\n",
       " <selenium.webdriver.remote.webelement.WebElement (session=\"fccb9f3e9f932143b8bc2d96320d8ca6\", element=\"25676b91-ea29-44c0-b0c0-dbcc3103c129\")>]"
      ]
     },
     "execution_count": 261,
     "metadata": {},
     "output_type": "execute_result"
    }
   ],
   "source": [
    "company_tags=driver.find_elements_by_xpath(\"//p[@class='m-0']\")\n",
    "company_tags[0:4]"
   ]
  },
  {
   "cell_type": "code",
   "execution_count": 262,
   "metadata": {},
   "outputs": [
    {
     "data": {
      "text/plain": [
       "['Data Scientist',\n",
       " 'Delhivery',\n",
       " 'See 13 salaries from all locations',\n",
       " 'Data Scientist']"
      ]
     },
     "execution_count": 262,
     "metadata": {},
     "output_type": "execute_result"
    }
   ],
   "source": [
    "for i in company_tags:\n",
    "    comp=i.text\n",
    "    company_name.append(comp)\n",
    "company_name[0:4]"
   ]
  },
  {
   "cell_type": "code",
   "execution_count": 263,
   "metadata": {},
   "outputs": [
    {
     "data": {
      "text/plain": [
       "[<selenium.webdriver.remote.webelement.WebElement (session=\"fccb9f3e9f932143b8bc2d96320d8ca6\", element=\"6505b245-3fbf-4543-bbd4-b5d3faab840d\")>,\n",
       " <selenium.webdriver.remote.webelement.WebElement (session=\"fccb9f3e9f932143b8bc2d96320d8ca6\", element=\"481c59ef-e28f-4523-a8b2-8f49950a893c\")>,\n",
       " <selenium.webdriver.remote.webelement.WebElement (session=\"fccb9f3e9f932143b8bc2d96320d8ca6\", element=\"d09ed0cd-0f08-42a2-845c-a96dcd62d0b7\")>,\n",
       " <selenium.webdriver.remote.webelement.WebElement (session=\"fccb9f3e9f932143b8bc2d96320d8ca6\", element=\"003accb6-ac7b-4097-b5e4-8577912c6d01\")>]"
      ]
     },
     "execution_count": 263,
     "metadata": {},
     "output_type": "execute_result"
    }
   ],
   "source": [
    "salary_tags=driver.find_elements_by_xpath(\"//div[@class='col-2 d-none d-md-flex flex-row justify-content-end']\")\n",
    "salary_tags[0:4]"
   ]
  },
  {
   "cell_type": "code",
   "execution_count": 264,
   "metadata": {},
   "outputs": [
    {
     "data": {
      "text/plain": [
       "['₹ 12,83,026\\n/yr', '₹ 11,19,272\\n/yr', '₹ 7,52,445\\n/yr', '₹ 8,28,000\\n/yr']"
      ]
     },
     "execution_count": 264,
     "metadata": {},
     "output_type": "execute_result"
    }
   ],
   "source": [
    "for i in salary_tags:\n",
    "    salary=i.text\n",
    "    avg_salary.append(salary)\n",
    "avg_salary[0:4]"
   ]
  },
  {
   "cell_type": "code",
   "execution_count": 265,
   "metadata": {},
   "outputs": [
    {
     "data": {
      "text/plain": [
       "[<selenium.webdriver.remote.webelement.WebElement (session=\"fccb9f3e9f932143b8bc2d96320d8ca6\", element=\"21c251b9-eef3-4241-bed1-a72bf0e5b506\")>,\n",
       " <selenium.webdriver.remote.webelement.WebElement (session=\"fccb9f3e9f932143b8bc2d96320d8ca6\", element=\"f6536fa8-6a5b-4833-b72b-b5472ea74a7e\")>,\n",
       " <selenium.webdriver.remote.webelement.WebElement (session=\"fccb9f3e9f932143b8bc2d96320d8ca6\", element=\"3e9f0410-feb8-4a78-956a-a5d96899d3be\")>,\n",
       " <selenium.webdriver.remote.webelement.WebElement (session=\"fccb9f3e9f932143b8bc2d96320d8ca6\", element=\"d7794a73-1c95-487e-811c-1ed576ef5d4a\")>]"
      ]
     },
     "execution_count": 265,
     "metadata": {},
     "output_type": "execute_result"
    }
   ],
   "source": [
    "minmax_tags=driver.find_elements_by_xpath(\"//div[@class='common__RangeBarStyle__values common__flex__justifySpaceBetween common__flex__container ']\")\n",
    "minmax_tags[0:4]"
   ]
  },
  {
   "cell_type": "code",
   "execution_count": 266,
   "metadata": {},
   "outputs": [
    {
     "data": {
      "text/plain": [
       "['₹705K\\n₹11,495K', '₹571K\\n₹2,200K', '₹580K\\n₹2,700K', '₹468K\\n₹1,595K']"
      ]
     },
     "execution_count": 266,
     "metadata": {},
     "output_type": "execute_result"
    }
   ],
   "source": [
    "for i in minmax_tags:\n",
    "    minmax=i.text\n",
    "    min_max_salary.append(minmax)\n",
    "min_max_salary[0:4]"
   ]
  },
  {
   "cell_type": "code",
   "execution_count": 270,
   "metadata": {},
   "outputs": [],
   "source": [
    "import pandas as pd\n",
    "salaries=pd.DataFrame({})\n",
    "salaries['Company']=company_name[1:30:3]\n",
    "salaries['Avg Salary']=avg_salary[0:10]\n",
    "salaries['Min Max Salary']=min_max_salary[0:10]"
   ]
  },
  {
   "cell_type": "code",
   "execution_count": 344,
   "metadata": {},
   "outputs": [
    {
     "data": {
      "text/html": [
       "<div>\n",
       "<style scoped>\n",
       "    .dataframe tbody tr th:only-of-type {\n",
       "        vertical-align: middle;\n",
       "    }\n",
       "\n",
       "    .dataframe tbody tr th {\n",
       "        vertical-align: top;\n",
       "    }\n",
       "\n",
       "    .dataframe thead th {\n",
       "        text-align: right;\n",
       "    }\n",
       "</style>\n",
       "<table border=\"1\" class=\"dataframe\">\n",
       "  <thead>\n",
       "    <tr style=\"text-align: right;\">\n",
       "      <th></th>\n",
       "      <th>Company</th>\n",
       "      <th>Avg Salary</th>\n",
       "      <th>Min Max Salary</th>\n",
       "    </tr>\n",
       "  </thead>\n",
       "  <tbody>\n",
       "    <tr>\n",
       "      <th>0</th>\n",
       "      <td>Delhivery</td>\n",
       "      <td>₹ 12,83,026\\n/yr</td>\n",
       "      <td>₹705K\\n₹11,495K</td>\n",
       "    </tr>\n",
       "    <tr>\n",
       "      <th>1</th>\n",
       "      <td>Accenture</td>\n",
       "      <td>₹ 11,19,272\\n/yr</td>\n",
       "      <td>₹571K\\n₹2,200K</td>\n",
       "    </tr>\n",
       "    <tr>\n",
       "      <th>2</th>\n",
       "      <td>IBM</td>\n",
       "      <td>₹ 7,52,445\\n/yr</td>\n",
       "      <td>₹580K\\n₹2,700K</td>\n",
       "    </tr>\n",
       "    <tr>\n",
       "      <th>3</th>\n",
       "      <td>Ericsson-Worldwide</td>\n",
       "      <td>₹ 8,28,000\\n/yr</td>\n",
       "      <td>₹468K\\n₹1,595K</td>\n",
       "    </tr>\n",
       "    <tr>\n",
       "      <th>4</th>\n",
       "      <td>UnitedHealth Group</td>\n",
       "      <td>₹ 13,21,601\\n/yr</td>\n",
       "      <td>₹708K\\n₹1,557K</td>\n",
       "    </tr>\n",
       "    <tr>\n",
       "      <th>5</th>\n",
       "      <td>Analytics Vidhya</td>\n",
       "      <td>₹ 20,889\\n/mo</td>\n",
       "      <td>₹14K\\n₹22K</td>\n",
       "    </tr>\n",
       "    <tr>\n",
       "      <th>6</th>\n",
       "      <td>Tata Consultancy Services</td>\n",
       "      <td>₹ 6,33,432\\n/yr</td>\n",
       "      <td>₹488K\\n₹1,000K</td>\n",
       "    </tr>\n",
       "    <tr>\n",
       "      <th>7</th>\n",
       "      <td>Cognizant Technology Solutions</td>\n",
       "      <td>₹ 9,96,446\\n/yr</td>\n",
       "      <td>₹784K\\n₹1,250K</td>\n",
       "    </tr>\n",
       "    <tr>\n",
       "      <th>8</th>\n",
       "      <td>Valiance Solutions</td>\n",
       "      <td>₹ 7,71,320\\n/yr</td>\n",
       "      <td>₹496K\\n₹1,138K</td>\n",
       "    </tr>\n",
       "    <tr>\n",
       "      <th>9</th>\n",
       "      <td>Vidooly Media Tech</td>\n",
       "      <td>₹ 12,669\\n/mo</td>\n",
       "      <td>₹8K\\n₹20K</td>\n",
       "    </tr>\n",
       "  </tbody>\n",
       "</table>\n",
       "</div>"
      ],
      "text/plain": [
       "                          Company        Avg Salary   Min Max Salary\n",
       "0                       Delhivery  ₹ 12,83,026\\n/yr  ₹705K\\n₹11,495K\n",
       "1                       Accenture  ₹ 11,19,272\\n/yr   ₹571K\\n₹2,200K\n",
       "2                             IBM   ₹ 7,52,445\\n/yr   ₹580K\\n₹2,700K\n",
       "3              Ericsson-Worldwide   ₹ 8,28,000\\n/yr   ₹468K\\n₹1,595K\n",
       "4              UnitedHealth Group  ₹ 13,21,601\\n/yr   ₹708K\\n₹1,557K\n",
       "5                Analytics Vidhya     ₹ 20,889\\n/mo       ₹14K\\n₹22K\n",
       "6       Tata Consultancy Services   ₹ 6,33,432\\n/yr   ₹488K\\n₹1,000K\n",
       "7  Cognizant Technology Solutions   ₹ 9,96,446\\n/yr   ₹784K\\n₹1,250K\n",
       "8              Valiance Solutions   ₹ 7,71,320\\n/yr   ₹496K\\n₹1,138K\n",
       "9              Vidooly Media Tech     ₹ 12,669\\n/mo        ₹8K\\n₹20K"
      ]
     },
     "execution_count": 344,
     "metadata": {},
     "output_type": "execute_result"
    }
   ],
   "source": [
    "salaries"
   ]
  },
  {
   "cell_type": "code",
   "execution_count": 272,
   "metadata": {},
   "outputs": [],
   "source": [
    "driver.close()"
   ]
  },
  {
   "cell_type": "markdown",
   "metadata": {},
   "source": [
    "# 6"
   ]
  },
  {
   "cell_type": "code",
   "execution_count": 301,
   "metadata": {},
   "outputs": [],
   "source": [
    "driver=webdriver.Edge(r\"C:\\Users\\srinj\\OneDrive\\Documents\\EGDownloads\\edgedriver_win64\\msedgedriver.exe\")"
   ]
  },
  {
   "cell_type": "code",
   "execution_count": 302,
   "metadata": {},
   "outputs": [],
   "source": [
    "url=\"https://www.flipkart.com/\""
   ]
  },
  {
   "cell_type": "code",
   "execution_count": 304,
   "metadata": {},
   "outputs": [],
   "source": [
    "driver.get(url)"
   ]
  },
  {
   "cell_type": "code",
   "execution_count": 305,
   "metadata": {},
   "outputs": [],
   "source": [
    "driver.find_element_by_xpath('//input[@class=\"_3704LK\"]').send_keys('sunglasses')"
   ]
  },
  {
   "cell_type": "code",
   "execution_count": 306,
   "metadata": {},
   "outputs": [],
   "source": [
    "driver.find_element_by_xpath('//button[@class=\"L0Z3Pu\"]').click()"
   ]
  },
  {
   "cell_type": "code",
   "execution_count": 307,
   "metadata": {},
   "outputs": [],
   "source": [
    "brand_name=[]\n",
    "product_desc=[]\n",
    "price_rs=[]\n",
    "discount_rate=[]"
   ]
  },
  {
   "cell_type": "code",
   "execution_count": 308,
   "metadata": {},
   "outputs": [
    {
     "data": {
      "text/plain": [
       "[<selenium.webdriver.remote.webelement.WebElement (session=\"e2fc73b640b4c41f6cb48dd1ed26ac9a\", element=\"ed84e99c-b2a7-4781-a75b-146c042bbc0a\")>,\n",
       " <selenium.webdriver.remote.webelement.WebElement (session=\"e2fc73b640b4c41f6cb48dd1ed26ac9a\", element=\"5d635ea8-c171-423f-9063-6fde49615402\")>,\n",
       " <selenium.webdriver.remote.webelement.WebElement (session=\"e2fc73b640b4c41f6cb48dd1ed26ac9a\", element=\"4b2eb08a-8fc0-448a-bdba-84a0b4c15dfd\")>,\n",
       " <selenium.webdriver.remote.webelement.WebElement (session=\"e2fc73b640b4c41f6cb48dd1ed26ac9a\", element=\"bd52df96-2112-4082-bc3a-e90b3e974793\")>]"
      ]
     },
     "execution_count": 308,
     "metadata": {},
     "output_type": "execute_result"
    }
   ],
   "source": [
    "brand_tags=driver.find_elements_by_xpath(\"//div[@class='_2WkVRV']\")\n",
    "brand_tags[0:4]"
   ]
  },
  {
   "cell_type": "code",
   "execution_count": 309,
   "metadata": {},
   "outputs": [
    {
     "data": {
      "text/plain": [
       "['Royal Son', 'Specsmakers', 'Phenomenal', 'shah collections']"
      ]
     },
     "execution_count": 309,
     "metadata": {},
     "output_type": "execute_result"
    }
   ],
   "source": [
    "for i in brand_tags:\n",
    "    brand=i.text\n",
    "    brand_name.append(brand)\n",
    "brand_name[0:4]"
   ]
  },
  {
   "cell_type": "code",
   "execution_count": 310,
   "metadata": {},
   "outputs": [
    {
     "data": {
      "text/plain": [
       "40"
      ]
     },
     "execution_count": 310,
     "metadata": {},
     "output_type": "execute_result"
    }
   ],
   "source": [
    "len(brand_name)"
   ]
  },
  {
   "cell_type": "code",
   "execution_count": 311,
   "metadata": {},
   "outputs": [
    {
     "data": {
      "text/plain": [
       "[<selenium.webdriver.remote.webelement.WebElement (session=\"e2fc73b640b4c41f6cb48dd1ed26ac9a\", element=\"51a909fa-7cb2-4cd5-be44-96d49d442a47\")>,\n",
       " <selenium.webdriver.remote.webelement.WebElement (session=\"e2fc73b640b4c41f6cb48dd1ed26ac9a\", element=\"675ade22-731d-4bc0-9236-c35e3d9913e7\")>,\n",
       " <selenium.webdriver.remote.webelement.WebElement (session=\"e2fc73b640b4c41f6cb48dd1ed26ac9a\", element=\"ff968cd3-8149-4c89-896d-174ad163073b\")>,\n",
       " <selenium.webdriver.remote.webelement.WebElement (session=\"e2fc73b640b4c41f6cb48dd1ed26ac9a\", element=\"f4a3ae8d-1a1e-4b63-9c99-37a5376ca268\")>]"
      ]
     },
     "execution_count": 311,
     "metadata": {},
     "output_type": "execute_result"
    }
   ],
   "source": [
    "product_tags=driver.find_elements_by_xpath(\"//a[@class='IRpwTa _2-ICcC' or @class='IRpwTa']\")\n",
    "product_tags[0:4]"
   ]
  },
  {
   "cell_type": "code",
   "execution_count": 312,
   "metadata": {},
   "outputs": [
    {
     "data": {
      "text/plain": [
       "['UV Protection Retro Square Sunglasses (49)',\n",
       " 'Polarized Aviator Sunglasses (54)',\n",
       " 'UV Protection, Mirrored Retro Square Sunglasses (53)',\n",
       " 'UV Protection Round Sunglasses (Free Size)']"
      ]
     },
     "execution_count": 312,
     "metadata": {},
     "output_type": "execute_result"
    }
   ],
   "source": [
    "for i in product_tags:\n",
    "    product=i.text\n",
    "    product_desc.append(product)\n",
    "product_desc[0:4]"
   ]
  },
  {
   "cell_type": "code",
   "execution_count": 313,
   "metadata": {},
   "outputs": [
    {
     "data": {
      "text/plain": [
       "40"
      ]
     },
     "execution_count": 313,
     "metadata": {},
     "output_type": "execute_result"
    }
   ],
   "source": [
    "len(product_desc)"
   ]
  },
  {
   "cell_type": "code",
   "execution_count": 315,
   "metadata": {},
   "outputs": [
    {
     "data": {
      "text/plain": [
       "[<selenium.webdriver.remote.webelement.WebElement (session=\"e2fc73b640b4c41f6cb48dd1ed26ac9a\", element=\"9f3a1e40-68b0-4c3b-be28-0cfbb5ee625a\")>,\n",
       " <selenium.webdriver.remote.webelement.WebElement (session=\"e2fc73b640b4c41f6cb48dd1ed26ac9a\", element=\"4eab503d-dd3e-40f2-998b-474ff02d37e4\")>,\n",
       " <selenium.webdriver.remote.webelement.WebElement (session=\"e2fc73b640b4c41f6cb48dd1ed26ac9a\", element=\"b565565d-d42f-4de8-a24c-68db4fe19d7b\")>,\n",
       " <selenium.webdriver.remote.webelement.WebElement (session=\"e2fc73b640b4c41f6cb48dd1ed26ac9a\", element=\"3df00e6d-8a02-4474-91d0-21570252e84e\")>]"
      ]
     },
     "execution_count": 315,
     "metadata": {},
     "output_type": "execute_result"
    }
   ],
   "source": [
    "price_tags=driver.find_elements_by_xpath(\"//div[@class='_30jeq3']\")\n",
    "price_tags[0:4]"
   ]
  },
  {
   "cell_type": "code",
   "execution_count": 316,
   "metadata": {},
   "outputs": [
    {
     "data": {
      "text/plain": [
       "['₹664', '₹696', '₹399', '₹331']"
      ]
     },
     "execution_count": 316,
     "metadata": {},
     "output_type": "execute_result"
    }
   ],
   "source": [
    "for i in price_tags:\n",
    "    price=i.text\n",
    "    price_rs.append(price)\n",
    "price_rs[0:4]"
   ]
  },
  {
   "cell_type": "code",
   "execution_count": 317,
   "metadata": {},
   "outputs": [
    {
     "data": {
      "text/plain": [
       "40"
      ]
     },
     "execution_count": 317,
     "metadata": {},
     "output_type": "execute_result"
    }
   ],
   "source": [
    "len(price_rs)"
   ]
  },
  {
   "cell_type": "code",
   "execution_count": 318,
   "metadata": {},
   "outputs": [
    {
     "data": {
      "text/plain": [
       "[<selenium.webdriver.remote.webelement.WebElement (session=\"e2fc73b640b4c41f6cb48dd1ed26ac9a\", element=\"9928d823-873f-4261-89c8-20d7f7344350\")>,\n",
       " <selenium.webdriver.remote.webelement.WebElement (session=\"e2fc73b640b4c41f6cb48dd1ed26ac9a\", element=\"ade0b9d5-9ca9-42d5-860f-88f396f994f8\")>,\n",
       " <selenium.webdriver.remote.webelement.WebElement (session=\"e2fc73b640b4c41f6cb48dd1ed26ac9a\", element=\"03e30c4e-0d9f-4ab5-b726-6fe211d16f37\")>,\n",
       " <selenium.webdriver.remote.webelement.WebElement (session=\"e2fc73b640b4c41f6cb48dd1ed26ac9a\", element=\"8e81e5cc-f655-4092-a22a-de39496b5483\")>]"
      ]
     },
     "execution_count": 318,
     "metadata": {},
     "output_type": "execute_result"
    }
   ],
   "source": [
    "discount_tags=driver.find_elements_by_xpath(\"//div[@class='_3Ay6Sb']\")\n",
    "discount_tags[0:4]"
   ]
  },
  {
   "cell_type": "code",
   "execution_count": 319,
   "metadata": {},
   "outputs": [
    {
     "data": {
      "text/plain": [
       "['66% off', '65% off', '80% off', '80% off']"
      ]
     },
     "execution_count": 319,
     "metadata": {},
     "output_type": "execute_result"
    }
   ],
   "source": [
    "for i in discount_tags:\n",
    "    discount=i.text\n",
    "    discount_rate.append(discount)\n",
    "discount_rate[0:4]"
   ]
  },
  {
   "cell_type": "code",
   "execution_count": 320,
   "metadata": {},
   "outputs": [
    {
     "data": {
      "text/plain": [
       "40"
      ]
     },
     "execution_count": 320,
     "metadata": {},
     "output_type": "execute_result"
    }
   ],
   "source": [
    "len(discount_rate)"
   ]
  },
  {
   "cell_type": "code",
   "execution_count": 321,
   "metadata": {},
   "outputs": [],
   "source": [
    "driver.find_element_by_xpath('//a[@class=\"_1LKTO3\"]').click()"
   ]
  },
  {
   "cell_type": "code",
   "execution_count": 322,
   "metadata": {},
   "outputs": [
    {
     "data": {
      "text/plain": [
       "[<selenium.webdriver.remote.webelement.WebElement (session=\"e2fc73b640b4c41f6cb48dd1ed26ac9a\", element=\"d72ffa82-39ce-46a2-9958-0e97ae33b597\")>,\n",
       " <selenium.webdriver.remote.webelement.WebElement (session=\"e2fc73b640b4c41f6cb48dd1ed26ac9a\", element=\"21ea2b92-3f7e-4378-8d58-b0bba38ccdda\")>,\n",
       " <selenium.webdriver.remote.webelement.WebElement (session=\"e2fc73b640b4c41f6cb48dd1ed26ac9a\", element=\"aabd010a-6277-4cf3-b0d4-a3242c705245\")>,\n",
       " <selenium.webdriver.remote.webelement.WebElement (session=\"e2fc73b640b4c41f6cb48dd1ed26ac9a\", element=\"60184f90-1fc4-473b-b814-631720310912\")>]"
      ]
     },
     "execution_count": 322,
     "metadata": {},
     "output_type": "execute_result"
    }
   ],
   "source": [
    "brand_tags1=driver.find_elements_by_xpath(\"//div[@class='_2WkVRV']\")\n",
    "brand_tags1[0:4]"
   ]
  },
  {
   "cell_type": "code",
   "execution_count": 323,
   "metadata": {},
   "outputs": [
    {
     "data": {
      "text/plain": [
       "'JUST STYLE'"
      ]
     },
     "execution_count": 323,
     "metadata": {},
     "output_type": "execute_result"
    }
   ],
   "source": [
    "for i in brand_tags1:\n",
    "    brand=i.text\n",
    "    brand_name.append(brand)\n",
    "brand_name[40]"
   ]
  },
  {
   "cell_type": "code",
   "execution_count": 324,
   "metadata": {},
   "outputs": [
    {
     "data": {
      "text/plain": [
       "80"
      ]
     },
     "execution_count": 324,
     "metadata": {},
     "output_type": "execute_result"
    }
   ],
   "source": [
    "len(brand_name)"
   ]
  },
  {
   "cell_type": "code",
   "execution_count": 325,
   "metadata": {},
   "outputs": [
    {
     "data": {
      "text/plain": [
       "[<selenium.webdriver.remote.webelement.WebElement (session=\"e2fc73b640b4c41f6cb48dd1ed26ac9a\", element=\"fa8273f2-d373-4c71-8af7-43f414f53ca5\")>,\n",
       " <selenium.webdriver.remote.webelement.WebElement (session=\"e2fc73b640b4c41f6cb48dd1ed26ac9a\", element=\"7402ca78-2e02-4623-a7b4-dfb98e597991\")>,\n",
       " <selenium.webdriver.remote.webelement.WebElement (session=\"e2fc73b640b4c41f6cb48dd1ed26ac9a\", element=\"dd97170c-a5c4-4de1-8f4d-6fe6a3f05ea2\")>,\n",
       " <selenium.webdriver.remote.webelement.WebElement (session=\"e2fc73b640b4c41f6cb48dd1ed26ac9a\", element=\"5d27622a-f0dd-40f1-a4e6-e5adbbae853c\")>]"
      ]
     },
     "execution_count": 325,
     "metadata": {},
     "output_type": "execute_result"
    }
   ],
   "source": [
    "product_tags1=driver.find_elements_by_xpath(\"//a[@class='IRpwTa _2-ICcC' or @class='IRpwTa']\")\n",
    "product_tags1[0:4]"
   ]
  },
  {
   "cell_type": "code",
   "execution_count": 326,
   "metadata": {},
   "outputs": [
    {
     "data": {
      "text/plain": [
       "'Polarized Round Sunglasses (15)'"
      ]
     },
     "execution_count": 326,
     "metadata": {},
     "output_type": "execute_result"
    }
   ],
   "source": [
    "for i in product_tags1:\n",
    "    product=i.text\n",
    "    product_desc.append(product)\n",
    "product_desc[40]"
   ]
  },
  {
   "cell_type": "code",
   "execution_count": 327,
   "metadata": {},
   "outputs": [
    {
     "data": {
      "text/plain": [
       "80"
      ]
     },
     "execution_count": 327,
     "metadata": {},
     "output_type": "execute_result"
    }
   ],
   "source": [
    "len(product_desc)"
   ]
  },
  {
   "cell_type": "code",
   "execution_count": 328,
   "metadata": {},
   "outputs": [
    {
     "data": {
      "text/plain": [
       "[<selenium.webdriver.remote.webelement.WebElement (session=\"e2fc73b640b4c41f6cb48dd1ed26ac9a\", element=\"dc17c220-b369-467c-96ba-41c22d8f5149\")>,\n",
       " <selenium.webdriver.remote.webelement.WebElement (session=\"e2fc73b640b4c41f6cb48dd1ed26ac9a\", element=\"880fe409-9602-426a-b39c-6840ec546fc3\")>,\n",
       " <selenium.webdriver.remote.webelement.WebElement (session=\"e2fc73b640b4c41f6cb48dd1ed26ac9a\", element=\"7920780e-56e2-46fe-bab0-86f15c7a0680\")>,\n",
       " <selenium.webdriver.remote.webelement.WebElement (session=\"e2fc73b640b4c41f6cb48dd1ed26ac9a\", element=\"d9b730f7-8751-44a1-b7bf-77282ad10501\")>]"
      ]
     },
     "execution_count": 328,
     "metadata": {},
     "output_type": "execute_result"
    }
   ],
   "source": [
    "price_tags1=driver.find_elements_by_xpath(\"//div[@class='_30jeq3']\")\n",
    "price_tags1[0:4]"
   ]
  },
  {
   "cell_type": "code",
   "execution_count": 329,
   "metadata": {},
   "outputs": [
    {
     "data": {
      "text/plain": [
       "'₹115'"
      ]
     },
     "execution_count": 329,
     "metadata": {},
     "output_type": "execute_result"
    }
   ],
   "source": [
    "for i in price_tags1:\n",
    "    price=i.text\n",
    "    price_rs.append(price)\n",
    "price_rs[40]"
   ]
  },
  {
   "cell_type": "code",
   "execution_count": 330,
   "metadata": {},
   "outputs": [
    {
     "data": {
      "text/plain": [
       "80"
      ]
     },
     "execution_count": 330,
     "metadata": {},
     "output_type": "execute_result"
    }
   ],
   "source": [
    "len(price_rs)"
   ]
  },
  {
   "cell_type": "code",
   "execution_count": 331,
   "metadata": {},
   "outputs": [
    {
     "data": {
      "text/plain": [
       "[<selenium.webdriver.remote.webelement.WebElement (session=\"e2fc73b640b4c41f6cb48dd1ed26ac9a\", element=\"d00ef64a-079a-4639-8035-ca82d6d99936\")>,\n",
       " <selenium.webdriver.remote.webelement.WebElement (session=\"e2fc73b640b4c41f6cb48dd1ed26ac9a\", element=\"d88743e9-8e4a-415b-8b5b-9d899f56c557\")>,\n",
       " <selenium.webdriver.remote.webelement.WebElement (session=\"e2fc73b640b4c41f6cb48dd1ed26ac9a\", element=\"a8e7f353-c8b3-49d5-b92a-aa5dec58fe58\")>,\n",
       " <selenium.webdriver.remote.webelement.WebElement (session=\"e2fc73b640b4c41f6cb48dd1ed26ac9a\", element=\"1aa8be86-8c92-4922-b26a-917fe2883b65\")>]"
      ]
     },
     "execution_count": 331,
     "metadata": {},
     "output_type": "execute_result"
    }
   ],
   "source": [
    "discount_tags1=driver.find_elements_by_xpath(\"//div[@class='_3Ay6Sb']\")\n",
    "discount_tags1[0:4]"
   ]
  },
  {
   "cell_type": "code",
   "execution_count": 332,
   "metadata": {},
   "outputs": [
    {
     "data": {
      "text/plain": [
       "'80% off'"
      ]
     },
     "execution_count": 332,
     "metadata": {},
     "output_type": "execute_result"
    }
   ],
   "source": [
    "for i in discount_tags1:\n",
    "    discount=i.text\n",
    "    discount_rate.append(discount)\n",
    "discount_rate[40]"
   ]
  },
  {
   "cell_type": "code",
   "execution_count": 333,
   "metadata": {},
   "outputs": [
    {
     "data": {
      "text/plain": [
       "80"
      ]
     },
     "execution_count": 333,
     "metadata": {},
     "output_type": "execute_result"
    }
   ],
   "source": [
    "len(discount_rate)"
   ]
  },
  {
   "cell_type": "code",
   "execution_count": 334,
   "metadata": {},
   "outputs": [],
   "source": [
    "driver.find_element_by_xpath('//a[@class=\"_1LKTO3\"]').click()"
   ]
  },
  {
   "cell_type": "code",
   "execution_count": 335,
   "metadata": {},
   "outputs": [
    {
     "data": {
      "text/plain": [
       "[<selenium.webdriver.remote.webelement.WebElement (session=\"e2fc73b640b4c41f6cb48dd1ed26ac9a\", element=\"28b6fbd6-92bc-40eb-a506-23aab09dfe03\")>,\n",
       " <selenium.webdriver.remote.webelement.WebElement (session=\"e2fc73b640b4c41f6cb48dd1ed26ac9a\", element=\"1ed543fc-a71e-4bcb-bd87-5ddccc412d9c\")>,\n",
       " <selenium.webdriver.remote.webelement.WebElement (session=\"e2fc73b640b4c41f6cb48dd1ed26ac9a\", element=\"35cb8b56-0f88-4bef-80bc-42e1d0d23cb7\")>,\n",
       " <selenium.webdriver.remote.webelement.WebElement (session=\"e2fc73b640b4c41f6cb48dd1ed26ac9a\", element=\"909da59b-f561-4578-86a2-e1ba6eed4ddd\")>]"
      ]
     },
     "execution_count": 335,
     "metadata": {},
     "output_type": "execute_result"
    }
   ],
   "source": [
    "brand_tags2=driver.find_elements_by_xpath(\"//div[@class='_2WkVRV']\")\n",
    "brand_tags2[0:4]"
   ]
  },
  {
   "cell_type": "code",
   "execution_count": 336,
   "metadata": {},
   "outputs": [
    {
     "data": {
      "text/plain": [
       "'Endiano'"
      ]
     },
     "execution_count": 336,
     "metadata": {},
     "output_type": "execute_result"
    }
   ],
   "source": [
    "for i in brand_tags2:\n",
    "    brand=i.text\n",
    "    brand_name.append(brand)\n",
    "brand_name[80]"
   ]
  },
  {
   "cell_type": "code",
   "execution_count": 338,
   "metadata": {},
   "outputs": [
    {
     "data": {
      "text/plain": [
       "[<selenium.webdriver.remote.webelement.WebElement (session=\"e2fc73b640b4c41f6cb48dd1ed26ac9a\", element=\"b2506d2e-a889-4f70-b5de-59021e4f63d0\")>,\n",
       " <selenium.webdriver.remote.webelement.WebElement (session=\"e2fc73b640b4c41f6cb48dd1ed26ac9a\", element=\"e8c8277a-3b6f-4c53-b8c7-98f2acf5d8ca\")>,\n",
       " <selenium.webdriver.remote.webelement.WebElement (session=\"e2fc73b640b4c41f6cb48dd1ed26ac9a\", element=\"0f290aa7-f30e-416a-8aab-0c44f65c7240\")>,\n",
       " <selenium.webdriver.remote.webelement.WebElement (session=\"e2fc73b640b4c41f6cb48dd1ed26ac9a\", element=\"f5071e80-1789-424b-b7c8-9b37ff4968c8\")>]"
      ]
     },
     "execution_count": 338,
     "metadata": {},
     "output_type": "execute_result"
    }
   ],
   "source": [
    "product_tags2=driver.find_elements_by_xpath(\"//a[@class='IRpwTa _2-ICcC' or @class='IRpwTa']\")\n",
    "product_tags2[0:4]"
   ]
  },
  {
   "cell_type": "code",
   "execution_count": 339,
   "metadata": {},
   "outputs": [
    {
     "data": {
      "text/plain": [
       "'UV Protection Wayfarer Sunglasses (Free Size)'"
      ]
     },
     "execution_count": 339,
     "metadata": {},
     "output_type": "execute_result"
    }
   ],
   "source": [
    "for i in product_tags2:\n",
    "    product=i.text\n",
    "    product_desc.append(product)\n",
    "product_desc[80]"
   ]
  },
  {
   "cell_type": "code",
   "execution_count": 340,
   "metadata": {},
   "outputs": [
    {
     "data": {
      "text/plain": [
       "[<selenium.webdriver.remote.webelement.WebElement (session=\"e2fc73b640b4c41f6cb48dd1ed26ac9a\", element=\"43a0efc0-2e80-4d40-aa20-39f732b362d9\")>,\n",
       " <selenium.webdriver.remote.webelement.WebElement (session=\"e2fc73b640b4c41f6cb48dd1ed26ac9a\", element=\"89a4abfc-699b-4cec-bf84-e5b5f74a5de5\")>,\n",
       " <selenium.webdriver.remote.webelement.WebElement (session=\"e2fc73b640b4c41f6cb48dd1ed26ac9a\", element=\"c0d1b3f1-1250-4cf9-a2be-2ec9007fd7b1\")>,\n",
       " <selenium.webdriver.remote.webelement.WebElement (session=\"e2fc73b640b4c41f6cb48dd1ed26ac9a\", element=\"85904d78-c512-4e06-8028-417d1a8ddd5f\")>]"
      ]
     },
     "execution_count": 340,
     "metadata": {},
     "output_type": "execute_result"
    }
   ],
   "source": [
    "price_tags2=driver.find_elements_by_xpath(\"//div[@class='_30jeq3']\")\n",
    "price_tags2[0:4]"
   ]
  },
  {
   "cell_type": "code",
   "execution_count": 341,
   "metadata": {},
   "outputs": [
    {
     "data": {
      "text/plain": [
       "'₹161'"
      ]
     },
     "execution_count": 341,
     "metadata": {},
     "output_type": "execute_result"
    }
   ],
   "source": [
    "for i in price_tags2:\n",
    "    price=i.text\n",
    "    price_rs.append(price)\n",
    "price_rs[80]"
   ]
  },
  {
   "cell_type": "code",
   "execution_count": 342,
   "metadata": {},
   "outputs": [
    {
     "data": {
      "text/plain": [
       "[<selenium.webdriver.remote.webelement.WebElement (session=\"e2fc73b640b4c41f6cb48dd1ed26ac9a\", element=\"e285a503-c14d-41c4-aa0a-2cfc298f4cb3\")>,\n",
       " <selenium.webdriver.remote.webelement.WebElement (session=\"e2fc73b640b4c41f6cb48dd1ed26ac9a\", element=\"a411bfb5-9442-4f18-9c2c-b8992f4b517f\")>,\n",
       " <selenium.webdriver.remote.webelement.WebElement (session=\"e2fc73b640b4c41f6cb48dd1ed26ac9a\", element=\"b41f8484-ae89-4bda-a389-b564d431c181\")>,\n",
       " <selenium.webdriver.remote.webelement.WebElement (session=\"e2fc73b640b4c41f6cb48dd1ed26ac9a\", element=\"510b6f4e-9037-4142-9f3b-83ca75191288\")>]"
      ]
     },
     "execution_count": 342,
     "metadata": {},
     "output_type": "execute_result"
    }
   ],
   "source": [
    "discount_tags2=driver.find_elements_by_xpath(\"//div[@class='_3Ay6Sb']\")\n",
    "discount_tags2[0:4]"
   ]
  },
  {
   "cell_type": "code",
   "execution_count": 343,
   "metadata": {},
   "outputs": [
    {
     "data": {
      "text/plain": [
       "'67% off'"
      ]
     },
     "execution_count": 343,
     "metadata": {},
     "output_type": "execute_result"
    }
   ],
   "source": [
    "for i in discount_tags2:\n",
    "    discount=i.text\n",
    "    discount_rate.append(discount)\n",
    "discount_rate[80]"
   ]
  },
  {
   "cell_type": "code",
   "execution_count": 345,
   "metadata": {},
   "outputs": [],
   "source": [
    "import pandas as pd\n",
    "flipkart=pd.DataFrame({})\n",
    "flipkart['Brand']=brand_name[0:100]\n",
    "flipkart['Product description']=product_desc[0:100]\n",
    "flipkart['Price']=price_rs[0:100]\n",
    "flipkart['Discount']=discount_rate[0:100]"
   ]
  },
  {
   "cell_type": "code",
   "execution_count": 346,
   "metadata": {},
   "outputs": [
    {
     "data": {
      "text/html": [
       "<div>\n",
       "<style scoped>\n",
       "    .dataframe tbody tr th:only-of-type {\n",
       "        vertical-align: middle;\n",
       "    }\n",
       "\n",
       "    .dataframe tbody tr th {\n",
       "        vertical-align: top;\n",
       "    }\n",
       "\n",
       "    .dataframe thead th {\n",
       "        text-align: right;\n",
       "    }\n",
       "</style>\n",
       "<table border=\"1\" class=\"dataframe\">\n",
       "  <thead>\n",
       "    <tr style=\"text-align: right;\">\n",
       "      <th></th>\n",
       "      <th>Brand</th>\n",
       "      <th>Product description</th>\n",
       "      <th>Price</th>\n",
       "      <th>Discount</th>\n",
       "    </tr>\n",
       "  </thead>\n",
       "  <tbody>\n",
       "    <tr>\n",
       "      <th>0</th>\n",
       "      <td>Royal Son</td>\n",
       "      <td>UV Protection Retro Square Sunglasses (49)</td>\n",
       "      <td>₹664</td>\n",
       "      <td>66% off</td>\n",
       "    </tr>\n",
       "    <tr>\n",
       "      <th>1</th>\n",
       "      <td>Specsmakers</td>\n",
       "      <td>Polarized Aviator Sunglasses (54)</td>\n",
       "      <td>₹696</td>\n",
       "      <td>65% off</td>\n",
       "    </tr>\n",
       "    <tr>\n",
       "      <th>2</th>\n",
       "      <td>Phenomenal</td>\n",
       "      <td>UV Protection, Mirrored Retro Square Sunglasse...</td>\n",
       "      <td>₹399</td>\n",
       "      <td>80% off</td>\n",
       "    </tr>\n",
       "    <tr>\n",
       "      <th>3</th>\n",
       "      <td>shah collections</td>\n",
       "      <td>UV Protection Round Sunglasses (Free Size)</td>\n",
       "      <td>₹331</td>\n",
       "      <td>80% off</td>\n",
       "    </tr>\n",
       "    <tr>\n",
       "      <th>4</th>\n",
       "      <td>Trendy Glasses</td>\n",
       "      <td>UV Protection Retro Square Sunglasses (Free Size)</td>\n",
       "      <td>₹236</td>\n",
       "      <td>81% off</td>\n",
       "    </tr>\n",
       "    <tr>\n",
       "      <th>...</th>\n",
       "      <td>...</td>\n",
       "      <td>...</td>\n",
       "      <td>...</td>\n",
       "      <td>...</td>\n",
       "    </tr>\n",
       "    <tr>\n",
       "      <th>95</th>\n",
       "      <td>shah collections</td>\n",
       "      <td>UV Protection Aviator Sunglasses (53)</td>\n",
       "      <td>₹181</td>\n",
       "      <td>86% off</td>\n",
       "    </tr>\n",
       "    <tr>\n",
       "      <th>96</th>\n",
       "      <td>predy</td>\n",
       "      <td>UV Protection Wayfarer Sunglasses (65)</td>\n",
       "      <td>₹195</td>\n",
       "      <td>80% off</td>\n",
       "    </tr>\n",
       "    <tr>\n",
       "      <th>97</th>\n",
       "      <td>funglasses</td>\n",
       "      <td>UV Protection, Polarized Retro Square Sunglass...</td>\n",
       "      <td>₹189</td>\n",
       "      <td>81% off</td>\n",
       "    </tr>\n",
       "    <tr>\n",
       "      <th>98</th>\n",
       "      <td>Fastrack</td>\n",
       "      <td>UV Protection Wayfarer Sunglasses (Free Size)</td>\n",
       "      <td>₹759</td>\n",
       "      <td>15% off</td>\n",
       "    </tr>\n",
       "    <tr>\n",
       "      <th>99</th>\n",
       "      <td>Aislin</td>\n",
       "      <td>UV Protection Rectangular, Wrap-around Sunglas...</td>\n",
       "      <td>₹972</td>\n",
       "      <td>73% off</td>\n",
       "    </tr>\n",
       "  </tbody>\n",
       "</table>\n",
       "<p>100 rows × 4 columns</p>\n",
       "</div>"
      ],
      "text/plain": [
       "               Brand                                Product description Price  \\\n",
       "0          Royal Son         UV Protection Retro Square Sunglasses (49)  ₹664   \n",
       "1        Specsmakers                  Polarized Aviator Sunglasses (54)  ₹696   \n",
       "2         Phenomenal  UV Protection, Mirrored Retro Square Sunglasse...  ₹399   \n",
       "3   shah collections         UV Protection Round Sunglasses (Free Size)  ₹331   \n",
       "4     Trendy Glasses  UV Protection Retro Square Sunglasses (Free Size)  ₹236   \n",
       "..               ...                                                ...   ...   \n",
       "95  shah collections              UV Protection Aviator Sunglasses (53)  ₹181   \n",
       "96             predy             UV Protection Wayfarer Sunglasses (65)  ₹195   \n",
       "97        funglasses  UV Protection, Polarized Retro Square Sunglass...  ₹189   \n",
       "98          Fastrack      UV Protection Wayfarer Sunglasses (Free Size)  ₹759   \n",
       "99            Aislin  UV Protection Rectangular, Wrap-around Sunglas...  ₹972   \n",
       "\n",
       "   Discount  \n",
       "0   66% off  \n",
       "1   65% off  \n",
       "2   80% off  \n",
       "3   80% off  \n",
       "4   81% off  \n",
       "..      ...  \n",
       "95  86% off  \n",
       "96  80% off  \n",
       "97  81% off  \n",
       "98  15% off  \n",
       "99  73% off  \n",
       "\n",
       "[100 rows x 4 columns]"
      ]
     },
     "execution_count": 346,
     "metadata": {},
     "output_type": "execute_result"
    }
   ],
   "source": [
    "flipkart"
   ]
  },
  {
   "cell_type": "code",
   "execution_count": 43,
   "metadata": {},
   "outputs": [],
   "source": [
    "driver.close()"
   ]
  },
  {
   "cell_type": "markdown",
   "metadata": {},
   "source": [
    "# 7"
   ]
  },
  {
   "cell_type": "code",
   "execution_count": 44,
   "metadata": {},
   "outputs": [],
   "source": [
    "driver=webdriver.Edge(r\"C:\\Users\\srinj\\OneDrive\\Documents\\EGDownloads\\edgedriver_win64\\msedgedriver.exe\")"
   ]
  },
  {
   "cell_type": "code",
   "execution_count": 45,
   "metadata": {},
   "outputs": [],
   "source": [
    "url=\"https://www.flipkart.com/apple-iphone-11-black-64-gb-includes-earpods-power-adapter/p/itm0f37c2240b217?pid=MOBFKCTSVZAXUHGR&lid=LSTMOBFKCTSVZAXUHGREPBFGI&marketplace\""
   ]
  },
  {
   "cell_type": "code",
   "execution_count": 46,
   "metadata": {},
   "outputs": [],
   "source": [
    "driver.get(url)"
   ]
  },
  {
   "cell_type": "code",
   "execution_count": 47,
   "metadata": {},
   "outputs": [],
   "source": [
    "rating_ph=[]\n",
    "review_summary=[]\n",
    "full_review=[]"
   ]
  },
  {
   "cell_type": "code",
   "execution_count": 48,
   "metadata": {},
   "outputs": [
    {
     "data": {
      "text/plain": [
       "[<selenium.webdriver.remote.webelement.WebElement (session=\"65856935392728bc7df9227859760339\", element=\"ffc31061-3c49-453f-a54e-43f96f9b5abb\")>,\n",
       " <selenium.webdriver.remote.webelement.WebElement (session=\"65856935392728bc7df9227859760339\", element=\"bc011377-c3fd-409b-820a-698e1988fb2a\")>,\n",
       " <selenium.webdriver.remote.webelement.WebElement (session=\"65856935392728bc7df9227859760339\", element=\"239e7336-e7f6-42ec-9900-7b985b5daade\")>,\n",
       " <selenium.webdriver.remote.webelement.WebElement (session=\"65856935392728bc7df9227859760339\", element=\"d605686c-b072-4dbd-a913-11b21e7ddd0d\")>]"
      ]
     },
     "execution_count": 48,
     "metadata": {},
     "output_type": "execute_result"
    }
   ],
   "source": [
    "rating_tags=driver.find_elements_by_xpath(\"//div[@class='_3LWZlK _1BLPMq']\")\n",
    "rating_tags[0:4]"
   ]
  },
  {
   "cell_type": "code",
   "execution_count": 49,
   "metadata": {},
   "outputs": [
    {
     "data": {
      "text/plain": [
       "['5', '5', '5', '5']"
      ]
     },
     "execution_count": 49,
     "metadata": {},
     "output_type": "execute_result"
    }
   ],
   "source": [
    "for i in rating_tags:\n",
    "    rating=i.text\n",
    "    rating_ph.append(rating)\n",
    "rating_ph[0:4]"
   ]
  },
  {
   "cell_type": "code",
   "execution_count": 50,
   "metadata": {},
   "outputs": [
    {
     "data": {
      "text/plain": [
       "10"
      ]
     },
     "execution_count": 50,
     "metadata": {},
     "output_type": "execute_result"
    }
   ],
   "source": [
    "len(rating_ph)"
   ]
  },
  {
   "cell_type": "code",
   "execution_count": 51,
   "metadata": {},
   "outputs": [
    {
     "data": {
      "text/plain": [
       "['5', '5', '5', '5', '5', '5', '5', '5', '4', '5']"
      ]
     },
     "execution_count": 51,
     "metadata": {},
     "output_type": "execute_result"
    }
   ],
   "source": [
    "rating_ph"
   ]
  },
  {
   "cell_type": "code",
   "execution_count": 52,
   "metadata": {},
   "outputs": [
    {
     "data": {
      "text/plain": [
       "[<selenium.webdriver.remote.webelement.WebElement (session=\"65856935392728bc7df9227859760339\", element=\"b877b6f7-d1ae-426e-bae2-30640aa9fe70\")>,\n",
       " <selenium.webdriver.remote.webelement.WebElement (session=\"65856935392728bc7df9227859760339\", element=\"e64041a0-bf2d-463b-a258-9301f005eed2\")>,\n",
       " <selenium.webdriver.remote.webelement.WebElement (session=\"65856935392728bc7df9227859760339\", element=\"ba5669ad-bcc1-4468-af88-85c2f5dad9ad\")>,\n",
       " <selenium.webdriver.remote.webelement.WebElement (session=\"65856935392728bc7df9227859760339\", element=\"3f0ed575-48bd-4869-91a7-0b2303d8ed3d\")>]"
      ]
     },
     "execution_count": 52,
     "metadata": {},
     "output_type": "execute_result"
    }
   ],
   "source": [
    "review_tags=driver.find_elements_by_xpath(\"//p[@class='_2-N8zT']\")\n",
    "review_tags[0:4]"
   ]
  },
  {
   "cell_type": "code",
   "execution_count": 53,
   "metadata": {},
   "outputs": [
    {
     "data": {
      "text/plain": [
       "['Perfect product!', 'Great product', 'Perfect product!', 'Highly recommended']"
      ]
     },
     "execution_count": 53,
     "metadata": {},
     "output_type": "execute_result"
    }
   ],
   "source": [
    "for i in review_tags:\n",
    "    review=i.text\n",
    "    review_summary.append(review)\n",
    "review_summary[0:4]"
   ]
  },
  {
   "cell_type": "code",
   "execution_count": 54,
   "metadata": {},
   "outputs": [
    {
     "data": {
      "text/plain": [
       "[<selenium.webdriver.remote.webelement.WebElement (session=\"65856935392728bc7df9227859760339\", element=\"9f6c1289-027f-4965-9caa-14f6b2c471c0\")>,\n",
       " <selenium.webdriver.remote.webelement.WebElement (session=\"65856935392728bc7df9227859760339\", element=\"7e4dac7c-2262-47c1-a027-576caee92814\")>,\n",
       " <selenium.webdriver.remote.webelement.WebElement (session=\"65856935392728bc7df9227859760339\", element=\"802bb6ac-2797-4361-a476-6db8f37968a2\")>,\n",
       " <selenium.webdriver.remote.webelement.WebElement (session=\"65856935392728bc7df9227859760339\", element=\"657c9e42-21e8-40a4-ae0a-124cdfb57aef\")>]"
      ]
     },
     "execution_count": 54,
     "metadata": {},
     "output_type": "execute_result"
    }
   ],
   "source": [
    "fullreview_tags=driver.find_elements_by_xpath(\"//div[@class='t-ZTKy']\")\n",
    "fullreview_tags[0:4]"
   ]
  },
  {
   "cell_type": "code",
   "execution_count": 55,
   "metadata": {},
   "outputs": [
    {
     "data": {
      "text/plain": [
       "['Amazing phone with great cameras and better battery which gives you the best performance. I just love the camera .',\n",
       " 'Amazing Powerful and Durable Gadget.\\n\\nI’m am very happy with the camera picture quality, Amazing face id unlocked in dark room, Strong battery with perfect screen size as you can carry easily in pocket. This is my third iPhone.\\n\\nI shifted from android Samsung Note series to iPhone because of the strong build quality and peace of mind for next 3-4 years.\\n\\nDon’t think to much just go for it and I suggest you to go for minimum 128gb variant or more 256gb.\\n\\nI’ve attached my puppy pics and no fi...\\nREAD MORE',\n",
       " 'It’s a must buy who is looking for an upgrade from previous generation of iPhones. If you are using XR then still you can hold on for sometime and upgrade to 2020 model else this phone is a must buy . Camera quality is amazing and wide angle is something to count upon. Performance wise it’s amazing and feels premium while holding in hand. So a big YES for this device. Go for 128 GB variant as the 4K videos will occupy lots of space and the storage can get over very quickly. Try to buy it with...\\nREAD MORE',\n",
       " 'iphone 11 is a very good phone to buy only if you can compromise for the display. The display on this is device is pretty good but you can get other options with better displays in this price segment.\\nIf you can survive with an HD+ LCD panel with thicker bezels and a notch up top then this is a very good phone for you.\\nCameras are awesome, battery backup excellent, great performance and a decent premium look. Good job Apple !']"
      ]
     },
     "execution_count": 55,
     "metadata": {},
     "output_type": "execute_result"
    }
   ],
   "source": [
    "for i in fullreview_tags:\n",
    "    freview=i.text\n",
    "    full_review.append(freview)\n",
    "full_review[0:4]"
   ]
  },
  {
   "cell_type": "code",
   "execution_count": 56,
   "metadata": {},
   "outputs": [],
   "source": [
    "driver.find_element_by_xpath('//a[@class=\"_1LKTO3\"]').click()"
   ]
  },
  {
   "cell_type": "code",
   "execution_count": 57,
   "metadata": {},
   "outputs": [
    {
     "data": {
      "text/plain": [
       "[<selenium.webdriver.remote.webelement.WebElement (session=\"65856935392728bc7df9227859760339\", element=\"e7bd47f2-e9d8-4d31-81b2-5dd827c818e3\")>,\n",
       " <selenium.webdriver.remote.webelement.WebElement (session=\"65856935392728bc7df9227859760339\", element=\"50a715e0-9adc-4043-8190-275da260e860\")>,\n",
       " <selenium.webdriver.remote.webelement.WebElement (session=\"65856935392728bc7df9227859760339\", element=\"7870c081-4560-4f2c-8d31-11b74575485e\")>,\n",
       " <selenium.webdriver.remote.webelement.WebElement (session=\"65856935392728bc7df9227859760339\", element=\"6c610492-8f21-45fb-9ab1-ae49d39607cc\")>]"
      ]
     },
     "execution_count": 57,
     "metadata": {},
     "output_type": "execute_result"
    }
   ],
   "source": [
    "rating_tags1=driver.find_elements_by_xpath(\"//div[@class='_3LWZlK _1BLPMq' or @class='_3LWZlK _1rdVr6 _1BLPMq']\") \n",
    "rating_tags1[0:4]"
   ]
  },
  {
   "cell_type": "code",
   "execution_count": 58,
   "metadata": {},
   "outputs": [
    {
     "data": {
      "text/plain": [
       "['5', '5', '5', '5']"
      ]
     },
     "execution_count": 58,
     "metadata": {},
     "output_type": "execute_result"
    }
   ],
   "source": [
    "for i in rating_tags1:\n",
    "    rating=i.text\n",
    "    rating_ph.append(rating)\n",
    "rating_ph[0:4]"
   ]
  },
  {
   "cell_type": "code",
   "execution_count": 60,
   "metadata": {},
   "outputs": [
    {
     "data": {
      "text/plain": [
       "20"
      ]
     },
     "execution_count": 60,
     "metadata": {},
     "output_type": "execute_result"
    }
   ],
   "source": [
    "len(rating_ph)"
   ]
  },
  {
   "cell_type": "code",
   "execution_count": 61,
   "metadata": {},
   "outputs": [
    {
     "data": {
      "text/plain": [
       "[<selenium.webdriver.remote.webelement.WebElement (session=\"65856935392728bc7df9227859760339\", element=\"3641b247-c4af-4864-bcf9-4fc2d79f148e\")>,\n",
       " <selenium.webdriver.remote.webelement.WebElement (session=\"65856935392728bc7df9227859760339\", element=\"fe12901b-6969-49be-aa3c-f543f876758f\")>,\n",
       " <selenium.webdriver.remote.webelement.WebElement (session=\"65856935392728bc7df9227859760339\", element=\"c91ff0fd-886b-47a3-8098-9ea281414e5b\")>,\n",
       " <selenium.webdriver.remote.webelement.WebElement (session=\"65856935392728bc7df9227859760339\", element=\"bb8ae7d3-803f-4976-84da-1545afa2c497\")>]"
      ]
     },
     "execution_count": 61,
     "metadata": {},
     "output_type": "execute_result"
    }
   ],
   "source": [
    "review_tags1=driver.find_elements_by_xpath(\"//p[@class='_2-N8zT']\")\n",
    "review_tags1[0:4]"
   ]
  },
  {
   "cell_type": "code",
   "execution_count": 62,
   "metadata": {},
   "outputs": [
    {
     "data": {
      "text/plain": [
       "'Terrific purchase'"
      ]
     },
     "execution_count": 62,
     "metadata": {},
     "output_type": "execute_result"
    }
   ],
   "source": [
    "for i in review_tags1:\n",
    "    review=i.text\n",
    "    review_summary.append(review)\n",
    "review_summary[10]"
   ]
  },
  {
   "cell_type": "code",
   "execution_count": 63,
   "metadata": {},
   "outputs": [
    {
     "data": {
      "text/plain": [
       "20"
      ]
     },
     "execution_count": 63,
     "metadata": {},
     "output_type": "execute_result"
    }
   ],
   "source": [
    "len(review_summary)"
   ]
  },
  {
   "cell_type": "code",
   "execution_count": 64,
   "metadata": {},
   "outputs": [
    {
     "data": {
      "text/plain": [
       "[<selenium.webdriver.remote.webelement.WebElement (session=\"65856935392728bc7df9227859760339\", element=\"f910bf31-d443-465a-8bcc-8466622fcd49\")>,\n",
       " <selenium.webdriver.remote.webelement.WebElement (session=\"65856935392728bc7df9227859760339\", element=\"2bff3c1a-0a8f-48ed-b763-eb1bac0b7fe5\")>,\n",
       " <selenium.webdriver.remote.webelement.WebElement (session=\"65856935392728bc7df9227859760339\", element=\"ae283ae9-7d19-4607-a397-20e70ed802a6\")>,\n",
       " <selenium.webdriver.remote.webelement.WebElement (session=\"65856935392728bc7df9227859760339\", element=\"d8223080-8959-4507-8013-589b6f5adf6c\")>]"
      ]
     },
     "execution_count": 64,
     "metadata": {},
     "output_type": "execute_result"
    }
   ],
   "source": [
    "fullreview_tags1=driver.find_elements_by_xpath(\"//div[@class='t-ZTKy']\")\n",
    "fullreview_tags1[0:4]"
   ]
  },
  {
   "cell_type": "code",
   "execution_count": 65,
   "metadata": {},
   "outputs": [
    {
     "data": {
      "text/plain": [
       "'Upgraded from iphone 6 to 11 best phone for iphone users battery is much better than other iphones camera is awesome love to use it.camera is so clear in night.'"
      ]
     },
     "execution_count": 65,
     "metadata": {},
     "output_type": "execute_result"
    }
   ],
   "source": [
    "for i in fullreview_tags1:\n",
    "    freview=i.text\n",
    "    full_review.append(freview)\n",
    "full_review[10]"
   ]
  },
  {
   "cell_type": "code",
   "execution_count": 66,
   "metadata": {},
   "outputs": [],
   "source": [
    "driver.find_element_by_xpath('//a[@class=\"_1LKTO3\"]').click()"
   ]
  },
  {
   "cell_type": "code",
   "execution_count": 67,
   "metadata": {},
   "outputs": [
    {
     "data": {
      "text/plain": [
       "[<selenium.webdriver.remote.webelement.WebElement (session=\"65856935392728bc7df9227859760339\", element=\"6fe0cf41-5032-4ecd-9833-bbf45878a7d9\")>]"
      ]
     },
     "execution_count": 67,
     "metadata": {},
     "output_type": "execute_result"
    }
   ],
   "source": [
    "rating_tags2=driver.find_elements_by_xpath(\"//div[@class='_3LWZlK _1BLPMq' or @class='_3LWZlK _1rdVr6 _1BLPMq']\") \n",
    "rating_tags2[0:1]"
   ]
  },
  {
   "cell_type": "code",
   "execution_count": 68,
   "metadata": {},
   "outputs": [
    {
     "data": {
      "text/plain": [
       "'5'"
      ]
     },
     "execution_count": 68,
     "metadata": {},
     "output_type": "execute_result"
    }
   ],
   "source": [
    "for i in rating_tags2:\n",
    "    rating=i.text\n",
    "    rating_ph.append(rating)\n",
    "rating_ph[20]"
   ]
  },
  {
   "cell_type": "code",
   "execution_count": 69,
   "metadata": {},
   "outputs": [
    {
     "data": {
      "text/plain": [
       "[<selenium.webdriver.remote.webelement.WebElement (session=\"65856935392728bc7df9227859760339\", element=\"c477e452-5836-4295-a525-d3317109c380\")>]"
      ]
     },
     "execution_count": 69,
     "metadata": {},
     "output_type": "execute_result"
    }
   ],
   "source": [
    "review_tags2=driver.find_elements_by_xpath(\"//p[@class='_2-N8zT']\")\n",
    "review_tags2[0:1]"
   ]
  },
  {
   "cell_type": "code",
   "execution_count": 70,
   "metadata": {},
   "outputs": [
    {
     "data": {
      "text/plain": [
       "'Perfect product!'"
      ]
     },
     "execution_count": 70,
     "metadata": {},
     "output_type": "execute_result"
    }
   ],
   "source": [
    "for i in review_tags2:\n",
    "    review=i.text\n",
    "    review_summary.append(review)\n",
    "review_summary[20]"
   ]
  },
  {
   "cell_type": "code",
   "execution_count": 71,
   "metadata": {},
   "outputs": [
    {
     "data": {
      "text/plain": [
       "[<selenium.webdriver.remote.webelement.WebElement (session=\"65856935392728bc7df9227859760339\", element=\"efb3ff84-9214-44b3-9d23-e8c314b0d89d\")>]"
      ]
     },
     "execution_count": 71,
     "metadata": {},
     "output_type": "execute_result"
    }
   ],
   "source": [
    "fullreview_tags2=driver.find_elements_by_xpath(\"//div[@class='t-ZTKy']\")\n",
    "fullreview_tags2[0:1]"
   ]
  },
  {
   "cell_type": "code",
   "execution_count": 72,
   "metadata": {},
   "outputs": [
    {
     "data": {
      "text/plain": [
       "'Amazing phone with great cameras and better battery which gives you the best performance. I just love the camera .'"
      ]
     },
     "execution_count": 72,
     "metadata": {},
     "output_type": "execute_result"
    }
   ],
   "source": [
    "for i in fullreview_tags2:\n",
    "    freview=i.text\n",
    "    full_review.append(freview)\n",
    "full_review[20]"
   ]
  },
  {
   "cell_type": "code",
   "execution_count": 79,
   "metadata": {},
   "outputs": [],
   "source": [
    "driver.find_element_by_xpath('//a[@class=\"_1LKTO3\" or @href=\"https://www.flipkart.com/apple-iphone-11-black-64-gb-includes-earpods-power-adapter/product-reviews/itm0f37c2240b217?pid=MOBFKCTSVZAXUHGR&lid=LSTMOBFKCTSVZAXUHGREPBFGI&marketplace=FLIPKART&page=3\"]').click()"
   ]
  },
  {
   "cell_type": "code",
   "execution_count": 80,
   "metadata": {},
   "outputs": [
    {
     "data": {
      "text/plain": [
       "[<selenium.webdriver.remote.webelement.WebElement (session=\"65856935392728bc7df9227859760339\", element=\"446deb8a-78ae-4beb-88ab-b72f63782105\")>]"
      ]
     },
     "execution_count": 80,
     "metadata": {},
     "output_type": "execute_result"
    }
   ],
   "source": [
    "rating_tags3=driver.find_elements_by_xpath(\"//div[@class='_3LWZlK _1BLPMq' or @class='_3LWZlK _1rdVr6 _1BLPMq']\") \n",
    "rating_tags3[0:1]"
   ]
  },
  {
   "cell_type": "code",
   "execution_count": 81,
   "metadata": {},
   "outputs": [
    {
     "data": {
      "text/plain": [
       "'5'"
      ]
     },
     "execution_count": 81,
     "metadata": {},
     "output_type": "execute_result"
    }
   ],
   "source": [
    "for i in rating_tags3:\n",
    "    rating=i.text\n",
    "    rating_ph.append(rating)\n",
    "rating_ph[30]"
   ]
  },
  {
   "cell_type": "code",
   "execution_count": 82,
   "metadata": {},
   "outputs": [
    {
     "data": {
      "text/plain": [
       "[<selenium.webdriver.remote.webelement.WebElement (session=\"65856935392728bc7df9227859760339\", element=\"73afa6c1-dc15-4748-bf23-da0c409c5e78\")>]"
      ]
     },
     "execution_count": 82,
     "metadata": {},
     "output_type": "execute_result"
    }
   ],
   "source": [
    "review_tags3=driver.find_elements_by_xpath(\"//p[@class='_2-N8zT']\")\n",
    "review_tags3[0:1]"
   ]
  },
  {
   "cell_type": "code",
   "execution_count": 83,
   "metadata": {},
   "outputs": [
    {
     "data": {
      "text/plain": [
       "'Brilliant'"
      ]
     },
     "execution_count": 83,
     "metadata": {},
     "output_type": "execute_result"
    }
   ],
   "source": [
    "for i in review_tags3:\n",
    "    review=i.text\n",
    "    review_summary.append(review)\n",
    "review_summary[30]"
   ]
  },
  {
   "cell_type": "code",
   "execution_count": 85,
   "metadata": {},
   "outputs": [
    {
     "data": {
      "text/plain": [
       "[<selenium.webdriver.remote.webelement.WebElement (session=\"65856935392728bc7df9227859760339\", element=\"24620428-1897-4563-817f-5e5fe2aeb6cc\")>]"
      ]
     },
     "execution_count": 85,
     "metadata": {},
     "output_type": "execute_result"
    }
   ],
   "source": [
    "fullreview_tags3=driver.find_elements_by_xpath(\"//div[@class='t-ZTKy']\")\n",
    "fullreview_tags3[0:1]"
   ]
  },
  {
   "cell_type": "code",
   "execution_count": 86,
   "metadata": {},
   "outputs": [
    {
     "data": {
      "text/plain": [
       "'The Best Phone for the Money\\n\\nThe iPhone 11 offers superb cameras, a more durable design and excellent battery life for an affordable price.\\n\\nCompelling ultra-wide camera\\nNew Night mode is excellent\\nLong battery life'"
      ]
     },
     "execution_count": 86,
     "metadata": {},
     "output_type": "execute_result"
    }
   ],
   "source": [
    "for i in fullreview_tags3:\n",
    "    freview=i.text\n",
    "    full_review.append(freview)\n",
    "full_review[30]"
   ]
  },
  {
   "cell_type": "code",
   "execution_count": 88,
   "metadata": {},
   "outputs": [],
   "source": [
    "driver.find_element_by_xpath('//a[@class=\"_1LKTO3\" or @href=\"https://www.flipkart.com/apple-iphone-11-black-64-gb-includes-earpods-power-adapter/product-reviews/itm0f37c2240b217?pid=MOBFKCTSVZAXUHGR&lid=LSTMOBFKCTSVZAXUHGREPBFGI&marketplace=FLIPKART&page=4\"]').click()"
   ]
  },
  {
   "cell_type": "code",
   "execution_count": 89,
   "metadata": {},
   "outputs": [
    {
     "data": {
      "text/plain": [
       "[<selenium.webdriver.remote.webelement.WebElement (session=\"65856935392728bc7df9227859760339\", element=\"4e82c4a3-0aed-410a-8382-1cd2816dacb7\")>]"
      ]
     },
     "execution_count": 89,
     "metadata": {},
     "output_type": "execute_result"
    }
   ],
   "source": [
    "rating_tags4=driver.find_elements_by_xpath(\"//div[@class='_3LWZlK _1BLPMq' or @class='_3LWZlK _1rdVr6 _1BLPMq']\") \n",
    "rating_tags4[0:1]"
   ]
  },
  {
   "cell_type": "code",
   "execution_count": 90,
   "metadata": {},
   "outputs": [
    {
     "data": {
      "text/plain": [
       "'5'"
      ]
     },
     "execution_count": 90,
     "metadata": {},
     "output_type": "execute_result"
    }
   ],
   "source": [
    "for i in rating_tags4:\n",
    "    rating=i.text\n",
    "    rating_ph.append(rating)\n",
    "rating_ph[40]"
   ]
  },
  {
   "cell_type": "code",
   "execution_count": 91,
   "metadata": {},
   "outputs": [
    {
     "data": {
      "text/plain": [
       "[<selenium.webdriver.remote.webelement.WebElement (session=\"65856935392728bc7df9227859760339\", element=\"db2d467c-e42f-4609-88c2-5c91864f990b\")>]"
      ]
     },
     "execution_count": 91,
     "metadata": {},
     "output_type": "execute_result"
    }
   ],
   "source": [
    "review_tags4=driver.find_elements_by_xpath(\"//p[@class='_2-N8zT']\")\n",
    "review_tags4[0:1]"
   ]
  },
  {
   "cell_type": "code",
   "execution_count": null,
   "metadata": {},
   "outputs": [],
   "source": [
    "for i in review_tags4:\n",
    "    review=i.text\n",
    "    review_summary.append(review)\n",
    "review_summary[40]"
   ]
  },
  {
   "cell_type": "code",
   "execution_count": 93,
   "metadata": {},
   "outputs": [
    {
     "data": {
      "text/plain": [
       "[<selenium.webdriver.remote.webelement.WebElement (session=\"65856935392728bc7df9227859760339\", element=\"d4a5aa3f-8475-459e-9573-c00451d90324\")>]"
      ]
     },
     "execution_count": 93,
     "metadata": {},
     "output_type": "execute_result"
    }
   ],
   "source": [
    "fullreview_tags4=driver.find_elements_by_xpath(\"//div[@class='t-ZTKy']\")\n",
    "fullreview_tags4[0:1]"
   ]
  },
  {
   "cell_type": "code",
   "execution_count": 94,
   "metadata": {},
   "outputs": [
    {
     "data": {
      "text/plain": [
       "'awesome Phone Smooth Touch Too good Sexyy looks one word Awesome'"
      ]
     },
     "execution_count": 94,
     "metadata": {},
     "output_type": "execute_result"
    }
   ],
   "source": [
    "for i in fullreview_tags4:\n",
    "    freview=i.text\n",
    "    full_review.append(freview)\n",
    "full_review[40]"
   ]
  },
  {
   "cell_type": "code",
   "execution_count": 96,
   "metadata": {},
   "outputs": [],
   "source": [
    "driver.find_element_by_xpath('//a[@class=\"_1LKTO3\"]').click()"
   ]
  },
  {
   "cell_type": "code",
   "execution_count": 97,
   "metadata": {},
   "outputs": [
    {
     "data": {
      "text/plain": [
       "[<selenium.webdriver.remote.webelement.WebElement (session=\"65856935392728bc7df9227859760339\", element=\"7e13f460-ecac-49a1-ad7c-3c05b9b43204\")>]"
      ]
     },
     "execution_count": 97,
     "metadata": {},
     "output_type": "execute_result"
    }
   ],
   "source": [
    "rating_tags5=driver.find_elements_by_xpath(\"//div[@class='_3LWZlK _1BLPMq' or @class='_3LWZlK _1rdVr6 _1BLPMq']\") \n",
    "rating_tags5[0:1]"
   ]
  },
  {
   "cell_type": "code",
   "execution_count": 98,
   "metadata": {},
   "outputs": [
    {
     "data": {
      "text/plain": [
       "'5'"
      ]
     },
     "execution_count": 98,
     "metadata": {},
     "output_type": "execute_result"
    }
   ],
   "source": [
    "for i in rating_tags5:\n",
    "    rating=i.text\n",
    "    rating_ph.append(rating)\n",
    "rating_ph[50]"
   ]
  },
  {
   "cell_type": "code",
   "execution_count": 99,
   "metadata": {},
   "outputs": [
    {
     "data": {
      "text/plain": [
       "[<selenium.webdriver.remote.webelement.WebElement (session=\"65856935392728bc7df9227859760339\", element=\"a20be8f4-2409-4842-a4d5-0a4791f43253\")>]"
      ]
     },
     "execution_count": 99,
     "metadata": {},
     "output_type": "execute_result"
    }
   ],
   "source": [
    "review_tags5=driver.find_elements_by_xpath(\"//p[@class='_2-N8zT']\")\n",
    "review_tags5[0:1]"
   ]
  },
  {
   "cell_type": "code",
   "execution_count": 101,
   "metadata": {},
   "outputs": [
    {
     "data": {
      "text/plain": [
       "'Perfect product!'"
      ]
     },
     "execution_count": 101,
     "metadata": {},
     "output_type": "execute_result"
    }
   ],
   "source": [
    "for i in review_tags5:\n",
    "    review=i.text\n",
    "    review_summary.append(review)\n",
    "review_summary[50]"
   ]
  },
  {
   "cell_type": "code",
   "execution_count": 102,
   "metadata": {},
   "outputs": [
    {
     "data": {
      "text/plain": [
       "[<selenium.webdriver.remote.webelement.WebElement (session=\"65856935392728bc7df9227859760339\", element=\"d82cf927-ba12-4fc9-baca-afb636d696dc\")>]"
      ]
     },
     "execution_count": 102,
     "metadata": {},
     "output_type": "execute_result"
    }
   ],
   "source": [
    "fullreview_tags5=driver.find_elements_by_xpath(\"//div[@class='t-ZTKy']\")\n",
    "fullreview_tags5[0:1]"
   ]
  },
  {
   "cell_type": "code",
   "execution_count": 103,
   "metadata": {},
   "outputs": [
    {
     "data": {
      "text/plain": [
       "'awesome Phone Smooth Touch Too good Sexyy looks one word Awesome'"
      ]
     },
     "execution_count": 103,
     "metadata": {},
     "output_type": "execute_result"
    }
   ],
   "source": [
    "for i in fullreview_tags5:\n",
    "    freview=i.text\n",
    "    full_review.append(freview)\n",
    "full_review[40]"
   ]
  },
  {
   "cell_type": "code",
   "execution_count": 104,
   "metadata": {},
   "outputs": [],
   "source": [
    "driver.find_element_by_xpath('//a[@class=\"_1LKTO3\"]').click()"
   ]
  },
  {
   "cell_type": "code",
   "execution_count": 105,
   "metadata": {},
   "outputs": [
    {
     "data": {
      "text/plain": [
       "[<selenium.webdriver.remote.webelement.WebElement (session=\"65856935392728bc7df9227859760339\", element=\"eb33d23a-dc90-4c24-a9bd-736960b8d0e4\")>]"
      ]
     },
     "execution_count": 105,
     "metadata": {},
     "output_type": "execute_result"
    }
   ],
   "source": [
    "rating_tags6=driver.find_elements_by_xpath(\"//div[@class='_3LWZlK _1BLPMq' or @class='_3LWZlK _1rdVr6 _1BLPMq']\") \n",
    "rating_tags6[0:1]"
   ]
  },
  {
   "cell_type": "code",
   "execution_count": 106,
   "metadata": {},
   "outputs": [
    {
     "data": {
      "text/plain": [
       "'5'"
      ]
     },
     "execution_count": 106,
     "metadata": {},
     "output_type": "execute_result"
    }
   ],
   "source": [
    "for i in rating_tags6:\n",
    "    rating=i.text\n",
    "    rating_ph.append(rating)\n",
    "rating_ph[60]"
   ]
  },
  {
   "cell_type": "code",
   "execution_count": 107,
   "metadata": {},
   "outputs": [
    {
     "data": {
      "text/plain": [
       "[<selenium.webdriver.remote.webelement.WebElement (session=\"65856935392728bc7df9227859760339\", element=\"48a0c3df-b930-4fe9-85be-7daf13546d13\")>]"
      ]
     },
     "execution_count": 107,
     "metadata": {},
     "output_type": "execute_result"
    }
   ],
   "source": [
    "review_tags6=driver.find_elements_by_xpath(\"//p[@class='_2-N8zT']\")\n",
    "review_tags6[0:1]"
   ]
  },
  {
   "cell_type": "code",
   "execution_count": 108,
   "metadata": {},
   "outputs": [
    {
     "data": {
      "text/plain": [
       "'Fabulous!'"
      ]
     },
     "execution_count": 108,
     "metadata": {},
     "output_type": "execute_result"
    }
   ],
   "source": [
    "for i in review_tags6:\n",
    "    review=i.text\n",
    "    review_summary.append(review)\n",
    "review_summary[60]"
   ]
  },
  {
   "cell_type": "code",
   "execution_count": 109,
   "metadata": {},
   "outputs": [
    {
     "data": {
      "text/plain": [
       "[<selenium.webdriver.remote.webelement.WebElement (session=\"65856935392728bc7df9227859760339\", element=\"37de564c-0345-481d-89e9-3567b8045a6b\")>]"
      ]
     },
     "execution_count": 109,
     "metadata": {},
     "output_type": "execute_result"
    }
   ],
   "source": [
    "fullreview_tags6=driver.find_elements_by_xpath(\"//div[@class='t-ZTKy']\")\n",
    "fullreview_tags6[0:1]"
   ]
  },
  {
   "cell_type": "code",
   "execution_count": 110,
   "metadata": {},
   "outputs": [
    {
     "data": {
      "text/plain": [
       "'I really liked the budget iPhone. First I thought display would be issue as it is a LCD with less pixels, then after using my perception changed and I never felt like I am using an outdated display. Though I also use S 10+ with Amoled display.\\n\\nSo this is perfect iPhone and a real value for money.'"
      ]
     },
     "execution_count": 110,
     "metadata": {},
     "output_type": "execute_result"
    }
   ],
   "source": [
    "for i in fullreview_tags6:\n",
    "    freview=i.text\n",
    "    full_review.append(freview)\n",
    "full_review[60]"
   ]
  },
  {
   "cell_type": "code",
   "execution_count": 111,
   "metadata": {},
   "outputs": [],
   "source": [
    "driver.find_element_by_xpath('//a[@class=\"_1LKTO3\"]').click()"
   ]
  },
  {
   "cell_type": "code",
   "execution_count": 112,
   "metadata": {},
   "outputs": [
    {
     "data": {
      "text/plain": [
       "[<selenium.webdriver.remote.webelement.WebElement (session=\"65856935392728bc7df9227859760339\", element=\"df3e931f-55b1-43b3-b737-df205b3dc0d5\")>]"
      ]
     },
     "execution_count": 112,
     "metadata": {},
     "output_type": "execute_result"
    }
   ],
   "source": [
    "rating_tags7=driver.find_elements_by_xpath(\"//div[@class='_3LWZlK _1BLPMq' or @class='_3LWZlK _1rdVr6 _1BLPMq']\") \n",
    "rating_tags7[0:1]"
   ]
  },
  {
   "cell_type": "code",
   "execution_count": 113,
   "metadata": {},
   "outputs": [
    {
     "data": {
      "text/plain": [
       "'5'"
      ]
     },
     "execution_count": 113,
     "metadata": {},
     "output_type": "execute_result"
    }
   ],
   "source": [
    "for i in rating_tags7:\n",
    "    rating=i.text\n",
    "    rating_ph.append(rating)\n",
    "rating_ph[70]"
   ]
  },
  {
   "cell_type": "code",
   "execution_count": 114,
   "metadata": {},
   "outputs": [
    {
     "data": {
      "text/plain": [
       "[<selenium.webdriver.remote.webelement.WebElement (session=\"65856935392728bc7df9227859760339\", element=\"75d9e552-41ea-4649-896d-236122944200\")>]"
      ]
     },
     "execution_count": 114,
     "metadata": {},
     "output_type": "execute_result"
    }
   ],
   "source": [
    "review_tags7=driver.find_elements_by_xpath(\"//p[@class='_2-N8zT']\")\n",
    "review_tags7[0:1]"
   ]
  },
  {
   "cell_type": "code",
   "execution_count": 115,
   "metadata": {},
   "outputs": [
    {
     "data": {
      "text/plain": [
       "'Terrific'"
      ]
     },
     "execution_count": 115,
     "metadata": {},
     "output_type": "execute_result"
    }
   ],
   "source": [
    "for i in review_tags7:\n",
    "    review=i.text\n",
    "    review_summary.append(review)\n",
    "review_summary[70]"
   ]
  },
  {
   "cell_type": "code",
   "execution_count": 116,
   "metadata": {},
   "outputs": [
    {
     "data": {
      "text/plain": [
       "[<selenium.webdriver.remote.webelement.WebElement (session=\"65856935392728bc7df9227859760339\", element=\"ef61bae8-19cd-43d4-b129-75aaea9d9db1\")>]"
      ]
     },
     "execution_count": 116,
     "metadata": {},
     "output_type": "execute_result"
    }
   ],
   "source": [
    "fullreview_tags7=driver.find_elements_by_xpath(\"//div[@class='t-ZTKy']\")\n",
    "fullreview_tags7[0:1]"
   ]
  },
  {
   "cell_type": "code",
   "execution_count": 117,
   "metadata": {},
   "outputs": [
    {
     "data": {
      "text/plain": [
       "'This is very nice phone with great camera, performance, battery but their display is not good as their price overall best iphone to purchase right now'"
      ]
     },
     "execution_count": 117,
     "metadata": {},
     "output_type": "execute_result"
    }
   ],
   "source": [
    "for i in fullreview_tags7:\n",
    "    freview=i.text\n",
    "    full_review.append(freview)\n",
    "full_review[70]"
   ]
  },
  {
   "cell_type": "code",
   "execution_count": 118,
   "metadata": {},
   "outputs": [],
   "source": [
    "driver.find_element_by_xpath('//a[@class=\"_1LKTO3\"]').click()"
   ]
  },
  {
   "cell_type": "code",
   "execution_count": 119,
   "metadata": {},
   "outputs": [
    {
     "data": {
      "text/plain": [
       "[<selenium.webdriver.remote.webelement.WebElement (session=\"65856935392728bc7df9227859760339\", element=\"a03a9a11-e35d-49e3-9f7e-ae6b613dfa00\")>]"
      ]
     },
     "execution_count": 119,
     "metadata": {},
     "output_type": "execute_result"
    }
   ],
   "source": [
    "rating_tags8=driver.find_elements_by_xpath(\"//div[@class='_3LWZlK _1BLPMq' or @class='_3LWZlK _1rdVr6 _1BLPMq']\") \n",
    "rating_tags8[0:1]"
   ]
  },
  {
   "cell_type": "code",
   "execution_count": 120,
   "metadata": {},
   "outputs": [
    {
     "data": {
      "text/plain": [
       "'5'"
      ]
     },
     "execution_count": 120,
     "metadata": {},
     "output_type": "execute_result"
    }
   ],
   "source": [
    "for i in rating_tags8:\n",
    "    rating=i.text\n",
    "    rating_ph.append(rating)\n",
    "rating_ph[80]"
   ]
  },
  {
   "cell_type": "code",
   "execution_count": 121,
   "metadata": {},
   "outputs": [
    {
     "data": {
      "text/plain": [
       "[<selenium.webdriver.remote.webelement.WebElement (session=\"65856935392728bc7df9227859760339\", element=\"6af19358-f345-4393-9a45-ea44e056c24b\")>]"
      ]
     },
     "execution_count": 121,
     "metadata": {},
     "output_type": "execute_result"
    }
   ],
   "source": [
    "review_tags8=driver.find_elements_by_xpath(\"//p[@class='_2-N8zT']\")\n",
    "review_tags8[0:1]"
   ]
  },
  {
   "cell_type": "code",
   "execution_count": 122,
   "metadata": {},
   "outputs": [
    {
     "data": {
      "text/plain": [
       "'Super!'"
      ]
     },
     "execution_count": 122,
     "metadata": {},
     "output_type": "execute_result"
    }
   ],
   "source": [
    "for i in review_tags8:\n",
    "    review=i.text\n",
    "    review_summary.append(review)\n",
    "review_summary[80]"
   ]
  },
  {
   "cell_type": "code",
   "execution_count": 123,
   "metadata": {},
   "outputs": [
    {
     "data": {
      "text/plain": [
       "[<selenium.webdriver.remote.webelement.WebElement (session=\"65856935392728bc7df9227859760339\", element=\"f032003f-3368-4876-ace5-e1e2d9f02d0f\")>]"
      ]
     },
     "execution_count": 123,
     "metadata": {},
     "output_type": "execute_result"
    }
   ],
   "source": [
    "fullreview_tags8=driver.find_elements_by_xpath(\"//div[@class='t-ZTKy']\")\n",
    "fullreview_tags8[0:1]"
   ]
  },
  {
   "cell_type": "code",
   "execution_count": 124,
   "metadata": {},
   "outputs": [
    {
     "data": {
      "text/plain": [
       "'Everything good as expected from Apple, but only thing thing missing is the 18w power adapter, because if the phone is compatible for fast charging and it takes more than 3 hours for full charge on a normal charger then it should come bundled with the 18w adapter.'"
      ]
     },
     "execution_count": 124,
     "metadata": {},
     "output_type": "execute_result"
    }
   ],
   "source": [
    "for i in fullreview_tags8:\n",
    "    freview=i.text\n",
    "    full_review.append(freview)\n",
    "full_review[80]"
   ]
  },
  {
   "cell_type": "code",
   "execution_count": 125,
   "metadata": {},
   "outputs": [],
   "source": [
    "driver.find_element_by_xpath('//a[@class=\"_1LKTO3\"]').click()"
   ]
  },
  {
   "cell_type": "code",
   "execution_count": 126,
   "metadata": {},
   "outputs": [
    {
     "data": {
      "text/plain": [
       "[<selenium.webdriver.remote.webelement.WebElement (session=\"65856935392728bc7df9227859760339\", element=\"a1f56ca1-fd4f-4748-8efd-716e07f8c0ba\")>]"
      ]
     },
     "execution_count": 126,
     "metadata": {},
     "output_type": "execute_result"
    }
   ],
   "source": [
    "rating_tags9=driver.find_elements_by_xpath(\"//div[@class='_3LWZlK _1BLPMq' or @class='_3LWZlK _1rdVr6 _1BLPMq']\") \n",
    "rating_tags9[0:1]"
   ]
  },
  {
   "cell_type": "code",
   "execution_count": 127,
   "metadata": {},
   "outputs": [
    {
     "data": {
      "text/plain": [
       "'5'"
      ]
     },
     "execution_count": 127,
     "metadata": {},
     "output_type": "execute_result"
    }
   ],
   "source": [
    "for i in rating_tags9:\n",
    "    rating=i.text\n",
    "    rating_ph.append(rating)\n",
    "rating_ph[90]"
   ]
  },
  {
   "cell_type": "code",
   "execution_count": 128,
   "metadata": {},
   "outputs": [
    {
     "data": {
      "text/plain": [
       "[<selenium.webdriver.remote.webelement.WebElement (session=\"65856935392728bc7df9227859760339\", element=\"6fe40c8b-b538-46c9-924e-f73c77b9e8b7\")>]"
      ]
     },
     "execution_count": 128,
     "metadata": {},
     "output_type": "execute_result"
    }
   ],
   "source": [
    "review_tags9=driver.find_elements_by_xpath(\"//p[@class='_2-N8zT']\")\n",
    "review_tags9[0:1]"
   ]
  },
  {
   "cell_type": "code",
   "execution_count": 129,
   "metadata": {},
   "outputs": [
    {
     "data": {
      "text/plain": [
       "'Mind-blowing purchase'"
      ]
     },
     "execution_count": 129,
     "metadata": {},
     "output_type": "execute_result"
    }
   ],
   "source": [
    "for i in review_tags9:\n",
    "    review=i.text\n",
    "    review_summary.append(review)\n",
    "review_summary[90]"
   ]
  },
  {
   "cell_type": "code",
   "execution_count": 130,
   "metadata": {},
   "outputs": [
    {
     "data": {
      "text/plain": [
       "[<selenium.webdriver.remote.webelement.WebElement (session=\"65856935392728bc7df9227859760339\", element=\"cd93cf3a-1830-4fc5-aeea-b4edf88444ec\")>]"
      ]
     },
     "execution_count": 130,
     "metadata": {},
     "output_type": "execute_result"
    }
   ],
   "source": [
    "fullreview_tags9=driver.find_elements_by_xpath(\"//div[@class='t-ZTKy']\")\n",
    "fullreview_tags9[0:1]"
   ]
  },
  {
   "cell_type": "code",
   "execution_count": 131,
   "metadata": {},
   "outputs": [
    {
     "data": {
      "text/plain": [
       "'Everything good as expected from Apple, but only thing thing missing is the 18w power adapter, because if the phone is compatible for fast charging and it takes more than 3 hours for full charge on a normal charger then it should come bundled with the 18w adapter.'"
      ]
     },
     "execution_count": 131,
     "metadata": {},
     "output_type": "execute_result"
    }
   ],
   "source": [
    "for i in fullreview_tags9:\n",
    "    freview=i.text\n",
    "    full_review.append(freview)\n",
    "full_review[80]"
   ]
  },
  {
   "cell_type": "code",
   "execution_count": 132,
   "metadata": {},
   "outputs": [
    {
     "data": {
      "text/html": [
       "<div>\n",
       "<style scoped>\n",
       "    .dataframe tbody tr th:only-of-type {\n",
       "        vertical-align: middle;\n",
       "    }\n",
       "\n",
       "    .dataframe tbody tr th {\n",
       "        vertical-align: top;\n",
       "    }\n",
       "\n",
       "    .dataframe thead th {\n",
       "        text-align: right;\n",
       "    }\n",
       "</style>\n",
       "<table border=\"1\" class=\"dataframe\">\n",
       "  <thead>\n",
       "    <tr style=\"text-align: right;\">\n",
       "      <th></th>\n",
       "      <th>Rating</th>\n",
       "      <th>Review Summary</th>\n",
       "      <th>Full review</th>\n",
       "    </tr>\n",
       "  </thead>\n",
       "  <tbody>\n",
       "    <tr>\n",
       "      <th>0</th>\n",
       "      <td>5</td>\n",
       "      <td>Perfect product!</td>\n",
       "      <td>Amazing phone with great cameras and better ba...</td>\n",
       "    </tr>\n",
       "    <tr>\n",
       "      <th>1</th>\n",
       "      <td>5</td>\n",
       "      <td>Great product</td>\n",
       "      <td>Amazing Powerful and Durable Gadget.\\n\\nI’m am...</td>\n",
       "    </tr>\n",
       "    <tr>\n",
       "      <th>2</th>\n",
       "      <td>5</td>\n",
       "      <td>Perfect product!</td>\n",
       "      <td>It’s a must buy who is looking for an upgrade ...</td>\n",
       "    </tr>\n",
       "    <tr>\n",
       "      <th>3</th>\n",
       "      <td>5</td>\n",
       "      <td>Highly recommended</td>\n",
       "      <td>iphone 11 is a very good phone to buy only if ...</td>\n",
       "    </tr>\n",
       "    <tr>\n",
       "      <th>4</th>\n",
       "      <td>5</td>\n",
       "      <td>Perfect product!</td>\n",
       "      <td>Value for money❤️❤️\\nIts awesome mobile phone ...</td>\n",
       "    </tr>\n",
       "    <tr>\n",
       "      <th>...</th>\n",
       "      <td>...</td>\n",
       "      <td>...</td>\n",
       "      <td>...</td>\n",
       "    </tr>\n",
       "    <tr>\n",
       "      <th>95</th>\n",
       "      <td>5</td>\n",
       "      <td>Excellent</td>\n",
       "      <td>Seller - SuperComNet ( my trust in you has gro...</td>\n",
       "    </tr>\n",
       "    <tr>\n",
       "      <th>96</th>\n",
       "      <td>5</td>\n",
       "      <td>Perfect product!</td>\n",
       "      <td>In love with this iphone great performance,cam...</td>\n",
       "    </tr>\n",
       "    <tr>\n",
       "      <th>97</th>\n",
       "      <td>5</td>\n",
       "      <td>Super!</td>\n",
       "      <td>It's a great phone. From camera to display eve...</td>\n",
       "    </tr>\n",
       "    <tr>\n",
       "      <th>98</th>\n",
       "      <td>5</td>\n",
       "      <td>Fabulous!</td>\n",
       "      <td>Iphone is best ever but Flipkart delivered is ...</td>\n",
       "    </tr>\n",
       "    <tr>\n",
       "      <th>99</th>\n",
       "      <td>5</td>\n",
       "      <td>Fabulous!</td>\n",
       "      <td>I have been using android from last 9 years an...</td>\n",
       "    </tr>\n",
       "  </tbody>\n",
       "</table>\n",
       "<p>100 rows × 3 columns</p>\n",
       "</div>"
      ],
      "text/plain": [
       "   Rating      Review Summary  \\\n",
       "0       5    Perfect product!   \n",
       "1       5       Great product   \n",
       "2       5    Perfect product!   \n",
       "3       5  Highly recommended   \n",
       "4       5    Perfect product!   \n",
       "..    ...                 ...   \n",
       "95      5           Excellent   \n",
       "96      5    Perfect product!   \n",
       "97      5              Super!   \n",
       "98      5           Fabulous!   \n",
       "99      5           Fabulous!   \n",
       "\n",
       "                                          Full review  \n",
       "0   Amazing phone with great cameras and better ba...  \n",
       "1   Amazing Powerful and Durable Gadget.\\n\\nI’m am...  \n",
       "2   It’s a must buy who is looking for an upgrade ...  \n",
       "3   iphone 11 is a very good phone to buy only if ...  \n",
       "4   Value for money❤️❤️\\nIts awesome mobile phone ...  \n",
       "..                                                ...  \n",
       "95  Seller - SuperComNet ( my trust in you has gro...  \n",
       "96  In love with this iphone great performance,cam...  \n",
       "97  It's a great phone. From camera to display eve...  \n",
       "98  Iphone is best ever but Flipkart delivered is ...  \n",
       "99  I have been using android from last 9 years an...  \n",
       "\n",
       "[100 rows x 3 columns]"
      ]
     },
     "execution_count": 132,
     "metadata": {},
     "output_type": "execute_result"
    }
   ],
   "source": [
    "import pandas as pd\n",
    "mobilereview=pd.DataFrame({})\n",
    "mobilereview['Rating']=rating_ph[0:100]\n",
    "mobilereview['Review Summary']=review_summary[0:100]\n",
    "mobilereview['Full review']=full_review[0:100]\n",
    "mobilereview"
   ]
  },
  {
   "cell_type": "code",
   "execution_count": 155,
   "metadata": {},
   "outputs": [],
   "source": [
    "driver.close()"
   ]
  },
  {
   "cell_type": "markdown",
   "metadata": {},
   "source": [
    "# 8"
   ]
  },
  {
   "cell_type": "code",
   "execution_count": 156,
   "metadata": {},
   "outputs": [],
   "source": [
    "driver=webdriver.Edge(r\"C:\\Users\\srinj\\OneDrive\\Documents\\EGDownloads\\edgedriver_win64\\msedgedriver.exe\")"
   ]
  },
  {
   "cell_type": "code",
   "execution_count": 157,
   "metadata": {},
   "outputs": [],
   "source": [
    "url=\"https://www.flipkart.com/\""
   ]
  },
  {
   "cell_type": "code",
   "execution_count": 159,
   "metadata": {},
   "outputs": [],
   "source": [
    "driver.get(url)"
   ]
  },
  {
   "cell_type": "code",
   "execution_count": 160,
   "metadata": {},
   "outputs": [],
   "source": [
    "driver.find_element_by_xpath('//input[@class=\"_3704LK\"]').send_keys('sneakers')"
   ]
  },
  {
   "cell_type": "code",
   "execution_count": 161,
   "metadata": {},
   "outputs": [],
   "source": [
    "driver.find_element_by_xpath('//button[@class=\"L0Z3Pu\"]').click()"
   ]
  },
  {
   "cell_type": "code",
   "execution_count": 162,
   "metadata": {},
   "outputs": [],
   "source": [
    "brand_name=[]\n",
    "product_desc=[]\n",
    "price_rs=[]\n",
    "discount_rate=[]"
   ]
  },
  {
   "cell_type": "code",
   "execution_count": 163,
   "metadata": {},
   "outputs": [
    {
     "data": {
      "text/plain": [
       "[<selenium.webdriver.remote.webelement.WebElement (session=\"a1e6ed81a797ce1f50965697ed4b263b\", element=\"847121d9-30b2-42a0-978a-e6d87100a7e7\")>]"
      ]
     },
     "execution_count": 163,
     "metadata": {},
     "output_type": "execute_result"
    }
   ],
   "source": [
    "brand_tags=driver.find_elements_by_xpath(\"//div[@class='_2WkVRV']\")\n",
    "brand_tags[0:1]"
   ]
  },
  {
   "cell_type": "code",
   "execution_count": 164,
   "metadata": {},
   "outputs": [
    {
     "data": {
      "text/plain": [
       "['TR', 'Kraasa']"
      ]
     },
     "execution_count": 164,
     "metadata": {},
     "output_type": "execute_result"
    }
   ],
   "source": [
    "for i in brand_tags:\n",
    "    brand=i.text\n",
    "    brand_name.append(brand)\n",
    "brand_name[0:2]"
   ]
  },
  {
   "cell_type": "code",
   "execution_count": 165,
   "metadata": {},
   "outputs": [
    {
     "data": {
      "text/plain": [
       "[<selenium.webdriver.remote.webelement.WebElement (session=\"a1e6ed81a797ce1f50965697ed4b263b\", element=\"c4c9dbb7-ab73-4c2d-b5b5-d499004efb54\")>,\n",
       " <selenium.webdriver.remote.webelement.WebElement (session=\"a1e6ed81a797ce1f50965697ed4b263b\", element=\"95a323a2-2234-4089-bc57-c9eb03615eee\")>]"
      ]
     },
     "execution_count": 165,
     "metadata": {},
     "output_type": "execute_result"
    }
   ],
   "source": [
    "product_tags=driver.find_elements_by_xpath(\"//a[@class='IRpwTa _2-ICcC' or @class='IRpwTa']\")\n",
    "product_tags[0:2]"
   ]
  },
  {
   "cell_type": "code",
   "execution_count": 166,
   "metadata": {},
   "outputs": [
    {
     "data": {
      "text/plain": [
       "['Sneakers For Men',\n",
       " 'Knitted Socks Casuals Sneakers For Men',\n",
       " 'Combo Pack of 4 Casual Sneakers With Sneakers For Men',\n",
       " '171 Smart Tan Lace-Ups Casuals for Men Sneakers For Men']"
      ]
     },
     "execution_count": 166,
     "metadata": {},
     "output_type": "execute_result"
    }
   ],
   "source": [
    "for i in product_tags:\n",
    "    product=i.text\n",
    "    product_desc.append(product)\n",
    "product_desc[0:4]"
   ]
  },
  {
   "cell_type": "code",
   "execution_count": 167,
   "metadata": {},
   "outputs": [
    {
     "data": {
      "text/plain": [
       "[<selenium.webdriver.remote.webelement.WebElement (session=\"a1e6ed81a797ce1f50965697ed4b263b\", element=\"fc51177b-46ca-4a7e-b4e4-92aab6d876ef\")>,\n",
       " <selenium.webdriver.remote.webelement.WebElement (session=\"a1e6ed81a797ce1f50965697ed4b263b\", element=\"bdedad6c-f94f-46cf-aa4e-39f730105ec7\")>,\n",
       " <selenium.webdriver.remote.webelement.WebElement (session=\"a1e6ed81a797ce1f50965697ed4b263b\", element=\"a839cecb-8d65-4082-9fd2-d3a097515252\")>,\n",
       " <selenium.webdriver.remote.webelement.WebElement (session=\"a1e6ed81a797ce1f50965697ed4b263b\", element=\"267f9c76-9faf-47a9-8ba7-9514a9fae58a\")>]"
      ]
     },
     "execution_count": 167,
     "metadata": {},
     "output_type": "execute_result"
    }
   ],
   "source": [
    "price_tags=driver.find_elements_by_xpath(\"//div[@class='_30jeq3']\")\n",
    "price_tags[0:4]"
   ]
  },
  {
   "cell_type": "code",
   "execution_count": 168,
   "metadata": {},
   "outputs": [
    {
     "data": {
      "text/plain": [
       "['₹449', '₹499']"
      ]
     },
     "execution_count": 168,
     "metadata": {},
     "output_type": "execute_result"
    }
   ],
   "source": [
    "for i in price_tags:\n",
    "    price=i.text\n",
    "    price_rs.append(price)\n",
    "price_rs[0:2]"
   ]
  },
  {
   "cell_type": "code",
   "execution_count": 169,
   "metadata": {},
   "outputs": [
    {
     "data": {
      "text/plain": [
       "[<selenium.webdriver.remote.webelement.WebElement (session=\"a1e6ed81a797ce1f50965697ed4b263b\", element=\"378a175c-c26a-4cd6-918c-69a9ef8b5031\")>,\n",
       " <selenium.webdriver.remote.webelement.WebElement (session=\"a1e6ed81a797ce1f50965697ed4b263b\", element=\"8ec81665-6c8b-46a7-ae47-1f3333b7f47a\")>,\n",
       " <selenium.webdriver.remote.webelement.WebElement (session=\"a1e6ed81a797ce1f50965697ed4b263b\", element=\"a66b9003-f11f-4df2-b2a7-d7209c7ff62b\")>,\n",
       " <selenium.webdriver.remote.webelement.WebElement (session=\"a1e6ed81a797ce1f50965697ed4b263b\", element=\"dd5d2c1f-9a9e-4000-a3f5-fc911d23129b\")>]"
      ]
     },
     "execution_count": 169,
     "metadata": {},
     "output_type": "execute_result"
    }
   ],
   "source": [
    "discount_tags=driver.find_elements_by_xpath(\"//div[@class='_3Ay6Sb']\")\n",
    "discount_tags[0:4]"
   ]
  },
  {
   "cell_type": "code",
   "execution_count": 170,
   "metadata": {},
   "outputs": [
    {
     "data": {
      "text/plain": [
       "['77% off', '50% off', '70% off', '45% off']"
      ]
     },
     "execution_count": 170,
     "metadata": {},
     "output_type": "execute_result"
    }
   ],
   "source": [
    "for i in discount_tags:\n",
    "    discount=i.text\n",
    "    discount_rate.append(discount)\n",
    "discount_rate[0:4]"
   ]
  },
  {
   "cell_type": "code",
   "execution_count": 171,
   "metadata": {},
   "outputs": [],
   "source": [
    "driver.find_element_by_xpath('//a[@class=\"_1LKTO3\"]').click()"
   ]
  },
  {
   "cell_type": "code",
   "execution_count": 172,
   "metadata": {},
   "outputs": [
    {
     "data": {
      "text/plain": [
       "[<selenium.webdriver.remote.webelement.WebElement (session=\"a1e6ed81a797ce1f50965697ed4b263b\", element=\"99304c44-a066-4e45-aa7e-cd0595b8bac4\")>]"
      ]
     },
     "execution_count": 172,
     "metadata": {},
     "output_type": "execute_result"
    }
   ],
   "source": [
    "brand_tags1=driver.find_elements_by_xpath(\"//div[@class='_2WkVRV']\")\n",
    "brand_tags1[0:1]"
   ]
  },
  {
   "cell_type": "code",
   "execution_count": 173,
   "metadata": {},
   "outputs": [],
   "source": [
    "for i in brand_tags1:\n",
    "    brand=i.text\n",
    "    brand_name.append(brand)"
   ]
  },
  {
   "cell_type": "code",
   "execution_count": 174,
   "metadata": {},
   "outputs": [
    {
     "data": {
      "text/plain": [
       "'Birde'"
      ]
     },
     "execution_count": 174,
     "metadata": {},
     "output_type": "execute_result"
    }
   ],
   "source": [
    "brand_name[40]"
   ]
  },
  {
   "cell_type": "code",
   "execution_count": 175,
   "metadata": {},
   "outputs": [
    {
     "data": {
      "text/plain": [
       "[<selenium.webdriver.remote.webelement.WebElement (session=\"a1e6ed81a797ce1f50965697ed4b263b\", element=\"98649f9b-f0d0-4803-9881-f93e4a590c55\")>,\n",
       " <selenium.webdriver.remote.webelement.WebElement (session=\"a1e6ed81a797ce1f50965697ed4b263b\", element=\"a797de03-16c2-4142-9fdd-701fe3500d64\")>]"
      ]
     },
     "execution_count": 175,
     "metadata": {},
     "output_type": "execute_result"
    }
   ],
   "source": [
    "product_tags1=driver.find_elements_by_xpath(\"//a[@class='IRpwTa _2-ICcC' or @class='IRpwTa']\")\n",
    "product_tags1[0:2]"
   ]
  },
  {
   "cell_type": "code",
   "execution_count": 176,
   "metadata": {},
   "outputs": [
    {
     "data": {
      "text/plain": [
       "'Combo Pack of 2 Casual Shoes Sneakers For Men'"
      ]
     },
     "execution_count": 176,
     "metadata": {},
     "output_type": "execute_result"
    }
   ],
   "source": [
    "for i in product_tags1:\n",
    "    product=i.text\n",
    "    product_desc.append(product)\n",
    "product_desc[40]"
   ]
  },
  {
   "cell_type": "code",
   "execution_count": 177,
   "metadata": {},
   "outputs": [
    {
     "data": {
      "text/plain": [
       "[<selenium.webdriver.remote.webelement.WebElement (session=\"a1e6ed81a797ce1f50965697ed4b263b\", element=\"2e2c5256-09ba-40bd-8f67-1496e20551d7\")>,\n",
       " <selenium.webdriver.remote.webelement.WebElement (session=\"a1e6ed81a797ce1f50965697ed4b263b\", element=\"3b0e23ba-0b13-4f43-84c3-ac66495a8cad\")>]"
      ]
     },
     "execution_count": 177,
     "metadata": {},
     "output_type": "execute_result"
    }
   ],
   "source": [
    "price_tags1=driver.find_elements_by_xpath(\"//div[@class='_30jeq3']\")\n",
    "price_tags1[0:2]"
   ]
  },
  {
   "cell_type": "code",
   "execution_count": 178,
   "metadata": {},
   "outputs": [
    {
     "data": {
      "text/plain": [
       "['₹449', '₹499', '₹579', '₹273']"
      ]
     },
     "execution_count": 178,
     "metadata": {},
     "output_type": "execute_result"
    }
   ],
   "source": [
    "for i in price_tags1:\n",
    "    price=i.text\n",
    "    price_rs.append(price)"
   ]
  },
  {
   "cell_type": "code",
   "execution_count": 179,
   "metadata": {},
   "outputs": [
    {
     "data": {
      "text/plain": [
       "'₹569'"
      ]
     },
     "execution_count": 179,
     "metadata": {},
     "output_type": "execute_result"
    }
   ],
   "source": [
    "price_rs[40]"
   ]
  },
  {
   "cell_type": "code",
   "execution_count": 180,
   "metadata": {},
   "outputs": [
    {
     "data": {
      "text/plain": [
       "[<selenium.webdriver.remote.webelement.WebElement (session=\"a1e6ed81a797ce1f50965697ed4b263b\", element=\"7f7c66ca-8623-42d7-abe1-f88d489bd54b\")>,\n",
       " <selenium.webdriver.remote.webelement.WebElement (session=\"a1e6ed81a797ce1f50965697ed4b263b\", element=\"17ead22f-c335-4366-90b2-a0abd6c7f17c\")>]"
      ]
     },
     "execution_count": 180,
     "metadata": {},
     "output_type": "execute_result"
    }
   ],
   "source": [
    "discount_tags1=driver.find_elements_by_xpath(\"//div[@class='_3Ay6Sb']\")\n",
    "discount_tags1[0:2]"
   ]
  },
  {
   "cell_type": "code",
   "execution_count": 181,
   "metadata": {},
   "outputs": [
    {
     "data": {
      "text/plain": [
       "'43% off'"
      ]
     },
     "execution_count": 181,
     "metadata": {},
     "output_type": "execute_result"
    }
   ],
   "source": [
    "for i in discount_tags1:\n",
    "    discount=i.text\n",
    "    discount_rate.append(discount)\n",
    "discount_rate[40]"
   ]
  },
  {
   "cell_type": "code",
   "execution_count": 182,
   "metadata": {},
   "outputs": [],
   "source": [
    "driver.find_element_by_xpath('//a[@class=\"_1LKTO3\"]').click()"
   ]
  },
  {
   "cell_type": "code",
   "execution_count": 183,
   "metadata": {},
   "outputs": [
    {
     "data": {
      "text/plain": [
       "[<selenium.webdriver.remote.webelement.WebElement (session=\"a1e6ed81a797ce1f50965697ed4b263b\", element=\"d79428c5-3726-4318-ac7e-af07058dd393\")>]"
      ]
     },
     "execution_count": 183,
     "metadata": {},
     "output_type": "execute_result"
    }
   ],
   "source": [
    "brand_tags2=driver.find_elements_by_xpath(\"//div[@class='_2WkVRV']\")\n",
    "brand_tags2[0:1]"
   ]
  },
  {
   "cell_type": "code",
   "execution_count": 184,
   "metadata": {},
   "outputs": [
    {
     "data": {
      "text/plain": [
       "'Claptrap'"
      ]
     },
     "execution_count": 184,
     "metadata": {},
     "output_type": "execute_result"
    }
   ],
   "source": [
    "for i in brand_tags2:\n",
    "    brand=i.text\n",
    "    brand_name.append(brand)\n",
    "brand_name[80]"
   ]
  },
  {
   "cell_type": "code",
   "execution_count": 185,
   "metadata": {},
   "outputs": [
    {
     "data": {
      "text/plain": [
       "[<selenium.webdriver.remote.webelement.WebElement (session=\"a1e6ed81a797ce1f50965697ed4b263b\", element=\"78dd9318-531d-425e-acb3-590dde4809c5\")>,\n",
       " <selenium.webdriver.remote.webelement.WebElement (session=\"a1e6ed81a797ce1f50965697ed4b263b\", element=\"a42ae2a6-1385-4c14-9b3f-67832b69aa64\")>]"
      ]
     },
     "execution_count": 185,
     "metadata": {},
     "output_type": "execute_result"
    }
   ],
   "source": [
    "product_tags2=driver.find_elements_by_xpath(\"//a[@class='IRpwTa _2-ICcC' or @class='IRpwTa']\")\n",
    "product_tags2[0:2]"
   ]
  },
  {
   "cell_type": "code",
   "execution_count": 186,
   "metadata": {},
   "outputs": [
    {
     "data": {
      "text/plain": [
       "'Mesh Walking Casual Sneakers Shoes for Men And Boys Sne...'"
      ]
     },
     "execution_count": 186,
     "metadata": {},
     "output_type": "execute_result"
    }
   ],
   "source": [
    "for i in product_tags2:\n",
    "    product=i.text\n",
    "    product_desc.append(product)\n",
    "product_desc[80]"
   ]
  },
  {
   "cell_type": "code",
   "execution_count": 187,
   "metadata": {},
   "outputs": [
    {
     "data": {
      "text/plain": [
       "[<selenium.webdriver.remote.webelement.WebElement (session=\"a1e6ed81a797ce1f50965697ed4b263b\", element=\"0edda9c5-4c31-497c-a7b7-8703cefdb79a\")>,\n",
       " <selenium.webdriver.remote.webelement.WebElement (session=\"a1e6ed81a797ce1f50965697ed4b263b\", element=\"e3527b94-0bc5-45e2-88da-3c64cf231160\")>]"
      ]
     },
     "execution_count": 187,
     "metadata": {},
     "output_type": "execute_result"
    }
   ],
   "source": [
    "price_tags2=driver.find_elements_by_xpath(\"//div[@class='_30jeq3']\")\n",
    "price_tags2[0:2]"
   ]
  },
  {
   "cell_type": "code",
   "execution_count": 188,
   "metadata": {},
   "outputs": [
    {
     "data": {
      "text/plain": [
       "'₹449'"
      ]
     },
     "execution_count": 188,
     "metadata": {},
     "output_type": "execute_result"
    }
   ],
   "source": [
    "for i in price_tags2:\n",
    "    price=i.text\n",
    "    price_rs.append(price)\n",
    "price_rs[80]"
   ]
  },
  {
   "cell_type": "code",
   "execution_count": 189,
   "metadata": {},
   "outputs": [
    {
     "data": {
      "text/plain": [
       "[<selenium.webdriver.remote.webelement.WebElement (session=\"a1e6ed81a797ce1f50965697ed4b263b\", element=\"674aed11-164a-40f5-8824-d4fd13bd74ae\")>,\n",
       " <selenium.webdriver.remote.webelement.WebElement (session=\"a1e6ed81a797ce1f50965697ed4b263b\", element=\"6bbf0e4e-3215-4139-b464-8e6dcef35803\")>]"
      ]
     },
     "execution_count": 189,
     "metadata": {},
     "output_type": "execute_result"
    }
   ],
   "source": [
    "discount_tags2=driver.find_elements_by_xpath(\"//div[@class='_3Ay6Sb']\")\n",
    "discount_tags2[0:2]"
   ]
  },
  {
   "cell_type": "code",
   "execution_count": 190,
   "metadata": {},
   "outputs": [
    {
     "data": {
      "text/plain": [
       "'10% off'"
      ]
     },
     "execution_count": 190,
     "metadata": {},
     "output_type": "execute_result"
    }
   ],
   "source": [
    "for i in discount_tags2:\n",
    "    discount=i.text\n",
    "    discount_rate.append(discount)\n",
    "discount_rate[80]"
   ]
  },
  {
   "cell_type": "code",
   "execution_count": 191,
   "metadata": {},
   "outputs": [],
   "source": [
    "import pandas as pd\n",
    "sneakers=pd.DataFrame({})\n",
    "sneakers['Brand']=brand_name[0:100]\n",
    "sneakers['Product description']=product_desc[0:100]\n",
    "sneakers['Price']=price_rs[0:100]\n",
    "sneakers['Discount']=discount_rate[0:100]"
   ]
  },
  {
   "cell_type": "code",
   "execution_count": 192,
   "metadata": {},
   "outputs": [
    {
     "data": {
      "text/html": [
       "<div>\n",
       "<style scoped>\n",
       "    .dataframe tbody tr th:only-of-type {\n",
       "        vertical-align: middle;\n",
       "    }\n",
       "\n",
       "    .dataframe tbody tr th {\n",
       "        vertical-align: top;\n",
       "    }\n",
       "\n",
       "    .dataframe thead th {\n",
       "        text-align: right;\n",
       "    }\n",
       "</style>\n",
       "<table border=\"1\" class=\"dataframe\">\n",
       "  <thead>\n",
       "    <tr style=\"text-align: right;\">\n",
       "      <th></th>\n",
       "      <th>Brand</th>\n",
       "      <th>Product description</th>\n",
       "      <th>Price</th>\n",
       "      <th>Discount</th>\n",
       "    </tr>\n",
       "  </thead>\n",
       "  <tbody>\n",
       "    <tr>\n",
       "      <th>0</th>\n",
       "      <td>TR</td>\n",
       "      <td>Sneakers For Men</td>\n",
       "      <td>₹449</td>\n",
       "      <td>77% off</td>\n",
       "    </tr>\n",
       "    <tr>\n",
       "      <th>1</th>\n",
       "      <td>Kraasa</td>\n",
       "      <td>Knitted Socks Casuals Sneakers For Men</td>\n",
       "      <td>₹499</td>\n",
       "      <td>50% off</td>\n",
       "    </tr>\n",
       "    <tr>\n",
       "      <th>2</th>\n",
       "      <td>Chevit</td>\n",
       "      <td>Combo Pack of 4 Casual Sneakers With Sneakers ...</td>\n",
       "      <td>₹579</td>\n",
       "      <td>70% off</td>\n",
       "    </tr>\n",
       "    <tr>\n",
       "      <th>3</th>\n",
       "      <td>Chevit</td>\n",
       "      <td>171 Smart Tan Lace-Ups Casuals for Men Sneaker...</td>\n",
       "      <td>₹273</td>\n",
       "      <td>45% off</td>\n",
       "    </tr>\n",
       "    <tr>\n",
       "      <th>4</th>\n",
       "      <td>Robbie jones</td>\n",
       "      <td>Casual Sneakers Shoes For Men Sneakers For Men</td>\n",
       "      <td>₹399</td>\n",
       "      <td>60% off</td>\n",
       "    </tr>\n",
       "    <tr>\n",
       "      <th>...</th>\n",
       "      <td>...</td>\n",
       "      <td>...</td>\n",
       "      <td>...</td>\n",
       "      <td>...</td>\n",
       "    </tr>\n",
       "    <tr>\n",
       "      <th>95</th>\n",
       "      <td>Edoeviv</td>\n",
       "      <td>Sneakers Sneakers For Men</td>\n",
       "      <td>₹378</td>\n",
       "      <td>45% off</td>\n",
       "    </tr>\n",
       "    <tr>\n",
       "      <th>96</th>\n",
       "      <td>Jack Diamond</td>\n",
       "      <td>Sneakers For Men</td>\n",
       "      <td>₹630</td>\n",
       "      <td>36% off</td>\n",
       "    </tr>\n",
       "    <tr>\n",
       "      <th>97</th>\n",
       "      <td>Rockfield</td>\n",
       "      <td>Sneakers For Men</td>\n",
       "      <td>₹439</td>\n",
       "      <td>56% off</td>\n",
       "    </tr>\n",
       "    <tr>\n",
       "      <th>98</th>\n",
       "      <td>Birde</td>\n",
       "      <td>Combo Pack of 2 Casual Shoes Sneakers For Men</td>\n",
       "      <td>₹599</td>\n",
       "      <td>40% off</td>\n",
       "    </tr>\n",
       "    <tr>\n",
       "      <th>99</th>\n",
       "      <td>Xtep</td>\n",
       "      <td>Sneakers For Men</td>\n",
       "      <td>₹4,249</td>\n",
       "      <td>15% off</td>\n",
       "    </tr>\n",
       "  </tbody>\n",
       "</table>\n",
       "<p>100 rows × 4 columns</p>\n",
       "</div>"
      ],
      "text/plain": [
       "           Brand                                Product description   Price  \\\n",
       "0             TR                                   Sneakers For Men    ₹449   \n",
       "1         Kraasa             Knitted Socks Casuals Sneakers For Men    ₹499   \n",
       "2         Chevit  Combo Pack of 4 Casual Sneakers With Sneakers ...    ₹579   \n",
       "3         Chevit  171 Smart Tan Lace-Ups Casuals for Men Sneaker...    ₹273   \n",
       "4   Robbie jones     Casual Sneakers Shoes For Men Sneakers For Men    ₹399   \n",
       "..           ...                                                ...     ...   \n",
       "95       Edoeviv                          Sneakers Sneakers For Men    ₹378   \n",
       "96  Jack Diamond                                   Sneakers For Men    ₹630   \n",
       "97     Rockfield                                   Sneakers For Men    ₹439   \n",
       "98         Birde      Combo Pack of 2 Casual Shoes Sneakers For Men    ₹599   \n",
       "99          Xtep                                   Sneakers For Men  ₹4,249   \n",
       "\n",
       "   Discount  \n",
       "0   77% off  \n",
       "1   50% off  \n",
       "2   70% off  \n",
       "3   45% off  \n",
       "4   60% off  \n",
       "..      ...  \n",
       "95  45% off  \n",
       "96  36% off  \n",
       "97  56% off  \n",
       "98  40% off  \n",
       "99  15% off  \n",
       "\n",
       "[100 rows x 4 columns]"
      ]
     },
     "execution_count": 192,
     "metadata": {},
     "output_type": "execute_result"
    }
   ],
   "source": [
    "sneakers"
   ]
  },
  {
   "cell_type": "code",
   "execution_count": 193,
   "metadata": {},
   "outputs": [],
   "source": [
    "driver.close()"
   ]
  },
  {
   "cell_type": "markdown",
   "metadata": {},
   "source": [
    "# 9"
   ]
  },
  {
   "cell_type": "code",
   "execution_count": 194,
   "metadata": {},
   "outputs": [],
   "source": [
    "driver=webdriver.Edge(r\"C:\\Users\\srinj\\OneDrive\\Documents\\EGDownloads\\edgedriver_win64\\msedgedriver.exe\")"
   ]
  },
  {
   "cell_type": "code",
   "execution_count": 195,
   "metadata": {},
   "outputs": [],
   "source": [
    "url=\"https://www.myntra.com/shoes\""
   ]
  },
  {
   "cell_type": "code",
   "execution_count": 196,
   "metadata": {},
   "outputs": [],
   "source": [
    "driver.get(url)"
   ]
  },
  {
   "cell_type": "code",
   "execution_count": 202,
   "metadata": {},
   "outputs": [
    {
     "ename": "ElementClickInterceptedException",
     "evalue": "Message: element click intercepted: Element <div class=\"common-checkboxIndicator\"></div> is not clickable at point (33, 8). Other element would receive the click: <div class=\"desktop-logoContainer\" data-reactid=\"15\">...</div>\n  (Session info: MicrosoftEdge=87.0.664.55)\n",
     "output_type": "error",
     "traceback": [
      "\u001b[1;31m---------------------------------------------------------------------------\u001b[0m",
      "\u001b[1;31mElementClickInterceptedException\u001b[0m          Traceback (most recent call last)",
      "\u001b[1;32m<ipython-input-202-c6367895b628>\u001b[0m in \u001b[0;36m<module>\u001b[1;34m\u001b[0m\n\u001b[1;32m----> 1\u001b[1;33m \u001b[0mdriver\u001b[0m\u001b[1;33m.\u001b[0m\u001b[0mfind_element_by_xpath\u001b[0m\u001b[1;33m(\u001b[0m\u001b[1;34m'//div[@class=\"common-checkboxIndicator\"]'\u001b[0m\u001b[1;33m)\u001b[0m\u001b[1;33m.\u001b[0m\u001b[0mclick\u001b[0m\u001b[1;33m(\u001b[0m\u001b[1;33m)\u001b[0m\u001b[1;33m\u001b[0m\u001b[1;33m\u001b[0m\u001b[0m\n\u001b[0m",
      "\u001b[1;32mC:\\ProgramData\\Anaconda3\\lib\\site-packages\\selenium\\webdriver\\remote\\webelement.py\u001b[0m in \u001b[0;36mclick\u001b[1;34m(self)\u001b[0m\n\u001b[0;32m     78\u001b[0m     \u001b[1;32mdef\u001b[0m \u001b[0mclick\u001b[0m\u001b[1;33m(\u001b[0m\u001b[0mself\u001b[0m\u001b[1;33m)\u001b[0m\u001b[1;33m:\u001b[0m\u001b[1;33m\u001b[0m\u001b[1;33m\u001b[0m\u001b[0m\n\u001b[0;32m     79\u001b[0m         \u001b[1;34m\"\"\"Clicks the element.\"\"\"\u001b[0m\u001b[1;33m\u001b[0m\u001b[1;33m\u001b[0m\u001b[0m\n\u001b[1;32m---> 80\u001b[1;33m         \u001b[0mself\u001b[0m\u001b[1;33m.\u001b[0m\u001b[0m_execute\u001b[0m\u001b[1;33m(\u001b[0m\u001b[0mCommand\u001b[0m\u001b[1;33m.\u001b[0m\u001b[0mCLICK_ELEMENT\u001b[0m\u001b[1;33m)\u001b[0m\u001b[1;33m\u001b[0m\u001b[1;33m\u001b[0m\u001b[0m\n\u001b[0m\u001b[0;32m     81\u001b[0m \u001b[1;33m\u001b[0m\u001b[0m\n\u001b[0;32m     82\u001b[0m     \u001b[1;32mdef\u001b[0m \u001b[0msubmit\u001b[0m\u001b[1;33m(\u001b[0m\u001b[0mself\u001b[0m\u001b[1;33m)\u001b[0m\u001b[1;33m:\u001b[0m\u001b[1;33m\u001b[0m\u001b[1;33m\u001b[0m\u001b[0m\n",
      "\u001b[1;32mC:\\ProgramData\\Anaconda3\\lib\\site-packages\\selenium\\webdriver\\remote\\webelement.py\u001b[0m in \u001b[0;36m_execute\u001b[1;34m(self, command, params)\u001b[0m\n\u001b[0;32m    631\u001b[0m             \u001b[0mparams\u001b[0m \u001b[1;33m=\u001b[0m \u001b[1;33m{\u001b[0m\u001b[1;33m}\u001b[0m\u001b[1;33m\u001b[0m\u001b[1;33m\u001b[0m\u001b[0m\n\u001b[0;32m    632\u001b[0m         \u001b[0mparams\u001b[0m\u001b[1;33m[\u001b[0m\u001b[1;34m'id'\u001b[0m\u001b[1;33m]\u001b[0m \u001b[1;33m=\u001b[0m \u001b[0mself\u001b[0m\u001b[1;33m.\u001b[0m\u001b[0m_id\u001b[0m\u001b[1;33m\u001b[0m\u001b[1;33m\u001b[0m\u001b[0m\n\u001b[1;32m--> 633\u001b[1;33m         \u001b[1;32mreturn\u001b[0m \u001b[0mself\u001b[0m\u001b[1;33m.\u001b[0m\u001b[0m_parent\u001b[0m\u001b[1;33m.\u001b[0m\u001b[0mexecute\u001b[0m\u001b[1;33m(\u001b[0m\u001b[0mcommand\u001b[0m\u001b[1;33m,\u001b[0m \u001b[0mparams\u001b[0m\u001b[1;33m)\u001b[0m\u001b[1;33m\u001b[0m\u001b[1;33m\u001b[0m\u001b[0m\n\u001b[0m\u001b[0;32m    634\u001b[0m \u001b[1;33m\u001b[0m\u001b[0m\n\u001b[0;32m    635\u001b[0m     \u001b[1;32mdef\u001b[0m \u001b[0mfind_element\u001b[0m\u001b[1;33m(\u001b[0m\u001b[0mself\u001b[0m\u001b[1;33m,\u001b[0m \u001b[0mby\u001b[0m\u001b[1;33m=\u001b[0m\u001b[0mBy\u001b[0m\u001b[1;33m.\u001b[0m\u001b[0mID\u001b[0m\u001b[1;33m,\u001b[0m \u001b[0mvalue\u001b[0m\u001b[1;33m=\u001b[0m\u001b[1;32mNone\u001b[0m\u001b[1;33m)\u001b[0m\u001b[1;33m:\u001b[0m\u001b[1;33m\u001b[0m\u001b[1;33m\u001b[0m\u001b[0m\n",
      "\u001b[1;32mC:\\ProgramData\\Anaconda3\\lib\\site-packages\\selenium\\webdriver\\remote\\webdriver.py\u001b[0m in \u001b[0;36mexecute\u001b[1;34m(self, driver_command, params)\u001b[0m\n\u001b[0;32m    319\u001b[0m         \u001b[0mresponse\u001b[0m \u001b[1;33m=\u001b[0m \u001b[0mself\u001b[0m\u001b[1;33m.\u001b[0m\u001b[0mcommand_executor\u001b[0m\u001b[1;33m.\u001b[0m\u001b[0mexecute\u001b[0m\u001b[1;33m(\u001b[0m\u001b[0mdriver_command\u001b[0m\u001b[1;33m,\u001b[0m \u001b[0mparams\u001b[0m\u001b[1;33m)\u001b[0m\u001b[1;33m\u001b[0m\u001b[1;33m\u001b[0m\u001b[0m\n\u001b[0;32m    320\u001b[0m         \u001b[1;32mif\u001b[0m \u001b[0mresponse\u001b[0m\u001b[1;33m:\u001b[0m\u001b[1;33m\u001b[0m\u001b[1;33m\u001b[0m\u001b[0m\n\u001b[1;32m--> 321\u001b[1;33m             \u001b[0mself\u001b[0m\u001b[1;33m.\u001b[0m\u001b[0merror_handler\u001b[0m\u001b[1;33m.\u001b[0m\u001b[0mcheck_response\u001b[0m\u001b[1;33m(\u001b[0m\u001b[0mresponse\u001b[0m\u001b[1;33m)\u001b[0m\u001b[1;33m\u001b[0m\u001b[1;33m\u001b[0m\u001b[0m\n\u001b[0m\u001b[0;32m    322\u001b[0m             response['value'] = self._unwrap_value(\n\u001b[0;32m    323\u001b[0m                 response.get('value', None))\n",
      "\u001b[1;32mC:\\ProgramData\\Anaconda3\\lib\\site-packages\\selenium\\webdriver\\remote\\errorhandler.py\u001b[0m in \u001b[0;36mcheck_response\u001b[1;34m(self, response)\u001b[0m\n\u001b[0;32m    240\u001b[0m                 \u001b[0malert_text\u001b[0m \u001b[1;33m=\u001b[0m \u001b[0mvalue\u001b[0m\u001b[1;33m[\u001b[0m\u001b[1;34m'alert'\u001b[0m\u001b[1;33m]\u001b[0m\u001b[1;33m.\u001b[0m\u001b[0mget\u001b[0m\u001b[1;33m(\u001b[0m\u001b[1;34m'text'\u001b[0m\u001b[1;33m)\u001b[0m\u001b[1;33m\u001b[0m\u001b[1;33m\u001b[0m\u001b[0m\n\u001b[0;32m    241\u001b[0m             \u001b[1;32mraise\u001b[0m \u001b[0mexception_class\u001b[0m\u001b[1;33m(\u001b[0m\u001b[0mmessage\u001b[0m\u001b[1;33m,\u001b[0m \u001b[0mscreen\u001b[0m\u001b[1;33m,\u001b[0m \u001b[0mstacktrace\u001b[0m\u001b[1;33m,\u001b[0m \u001b[0malert_text\u001b[0m\u001b[1;33m)\u001b[0m\u001b[1;33m\u001b[0m\u001b[1;33m\u001b[0m\u001b[0m\n\u001b[1;32m--> 242\u001b[1;33m         \u001b[1;32mraise\u001b[0m \u001b[0mexception_class\u001b[0m\u001b[1;33m(\u001b[0m\u001b[0mmessage\u001b[0m\u001b[1;33m,\u001b[0m \u001b[0mscreen\u001b[0m\u001b[1;33m,\u001b[0m \u001b[0mstacktrace\u001b[0m\u001b[1;33m)\u001b[0m\u001b[1;33m\u001b[0m\u001b[1;33m\u001b[0m\u001b[0m\n\u001b[0m\u001b[0;32m    243\u001b[0m \u001b[1;33m\u001b[0m\u001b[0m\n\u001b[0;32m    244\u001b[0m     \u001b[1;32mdef\u001b[0m \u001b[0m_value_or_default\u001b[0m\u001b[1;33m(\u001b[0m\u001b[0mself\u001b[0m\u001b[1;33m,\u001b[0m \u001b[0mobj\u001b[0m\u001b[1;33m,\u001b[0m \u001b[0mkey\u001b[0m\u001b[1;33m,\u001b[0m \u001b[0mdefault\u001b[0m\u001b[1;33m)\u001b[0m\u001b[1;33m:\u001b[0m\u001b[1;33m\u001b[0m\u001b[1;33m\u001b[0m\u001b[0m\n",
      "\u001b[1;31mElementClickInterceptedException\u001b[0m: Message: element click intercepted: Element <div class=\"common-checkboxIndicator\"></div> is not clickable at point (33, 8). Other element would receive the click: <div class=\"desktop-logoContainer\" data-reactid=\"15\">...</div>\n  (Session info: MicrosoftEdge=87.0.664.55)\n"
     ]
    }
   ],
   "source": [
    "driver.find_element_by_xpath('//div[@class=\"common-checkboxIndicator\"]').click()"
   ]
  },
  {
   "cell_type": "markdown",
   "metadata": {},
   "source": [
    "# 10"
   ]
  },
  {
   "cell_type": "code",
   "execution_count": 203,
   "metadata": {},
   "outputs": [],
   "source": [
    "driver=webdriver.Edge(r\"C:\\Users\\srinj\\OneDrive\\Documents\\EGDownloads\\edgedriver_win64\\msedgedriver.exe\")"
   ]
  },
  {
   "cell_type": "code",
   "execution_count": 204,
   "metadata": {},
   "outputs": [],
   "source": [
    "url=\"https://www.amazon.in/\""
   ]
  },
  {
   "cell_type": "code",
   "execution_count": 206,
   "metadata": {},
   "outputs": [],
   "source": [
    "driver.get(url)"
   ]
  },
  {
   "cell_type": "code",
   "execution_count": 209,
   "metadata": {},
   "outputs": [],
   "source": [
    "driver.find_element_by_xpath('//input[@id=\"twotabsearchtextbox\"]').send_keys('Laptop')"
   ]
  },
  {
   "cell_type": "code",
   "execution_count": 212,
   "metadata": {},
   "outputs": [],
   "source": [
    "driver.find_element_by_xpath('//input[@type=\"submit\" and @value=\"Go\"]').click()"
   ]
  },
  {
   "cell_type": "code",
   "execution_count": 214,
   "metadata": {},
   "outputs": [
    {
     "ename": "NoSuchElementException",
     "evalue": "Message: no such element: Unable to locate element: {\"method\":\"xpath\",\"selector\":\"//a[@href=\"https://www.amazon.in/s?k=Laptop&rh=n%3A1375424031%2Cp_n_feature_thirteen_browse-bin%3A16757432031&dc&qid=1607276809&rnid=12598141031&ref=sr_nr_p_n_feature_thirteen_browse-bin_17\"]\"}\n  (Session info: MicrosoftEdge=87.0.664.55)\n",
     "output_type": "error",
     "traceback": [
      "\u001b[1;31m---------------------------------------------------------------------------\u001b[0m",
      "\u001b[1;31mNoSuchElementException\u001b[0m                    Traceback (most recent call last)",
      "\u001b[1;32m<ipython-input-214-631139e40992>\u001b[0m in \u001b[0;36m<module>\u001b[1;34m\u001b[0m\n\u001b[1;32m----> 1\u001b[1;33m \u001b[0mdriver\u001b[0m\u001b[1;33m.\u001b[0m\u001b[0mfind_element_by_xpath\u001b[0m\u001b[1;33m(\u001b[0m\u001b[1;34m'//a[@href=\"https://www.amazon.in/s?k=Laptop&rh=n%3A1375424031%2Cp_n_feature_thirteen_browse-bin%3A16757432031&dc&qid=1607276809&rnid=12598141031&ref=sr_nr_p_n_feature_thirteen_browse-bin_17\"]'\u001b[0m\u001b[1;33m)\u001b[0m\u001b[1;33m.\u001b[0m\u001b[0mclick\u001b[0m\u001b[1;33m(\u001b[0m\u001b[1;33m)\u001b[0m\u001b[1;33m\u001b[0m\u001b[1;33m\u001b[0m\u001b[0m\n\u001b[0m",
      "\u001b[1;32mC:\\ProgramData\\Anaconda3\\lib\\site-packages\\selenium\\webdriver\\remote\\webdriver.py\u001b[0m in \u001b[0;36mfind_element_by_xpath\u001b[1;34m(self, xpath)\u001b[0m\n\u001b[0;32m    392\u001b[0m             \u001b[0melement\u001b[0m \u001b[1;33m=\u001b[0m \u001b[0mdriver\u001b[0m\u001b[1;33m.\u001b[0m\u001b[0mfind_element_by_xpath\u001b[0m\u001b[1;33m(\u001b[0m\u001b[1;34m'//div/td[1]'\u001b[0m\u001b[1;33m)\u001b[0m\u001b[1;33m\u001b[0m\u001b[1;33m\u001b[0m\u001b[0m\n\u001b[0;32m    393\u001b[0m         \"\"\"\n\u001b[1;32m--> 394\u001b[1;33m         \u001b[1;32mreturn\u001b[0m \u001b[0mself\u001b[0m\u001b[1;33m.\u001b[0m\u001b[0mfind_element\u001b[0m\u001b[1;33m(\u001b[0m\u001b[0mby\u001b[0m\u001b[1;33m=\u001b[0m\u001b[0mBy\u001b[0m\u001b[1;33m.\u001b[0m\u001b[0mXPATH\u001b[0m\u001b[1;33m,\u001b[0m \u001b[0mvalue\u001b[0m\u001b[1;33m=\u001b[0m\u001b[0mxpath\u001b[0m\u001b[1;33m)\u001b[0m\u001b[1;33m\u001b[0m\u001b[1;33m\u001b[0m\u001b[0m\n\u001b[0m\u001b[0;32m    395\u001b[0m \u001b[1;33m\u001b[0m\u001b[0m\n\u001b[0;32m    396\u001b[0m     \u001b[1;32mdef\u001b[0m \u001b[0mfind_elements_by_xpath\u001b[0m\u001b[1;33m(\u001b[0m\u001b[0mself\u001b[0m\u001b[1;33m,\u001b[0m \u001b[0mxpath\u001b[0m\u001b[1;33m)\u001b[0m\u001b[1;33m:\u001b[0m\u001b[1;33m\u001b[0m\u001b[1;33m\u001b[0m\u001b[0m\n",
      "\u001b[1;32mC:\\ProgramData\\Anaconda3\\lib\\site-packages\\selenium\\webdriver\\remote\\webdriver.py\u001b[0m in \u001b[0;36mfind_element\u001b[1;34m(self, by, value)\u001b[0m\n\u001b[0;32m    976\u001b[0m         return self.execute(Command.FIND_ELEMENT, {\n\u001b[0;32m    977\u001b[0m             \u001b[1;34m'using'\u001b[0m\u001b[1;33m:\u001b[0m \u001b[0mby\u001b[0m\u001b[1;33m,\u001b[0m\u001b[1;33m\u001b[0m\u001b[1;33m\u001b[0m\u001b[0m\n\u001b[1;32m--> 978\u001b[1;33m             'value': value})['value']\n\u001b[0m\u001b[0;32m    979\u001b[0m \u001b[1;33m\u001b[0m\u001b[0m\n\u001b[0;32m    980\u001b[0m     \u001b[1;32mdef\u001b[0m \u001b[0mfind_elements\u001b[0m\u001b[1;33m(\u001b[0m\u001b[0mself\u001b[0m\u001b[1;33m,\u001b[0m \u001b[0mby\u001b[0m\u001b[1;33m=\u001b[0m\u001b[0mBy\u001b[0m\u001b[1;33m.\u001b[0m\u001b[0mID\u001b[0m\u001b[1;33m,\u001b[0m \u001b[0mvalue\u001b[0m\u001b[1;33m=\u001b[0m\u001b[1;32mNone\u001b[0m\u001b[1;33m)\u001b[0m\u001b[1;33m:\u001b[0m\u001b[1;33m\u001b[0m\u001b[1;33m\u001b[0m\u001b[0m\n",
      "\u001b[1;32mC:\\ProgramData\\Anaconda3\\lib\\site-packages\\selenium\\webdriver\\remote\\webdriver.py\u001b[0m in \u001b[0;36mexecute\u001b[1;34m(self, driver_command, params)\u001b[0m\n\u001b[0;32m    319\u001b[0m         \u001b[0mresponse\u001b[0m \u001b[1;33m=\u001b[0m \u001b[0mself\u001b[0m\u001b[1;33m.\u001b[0m\u001b[0mcommand_executor\u001b[0m\u001b[1;33m.\u001b[0m\u001b[0mexecute\u001b[0m\u001b[1;33m(\u001b[0m\u001b[0mdriver_command\u001b[0m\u001b[1;33m,\u001b[0m \u001b[0mparams\u001b[0m\u001b[1;33m)\u001b[0m\u001b[1;33m\u001b[0m\u001b[1;33m\u001b[0m\u001b[0m\n\u001b[0;32m    320\u001b[0m         \u001b[1;32mif\u001b[0m \u001b[0mresponse\u001b[0m\u001b[1;33m:\u001b[0m\u001b[1;33m\u001b[0m\u001b[1;33m\u001b[0m\u001b[0m\n\u001b[1;32m--> 321\u001b[1;33m             \u001b[0mself\u001b[0m\u001b[1;33m.\u001b[0m\u001b[0merror_handler\u001b[0m\u001b[1;33m.\u001b[0m\u001b[0mcheck_response\u001b[0m\u001b[1;33m(\u001b[0m\u001b[0mresponse\u001b[0m\u001b[1;33m)\u001b[0m\u001b[1;33m\u001b[0m\u001b[1;33m\u001b[0m\u001b[0m\n\u001b[0m\u001b[0;32m    322\u001b[0m             response['value'] = self._unwrap_value(\n\u001b[0;32m    323\u001b[0m                 response.get('value', None))\n",
      "\u001b[1;32mC:\\ProgramData\\Anaconda3\\lib\\site-packages\\selenium\\webdriver\\remote\\errorhandler.py\u001b[0m in \u001b[0;36mcheck_response\u001b[1;34m(self, response)\u001b[0m\n\u001b[0;32m    240\u001b[0m                 \u001b[0malert_text\u001b[0m \u001b[1;33m=\u001b[0m \u001b[0mvalue\u001b[0m\u001b[1;33m[\u001b[0m\u001b[1;34m'alert'\u001b[0m\u001b[1;33m]\u001b[0m\u001b[1;33m.\u001b[0m\u001b[0mget\u001b[0m\u001b[1;33m(\u001b[0m\u001b[1;34m'text'\u001b[0m\u001b[1;33m)\u001b[0m\u001b[1;33m\u001b[0m\u001b[1;33m\u001b[0m\u001b[0m\n\u001b[0;32m    241\u001b[0m             \u001b[1;32mraise\u001b[0m \u001b[0mexception_class\u001b[0m\u001b[1;33m(\u001b[0m\u001b[0mmessage\u001b[0m\u001b[1;33m,\u001b[0m \u001b[0mscreen\u001b[0m\u001b[1;33m,\u001b[0m \u001b[0mstacktrace\u001b[0m\u001b[1;33m,\u001b[0m \u001b[0malert_text\u001b[0m\u001b[1;33m)\u001b[0m\u001b[1;33m\u001b[0m\u001b[1;33m\u001b[0m\u001b[0m\n\u001b[1;32m--> 242\u001b[1;33m         \u001b[1;32mraise\u001b[0m \u001b[0mexception_class\u001b[0m\u001b[1;33m(\u001b[0m\u001b[0mmessage\u001b[0m\u001b[1;33m,\u001b[0m \u001b[0mscreen\u001b[0m\u001b[1;33m,\u001b[0m \u001b[0mstacktrace\u001b[0m\u001b[1;33m)\u001b[0m\u001b[1;33m\u001b[0m\u001b[1;33m\u001b[0m\u001b[0m\n\u001b[0m\u001b[0;32m    243\u001b[0m \u001b[1;33m\u001b[0m\u001b[0m\n\u001b[0;32m    244\u001b[0m     \u001b[1;32mdef\u001b[0m \u001b[0m_value_or_default\u001b[0m\u001b[1;33m(\u001b[0m\u001b[0mself\u001b[0m\u001b[1;33m,\u001b[0m \u001b[0mobj\u001b[0m\u001b[1;33m,\u001b[0m \u001b[0mkey\u001b[0m\u001b[1;33m,\u001b[0m \u001b[0mdefault\u001b[0m\u001b[1;33m)\u001b[0m\u001b[1;33m:\u001b[0m\u001b[1;33m\u001b[0m\u001b[1;33m\u001b[0m\u001b[0m\n",
      "\u001b[1;31mNoSuchElementException\u001b[0m: Message: no such element: Unable to locate element: {\"method\":\"xpath\",\"selector\":\"//a[@href=\"https://www.amazon.in/s?k=Laptop&rh=n%3A1375424031%2Cp_n_feature_thirteen_browse-bin%3A16757432031&dc&qid=1607276809&rnid=12598141031&ref=sr_nr_p_n_feature_thirteen_browse-bin_17\"]\"}\n  (Session info: MicrosoftEdge=87.0.664.55)\n"
     ]
    }
   ],
   "source": [
    "driver.find_element_by_xpath('//a[@href=\"https://www.amazon.in/s?k=Laptop&rh=n%3A1375424031%2Cp_n_feature_thirteen_browse-bin%3A16757432031&dc&qid=1607276809&rnid=12598141031&ref=sr_nr_p_n_feature_thirteen_browse-bin_17\"]').click()"
   ]
  }
 ],
 "metadata": {
  "kernelspec": {
   "display_name": "Python 3",
   "language": "python",
   "name": "python3"
  },
  "language_info": {
   "codemirror_mode": {
    "name": "ipython",
    "version": 3
   },
   "file_extension": ".py",
   "mimetype": "text/x-python",
   "name": "python",
   "nbconvert_exporter": "python",
   "pygments_lexer": "ipython3",
   "version": "3.7.6"
  }
 },
 "nbformat": 4,
 "nbformat_minor": 4
}
